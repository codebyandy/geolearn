{
 "cells": [
  {
   "cell_type": "code",
   "execution_count": 2,
   "metadata": {},
   "outputs": [
    {
     "name": "stdout",
     "output_type": "stream",
     "text": [
      "load rnnSMAP\n"
     ]
    },
    {
     "ename": "NameError",
     "evalue": "name 'figTitleLst' is not defined",
     "output_type": "error",
     "traceback": [
      "\u001b[0;31m---------------------------------------------------------------------------\u001b[0m",
      "\u001b[0;31mNameError\u001b[0m                                 Traceback (most recent call last)",
      "\u001b[0;32m<ipython-input-2-02fa886f30e7>\u001b[0m in \u001b[0;36m<module>\u001b[0;34m()\u001b[0m\n\u001b[1;32m     22\u001b[0m \u001b[0;32mfor\u001b[0m \u001b[0mk\u001b[0m \u001b[0;32min\u001b[0m \u001b[0mrange\u001b[0m\u001b[0;34m(\u001b[0m\u001b[0;36m0\u001b[0m\u001b[0;34m,\u001b[0m \u001b[0;36m3\u001b[0m\u001b[0;34m)\u001b[0m\u001b[0;34m:\u001b[0m\u001b[0;34m\u001b[0m\u001b[0m\n\u001b[1;32m     23\u001b[0m     \u001b[0;31m# k = 0\u001b[0m\u001b[0;34m\u001b[0m\u001b[0;34m\u001b[0m\u001b[0m\n\u001b[0;32m---> 24\u001b[0;31m     \u001b[0mfigTitle\u001b[0m \u001b[0;34m=\u001b[0m \u001b[0mfigTitleLst\u001b[0m\u001b[0;34m[\u001b[0m\u001b[0miFig\u001b[0m\u001b[0;34m]\u001b[0m\u001b[0;34m\u001b[0m\u001b[0m\n\u001b[0m\u001b[1;32m     25\u001b[0m     \u001b[0;32mif\u001b[0m \u001b[0mk\u001b[0m \u001b[0;34m==\u001b[0m \u001b[0;36m0\u001b[0m\u001b[0;34m:\u001b[0m\u001b[0;34m\u001b[0m\u001b[0m\n\u001b[1;32m     26\u001b[0m         \u001b[0mtestName\u001b[0m \u001b[0;34m=\u001b[0m \u001b[0;34m'CONUSv2f1'\u001b[0m\u001b[0;34m\u001b[0m\u001b[0m\n",
      "\u001b[0;31mNameError\u001b[0m: name 'figTitleLst' is not defined"
     ]
    }
   ],
   "source": [
    "import os\n",
    "import rnnSMAP\n",
    "import matplotlib.pyplot as plt\n",
    "\n",
    "import imp\n",
    "imp.reload(rnnSMAP)\n",
    "rnnSMAP.reload()\n",
    "\n",
    "trainName = 'CONUSv2f1'\n",
    "out = trainName+'_y15_Forcing'\n",
    "rootDB = rnnSMAP.kPath['DB_L3_NA']\n",
    "rootOut = rnnSMAP.kPath['OutSigma_L3_NA']\n",
    "saveFolder = os.path.join(rnnSMAP.kPath['dirResult'], 'paperSigma')\n",
    "\n",
    "#################################################\n",
    "# load data\n",
    "dsLst = list()\n",
    "statErrLst = list()\n",
    "statSigmaLst = list()\n",
    "statConfLst = list()\n",
    "\n",
    "for k in range(0, 3):\n",
    "    # k = 0\n",
    "    if k == 0:\n",
    "        testName = 'CONUSv2f1'\n",
    "        yr = [2015]\n",
    "    if k == 1:\n",
    "        testName = 'CONUSv2f1'\n",
    "        yr = [2016, 2017]\n",
    "    if k == 2:\n",
    "        testName = 'CONUSv2f2'\n",
    "        yr = [2015]\n",
    "\n",
    "    predField = 'LSTM'\n",
    "    targetField = 'SMAP'\n",
    "    ds = rnnSMAP.classDB.DatasetPost(\n",
    "        rootDB=rootDB, subsetName=testName, yrLst=yr)\n",
    "    ds.readData(var='SMAP_AM', field='SMAP')\n",
    "    ds.readPred(rootOut=rootOut, out=out, drMC=100, field='LSTM')\n",
    "    statErr = ds.statCalError(predField='LSTM', targetField='SMAP')\n",
    "    statSigma = ds.statCalSigma(field='LSTM')\n",
    "    statConf = ds.statCalConf(predField='LSTM', targetField='SMAP')\n",
    "    dsLst.append(ds)\n",
    "    statErrLst.append(statErr)\n",
    "    statSigmaLst.append(statSigma)\n",
    "    statConfLst.append(statConf)"
   ]
  },
  {
   "cell_type": "code",
   "execution_count": null,
   "metadata": {},
   "outputs": [],
   "source": [
    "fig, axes = plt.subplots(ncols=len(figTitleLst), figsize=(12, 4))\n",
    "figTitleLst = ['Training', 'Temporal Test', 'Spatial Test']\n",
    "sigmaStrLst = ['sigmaMC', 'sigmaX', 'sigma']\n",
    "\n",
    "#################################################\n",
    "# plot confidence figure\n",
    "for iFig in range(0,3):\n",
    "    figTitle = figTitleLst[iFig]\n",
    "    plotLst = list()\n",
    "    for k in range(0, len(sigmaStrLst)):\n",
    "        plotLst.append(getattr(statConf, 'conf_'+sigmaStrLst[k]))\n",
    "    legendLst = [r'$\\sigma_{mc}$', r'$\\sigma_{x}$', r'$\\sigma_{comb}$']\n",
    "    rnnSMAP.funPost.plotCDF(\n",
    "        plotLst, ax=axes[iFig], legendLst=legendLst, cLst='grbm',\n",
    "        xlabel='Predicting Confidence', ylabel='Probablity')\n",
    "    axes[iFig].set_title(figTitle"
   ]
  },
  {
   "cell_type": "code",
   "execution_count": null,
   "metadata": {},
   "outputs": [],
   "source": []
  }
 ],
 "metadata": {
  "kernelspec": {
   "display_name": "Python 3",
   "language": "python",
   "name": "python3"
  },
  "language_info": {
   "codemirror_mode": {
    "name": "ipython",
    "version": 3
   },
   "file_extension": ".py",
   "mimetype": "text/x-python",
   "name": "python",
   "nbconvert_exporter": "python",
   "pygments_lexer": "ipython3",
   "version": "3.6.6"
  }
 },
 "nbformat": 4,
 "nbformat_minor": 2
}
