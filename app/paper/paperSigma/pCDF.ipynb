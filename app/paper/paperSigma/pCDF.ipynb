{
 "cells": [
  {
   "cell_type": "code",
   "execution_count": null,
   "metadata": {},
   "outputs": [],
   "source": [
    "# load data\n",
    "import os\n",
    "import rnnSMAP\n",
    "import matplotlib\n",
    "import matplotlib.pyplot as plt\n",
    "import numpy as np\n",
    "\n",
    "import imp\n",
    "imp.reload(rnnSMAP)\n",
    "rnnSMAP.reload()\n",
    "\n",
    "trainName = 'CONUSv2f1'\n",
    "out = trainName+'_y15_Forcing_dr60'\n",
    "rootDB = rnnSMAP.kPath['DB_L3_NA']\n",
    "rootOut = rnnSMAP.kPath['OutSigma_L3_NA']"
   ]
  }
 ],
 "metadata": {
  "kernelspec": {
   "display_name": "Python 3",
   "language": "python",
   "name": "python3"
  },
  "language_info": {
   "codemirror_mode": {
    "name": "ipython",
    "version": 3
   },
   "file_extension": ".py",
   "mimetype": "text/x-python",
   "name": "python",
   "nbconvert_exporter": "python",
   "pygments_lexer": "ipython3",
   "version": "3.6.6"
  }
 },
 "nbformat": 4,
 "nbformat_minor": 2
}
