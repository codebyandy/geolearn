{
 "cells": [
  {
   "cell_type": "code",
   "execution_count": 4,
   "metadata": {},
   "outputs": [
    {
     "name": "stdout",
     "output_type": "stream",
     "text": [
      "load rnnSMAP\n"
     ]
    }
   ],
   "source": [
    "import os\n",
    "import rnnSMAP\n",
    "from rnnSMAP import runTrainLSTM\n",
    "from rnnSMAP import runTestLSTM\n",
    "import matplotlib.pyplot as plt\n",
    "import numpy as np\n",
    "import scipy\n",
    "import scipy.stats as stats\n",
    "\n",
    "import imp\n",
    "imp.reload(rnnSMAP)\n",
    "rnnSMAP.reload()\n",
    "\n",
    "#################################################\n",
    "# intervals temporal test\n",
    "doOpt = []\n",
    "doOpt.append('train')\n",
    "# doOpt.append('test')\n",
    "# doOpt.append('loadData')\n",
    "# doOpt.append('plotConf')\n",
    "# doOpt.append('plotMap')\n",
    "# doOpt.append('plotBox')\n",
    "# doOpt.append('plotVS')\n",
    "\n",
    "rootDB = rnnSMAP.kPath['DB_L3_NA']\n",
    "rootOut = rnnSMAP.kPath['OutSigma_L3_NA']\n",
    "drLst = np.arange(0.1, 1, 0.1)\n",
    "drStrLst = [\"%02d\" % (x*100) for x in drLst]\n",
    "testName = 'CONUSv2f1'\n",
    "yrLst = [2016, 2017]\n",
    "saveFolder = os.path.join(rnnSMAP.kPath['dirResult'], 'paperSigma')\n",
    "legLst = list()\n",
    "for dr in drLst:\n",
    "    legLst.append('dr='+str(dr))"
   ]
  },
  {
   "cell_type": "code",
   "execution_count": 5,
   "metadata": {},
   "outputs": [
    {
     "name": "stdout",
     "output_type": "stream",
     "text": [
      "CUDA_VISIBLE_DEVICES=0 screen -dmS CONUS_y15_Forcing_dr10 python /home/kxf227/work/GitHUB/pyRnnSMAP/rnnSMAP/runTrainLSTM.py --rootDB /mnt/sdc/rnnSMAP/Database_SMAPgrid/Daily_L3_NA --rootOut /mnt/sdb/rnnSMAP/Output_SMAPgrid/L3_NA_sigma --gpu 1 --out CONUS_y15_Forcing_dr10 --train CONUS --var varLst_Forcing --varC varConstLst_Noah --target SMAP_AM --syr 2015 --eyr 2015 --resume 0 --model cudnn --modelOpt tied+relu --hiddenSize 256 --dr 0.1 --drMethod drW --rho 30 --rhoL 30 --rhoP 0 --nbatch 100 --nEpoch 500 --saveEpoch 100 --addFlag 0 --loss sigma --lossPrior gauss\n",
      "CUDA_VISIBLE_DEVICES=1 screen -dmS CONUS_y15_Forcing_dr20 python /home/kxf227/work/GitHUB/pyRnnSMAP/rnnSMAP/runTrainLSTM.py --rootDB /mnt/sdc/rnnSMAP/Database_SMAPgrid/Daily_L3_NA --rootOut /mnt/sdb/rnnSMAP/Output_SMAPgrid/L3_NA_sigma --gpu 1 --out CONUS_y15_Forcing_dr20 --train CONUS --var varLst_Forcing --varC varConstLst_Noah --target SMAP_AM --syr 2015 --eyr 2015 --resume 0 --model cudnn --modelOpt tied+relu --hiddenSize 256 --dr 0.2 --drMethod drW --rho 30 --rhoL 30 --rhoP 0 --nbatch 100 --nEpoch 500 --saveEpoch 100 --addFlag 0 --loss sigma --lossPrior gauss\n",
      "CUDA_VISIBLE_DEVICES=2 screen -dmS CONUS_y15_Forcing_dr30 python /home/kxf227/work/GitHUB/pyRnnSMAP/rnnSMAP/runTrainLSTM.py --rootDB /mnt/sdc/rnnSMAP/Database_SMAPgrid/Daily_L3_NA --rootOut /mnt/sdb/rnnSMAP/Output_SMAPgrid/L3_NA_sigma --gpu 1 --out CONUS_y15_Forcing_dr30 --train CONUS --var varLst_Forcing --varC varConstLst_Noah --target SMAP_AM --syr 2015 --eyr 2015 --resume 0 --model cudnn --modelOpt tied+relu --hiddenSize 256 --dr 0.3 --drMethod drW --rho 30 --rhoL 30 --rhoP 0 --nbatch 100 --nEpoch 500 --saveEpoch 100 --addFlag 0 --loss sigma --lossPrior gauss\n",
      "CUDA_VISIBLE_DEVICES=0 screen -dmS CONUS_y15_Forcing_dr40 python /home/kxf227/work/GitHUB/pyRnnSMAP/rnnSMAP/runTrainLSTM.py --rootDB /mnt/sdc/rnnSMAP/Database_SMAPgrid/Daily_L3_NA --rootOut /mnt/sdb/rnnSMAP/Output_SMAPgrid/L3_NA_sigma --gpu 1 --out CONUS_y15_Forcing_dr40 --train CONUS --var varLst_Forcing --varC varConstLst_Noah --target SMAP_AM --syr 2015 --eyr 2015 --resume 0 --model cudnn --modelOpt tied+relu --hiddenSize 256 --dr 0.4 --drMethod drW --rho 30 --rhoL 30 --rhoP 0 --nbatch 100 --nEpoch 500 --saveEpoch 100 --addFlag 0 --loss sigma --lossPrior gauss\n",
      "CUDA_VISIBLE_DEVICES=1 screen -dmS CONUS_y15_Forcing_dr50 python /home/kxf227/work/GitHUB/pyRnnSMAP/rnnSMAP/runTrainLSTM.py --rootDB /mnt/sdc/rnnSMAP/Database_SMAPgrid/Daily_L3_NA --rootOut /mnt/sdb/rnnSMAP/Output_SMAPgrid/L3_NA_sigma --gpu 1 --out CONUS_y15_Forcing_dr50 --train CONUS --var varLst_Forcing --varC varConstLst_Noah --target SMAP_AM --syr 2015 --eyr 2015 --resume 0 --model cudnn --modelOpt tied+relu --hiddenSize 256 --dr 0.5 --drMethod drW --rho 30 --rhoL 30 --rhoP 0 --nbatch 100 --nEpoch 500 --saveEpoch 100 --addFlag 0 --loss sigma --lossPrior gauss\n",
      "CUDA_VISIBLE_DEVICES=2 screen -dmS CONUS_y15_Forcing_dr60 python /home/kxf227/work/GitHUB/pyRnnSMAP/rnnSMAP/runTrainLSTM.py --rootDB /mnt/sdc/rnnSMAP/Database_SMAPgrid/Daily_L3_NA --rootOut /mnt/sdb/rnnSMAP/Output_SMAPgrid/L3_NA_sigma --gpu 1 --out CONUS_y15_Forcing_dr60 --train CONUS --var varLst_Forcing --varC varConstLst_Noah --target SMAP_AM --syr 2015 --eyr 2015 --resume 0 --model cudnn --modelOpt tied+relu --hiddenSize 256 --dr 0.6 --drMethod drW --rho 30 --rhoL 30 --rhoP 0 --nbatch 100 --nEpoch 500 --saveEpoch 100 --addFlag 0 --loss sigma --lossPrior gauss\n",
      "CUDA_VISIBLE_DEVICES=0 screen -dmS CONUS_y15_Forcing_dr70 python /home/kxf227/work/GitHUB/pyRnnSMAP/rnnSMAP/runTrainLSTM.py --rootDB /mnt/sdc/rnnSMAP/Database_SMAPgrid/Daily_L3_NA --rootOut /mnt/sdb/rnnSMAP/Output_SMAPgrid/L3_NA_sigma --gpu 1 --out CONUS_y15_Forcing_dr70 --train CONUS --var varLst_Forcing --varC varConstLst_Noah --target SMAP_AM --syr 2015 --eyr 2015 --resume 0 --model cudnn --modelOpt tied+relu --hiddenSize 256 --dr 0.7 --drMethod drW --rho 30 --rhoL 30 --rhoP 0 --nbatch 100 --nEpoch 500 --saveEpoch 100 --addFlag 0 --loss sigma --lossPrior gauss\n",
      "CUDA_VISIBLE_DEVICES=1 screen -dmS CONUS_y15_Forcing_dr80 python /home/kxf227/work/GitHUB/pyRnnSMAP/rnnSMAP/runTrainLSTM.py --rootDB /mnt/sdc/rnnSMAP/Database_SMAPgrid/Daily_L3_NA --rootOut /mnt/sdb/rnnSMAP/Output_SMAPgrid/L3_NA_sigma --gpu 1 --out CONUS_y15_Forcing_dr80 --train CONUS --var varLst_Forcing --varC varConstLst_Noah --target SMAP_AM --syr 2015 --eyr 2015 --resume 0 --model cudnn --modelOpt tied+relu --hiddenSize 256 --dr 0.8 --drMethod drW --rho 30 --rhoL 30 --rhoP 0 --nbatch 100 --nEpoch 500 --saveEpoch 100 --addFlag 0 --loss sigma --lossPrior gauss\n",
      "CUDA_VISIBLE_DEVICES=2 screen -dmS CONUS_y15_Forcing_dr90 python /home/kxf227/work/GitHUB/pyRnnSMAP/rnnSMAP/runTrainLSTM.py --rootDB /mnt/sdc/rnnSMAP/Database_SMAPgrid/Daily_L3_NA --rootOut /mnt/sdb/rnnSMAP/Output_SMAPgrid/L3_NA_sigma --gpu 1 --out CONUS_y15_Forcing_dr90 --train CONUS --var varLst_Forcing --varC varConstLst_Noah --target SMAP_AM --syr 2015 --eyr 2015 --resume 0 --model cudnn --modelOpt tied+relu --hiddenSize 256 --dr 0.9 --drMethod drW --rho 30 --rhoL 30 --rhoP 0 --nbatch 100 --nEpoch 500 --saveEpoch 100 --addFlag 0 --loss sigma --lossPrior gauss\n"
     ]
    }
   ],
   "source": [
    "\n",
    "if 'train' in doOpt:\n",
    "    opt = rnnSMAP.classLSTM.optLSTM(\n",
    "        rootDB=rootDB,\n",
    "        rootOut=rootOut,\n",
    "        syr=2015, eyr=2015,\n",
    "        var='varLst_Forcing', varC='varConstLst_Noah',\n",
    "        train='CONUS', dr=0.5, modelOpt='relu',\n",
    "        model='cudnn', loss='sigma',\n",
    "    )\n",
    "    for k in range(0, len(drLst)):\n",
    "        opt['dr'] = drLst[k]\n",
    "        opt['out'] = 'CONUS_y15_Forcing_dr'+drStrLst[k]\n",
    "        cudaID = k % 3\n",
    "        runTrainLSTM.runCmdLine(\n",
    "            opt=opt, cudaID=cudaID, screenName=opt['out'])\n"
   ]
  }
 ],
 "metadata": {
  "kernelspec": {
   "display_name": "Python 3",
   "language": "python",
   "name": "python3"
  },
  "language_info": {
   "codemirror_mode": {
    "name": "ipython",
    "version": 3
   },
   "file_extension": ".py",
   "mimetype": "text/x-python",
   "name": "python",
   "nbconvert_exporter": "python",
   "pygments_lexer": "ipython3",
   "version": "3.6.6"
  }
 },
 "nbformat": 4,
 "nbformat_minor": 2
}
