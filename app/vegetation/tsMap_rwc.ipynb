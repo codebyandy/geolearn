{
 "cells": [
  {
   "cell_type": "code",
   "execution_count": 1,
   "id": "9487f3a7-27c1-4bc8-9b5b-919acc0650e6",
   "metadata": {},
   "outputs": [
    {
     "name": "stdout",
     "output_type": "stream",
     "text": [
      "loading package hydroDL\n"
     ]
    }
   ],
   "source": [
    "import os\n",
    "import pandas as pd\n",
    "import matplotlib.gridspec as gridspec\n",
    "import matplotlib.pyplot as plt\n",
    "from hydroDL.post import mapplot, axplot, figplot\n",
    "import numpy as np\n",
    "from hydroDL import kPath"
   ]
  },
  {
   "cell_type": "code",
   "execution_count": 2,
   "id": "612aa9d7-836d-424f-91de-7fc11df1fa46",
   "metadata": {},
   "outputs": [
    {
     "name": "stderr",
     "output_type": "stream",
     "text": [
      "/home/users/kuaifang/envs/pytorch/lib/python3.9/site-packages/IPython/core/interactiveshell.py:3442: DtypeWarning: Columns (7,20,22) have mixed types.Specify dtype option on import or set low_memory=False.\n",
      "  exec(code_obj, self.user_global_ns, self.user_ns)\n",
      "/tmp/ipykernel_28401/772840996.py:17: SettingWithCopyWarning: \n",
      "A value is trying to be set on a copy of a slice from a DataFrame.\n",
      "Try using .loc[row_indexer,col_indexer] = value instead\n",
      "\n",
      "See the caveats in the documentation: https://pandas.pydata.org/pandas-docs/stable/user_guide/indexing.html#returning-a-view-versus-a-copy\n",
      "  tabData['siteId'] = siteId\n"
     ]
    }
   ],
   "source": [
    "\n",
    "DIR_VEG = os.path.join(kPath.dirVeg,'data')\n",
    "\n",
    "# load LFMC\n",
    "fileLFMC = os.path.join(DIR_VEG, 'LFMC-global.csv')\n",
    "tabLFMC = pd.read_csv(fileLFMC)\n",
    "\n",
    "# date > 2015\n",
    "tabData = tabLFMC\n",
    "tabData = tabLFMC[tabLFMC['Sampling date'] > 20150101]\n",
    "tabLFMC['Sampling date'].max()\n",
    "\n",
    "\n",
    "# add site id\n",
    "temp = tabData['ID'].str.split('_', 2, expand=True)\n",
    "siteId = temp[0].str.cat(temp[1], sep='_')\n",
    "siteIdLst = siteId.unique().tolist()\n",
    "tabData['siteId'] = siteId\n",
    "\n",
    "# add spec id\n",
    "fileSpec = os.path.join(DIR_VEG, 'spec-fix')\n",
    "dfFix = pd.read_csv(fileSpec, index_col=0)\n",
    "tab = tabData.merge(dfFix, left_on='Species collected', right_index=True)\n",
    "tab[tab['Sitename'] == 'Shoshone Basin']\n",
    "len(tab)\n",
    "\n",
    "\n",
    "# with open('temp', 'w') as fp:\n",
    "#     for item in sorted(tab['try_id'].unique().tolist()):\n",
    "#         fp.write('{}, '.format(item))\n",
    "\n",
    "\n",
    "# load DMC\n",
    "fileDMC = os.path.join(DIR_VEG, 'TRY', 'DMC.csv')\n",
    "tabDMC_temp = pd.read_csv(fileDMC)\n",
    "meanDMC = tabDMC_temp.groupby(['AccSpeciesID'])['StdValue'].mean()\n",
    "medianDMC = tabDMC_temp.groupby(['AccSpeciesID'])['StdValue'].median()\n",
    "stdDMC = tabDMC_temp.groupby(['AccSpeciesID'])['StdValue'].std()\n",
    "meanDMC = meanDMC.rename('DMC')\n",
    "stdDMC = stdDMC.rename('DMC_std')\n",
    "tabDMC = pd.merge(meanDMC, stdDMC, right_index=True, left_index=True)\n",
    "tab = tab.merge(tabDMC, left_on='try_id', right_on='AccSpeciesID')\n",
    "tab['LFMC'] = tab['LFMC value'] / 100\n",
    "tab['date'] = pd.to_datetime(tab['Sampling date'], format='%Y%m%d')\n",
    "tab['RWC'] = tab['DMC'] * tab['LFMC'] / (1 - tab['DMC'])\n",
    "tab.to_csv(os.path.join(DIR_VEG, 'rwc.csv'), index=False)\n",
    "\n",
    "\n",
    "# extract sites\n",
    "tabPlot = tab[['siteId', 'date', 'try_id', 'try_spec', 'LFMC', 'RWC', 'DMC']]\n",
    "tabSite = tab[\n",
    "    ['siteId', 'Sitename', 'State/Region', 'Latitude', 'Longitude']\n",
    "].drop_duplicates()\n",
    "cntSample = tabPlot.groupby(['siteId'])['try_id'].count().reset_index('siteId')\n",
    "tabSite = tabSite.merge(cntSample, left_on='siteId', right_on='siteId')\n",
    "# save sites\n",
    "tabS = tabSite[['siteId', 'Latitude', 'Longitude']]\n",
    "tabS.to_csv(os.path.join(DIR_VEG, 'rwc_sites.csv'), index=False)"
   ]
  },
  {
   "cell_type": "code",
   "execution_count": 3,
   "id": "133f8827-f094-4787-8db8-1f8ab20039d3",
   "metadata": {},
   "outputs": [],
   "source": [
    "\n",
    "# plot ts map\n",
    "lat = tabSite['Latitude'].values\n",
    "lon = tabSite['Longitude'].values\n",
    "extentUS = [-125, -65, 25, 50]\n",
    "extentEU = [-5, 15, 40, 45]\n",
    "extentGlobal = [-180, 180, -90, 90]\n",
    "\n",
    "\n",
    "def funcM():\n",
    "    figM = plt.figure(figsize=(8, 6))\n",
    "    gsM = gridspec.GridSpec(1, 1)\n",
    "    axM = mapplot.mapPoint(\n",
    "        figM, gsM[0, 0], lat, lon, tabSite['try_id'], extent=extentGlobal\n",
    "    )\n",
    "    figP, axP = plt.subplots(2, 1)\n",
    "    return figM, axM, figP, axP, lon, lat\n",
    "\n",
    "\n",
    "def funcP(iP, axP):\n",
    "    print(iP)\n",
    "    siteId = tabSite.iloc[iP]['siteId']\n",
    "    tabData = tabPlot[tabPlot['siteId'] == siteId]\n",
    "    specLst = tabData['try_spec'].unique().tolist()\n",
    "    for spec in specLst:\n",
    "        temp = tabData[tabData['try_spec'] == spec]\n",
    "        axP[0].plot(temp['date'], temp['LFMC'], '-*', label=spec)\n",
    "        axP[1].plot(\n",
    "            temp['date'], temp['RWC'], '-*', label='{:.2f}'.format(temp.iloc[0]['DMC'])\n",
    "        )\n",
    "    axP[0].legend()\n",
    "    axP[1].legend()\n"
   ]
  },
  {
   "cell_type": "code",
   "execution_count": 4,
   "id": "75c9528e-03ea-4088-a7d5-43a4e49b7675",
   "metadata": {},
   "outputs": [],
   "source": [
    "def onclick(event, figP, axP):\n",
    "    xClick = event.xdata\n",
    "    yClick = event.ydata\n",
    "    if xClick is None or yClick is None:\n",
    "        print('click on map plz')\n",
    "        return\n",
    "    iP = findPoint(xClick, yClick, xLoc, yLoc)\n",
    "    print(iP)\n",
    "    for ax in axM.flatten():\n",
    "        [p.remove() for p in reversed(ax.patches)]\n",
    "        xc = xLoc[iP]\n",
    "        yc = yLoc[iP]\n",
    "        # if type(iP) is int:\n",
    "        #     xc = xLoc[iP]\n",
    "        #     yc = yLoc[iP]\n",
    "        # else:\n",
    "        #     xc = xLoc[iP[1]]\n",
    "        #     yc = yLoc[iP[0]]\n",
    "        circle = plt.Circle(\n",
    "            [xc, yc], cSize, color='black', fill=False)\n",
    "        ax.add_patch(circle)\n",
    "    if type(axP) is not np.ndarray:\n",
    "        axP.clear()\n",
    "    else:\n",
    "        for ax in axP.reshape(-1):\n",
    "            ax.clear()\n",
    "    funcPoint(iP, axP)\n",
    "    figM.canvas.draw()\n",
    "    figP.canvas.draw()\n"
   ]
  },
  {
   "cell_type": "code",
   "execution_count": 5,
   "id": "e454f619-d059-4253-be25-ea3800c93502",
   "metadata": {},
   "outputs": [
    {
     "data": {
      "application/vnd.jupyter.widget-view+json": {
       "model_id": "83a1a3e23ce54e62bfca96b093ab5fb9",
       "version_major": 2,
       "version_minor": 0
      },
      "image/png": "[encoded data removed]",
      "text/html": [
       "\n",
       "            <div style=\"display: inline-block;\">\n",
       "                <div class=\"jupyter-widgets widget-label\" style=\"text-align: center;\">\n",
       "                    Figure\n",
       "                </div>\n",
       "                <img src='data:image/png;base64,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' width=800.0/>\n",
       "            </div>\n",
       "        "
      ],
      "text/plain": [
       "Canvas(toolbar=Toolbar(toolitems=[('Home', 'Reset original view', 'home', 'home'), ('Back', 'Back to previous …"
      ]
     },
     "metadata": {},
     "output_type": "display_data"
    }
   ],
   "source": [
    "%matplotlib widget\n",
    "figM = plt.figure(figsize=(8, 6))\n",
    "gsM = gridspec.GridSpec(1, 1)\n",
    "# axM = mapplot.mapPoint(figM, gsM[0, 0], lat, lon, tabSite['try_id'], extent=extentGlobal)\n"
   ]
  },
  {
   "cell_type": "code",
   "execution_count": 6,
   "id": "205d3a87-6ce1-450c-ba25-8149559749d0",
   "metadata": {},
   "outputs": [
    {
     "data": {
      "image/png": "[encoded data removed]",
      "text/plain": [
       "<Figure size 800x600 with 1 Axes>"
      ]
     },
     "metadata": {},
     "output_type": "display_data"
    }
   ],
   "source": [
    "%matplotlib inline\n",
    "import numpy as np\n",
    "import matplotlib.pyplot as plt\n",
    "import cartopy.crs as ccrs\n",
    "import cartopy.feature as cfeature\n",
    "from hydroDL import utils\n",
    "fig = plt.figure(figsize=(8, 6))\n",
    "gs = gridspec.GridSpec(1, 1)\n",
    "ax = fig.add_subplot(gs[0,0])\n",
    "extent = [-125, -65, 25, 50]\n",
    "# ax.set_extent(extent)\n",
    "# ax.coastlines(resolution='auto', color='k')\n",
    "# ax.set_extent(extent, crs=ccrs.PlateCarree())\n",
    "# ax.coastlines(resolution='auto', color='k')"
   ]
  },
  {
   "cell_type": "code",
   "execution_count": null,
   "id": "0b416fd5-ee00-4094-8f51-27aa79899d0b",
   "metadata": {},
   "outputs": [],
   "source": []
  },
  {
   "cell_type": "code",
   "execution_count": null,
   "id": "940d71c1-93e1-4472-8f46-2f94b0760927",
   "metadata": {},
   "outputs": [],
   "source": []
  }
 ],
 "metadata": {
  "kernelspec": {
   "display_name": "Python 3 (ipykernel)",
   "language": "python",
   "name": "python3"
  },
  "language_info": {
   "codemirror_mode": {
    "name": "ipython",
    "version": 3
   },
   "file_extension": ".py",
   "mimetype": "text/x-python",
   "name": "python",
   "nbconvert_exporter": "python",
   "pygments_lexer": "ipython3",
   "version": "3.9.0"
  }
 },
 "nbformat": 4,
 "nbformat_minor": 5
}
