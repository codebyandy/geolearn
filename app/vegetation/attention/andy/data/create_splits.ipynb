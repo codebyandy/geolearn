{
 "cells": [
  {
   "cell_type": "markdown",
   "id": "c58e94a7-7a09-4b98-aeb5-fc24be8afd82",
   "metadata": {},
   "source": [
    "# Set-up\n"
   ]
  },
  {
   "cell_type": "code",
   "execution_count": 33,
   "id": "6bae0055-5125-4059-9fa4-65a8147d1d87",
   "metadata": {},
   "outputs": [],
   "source": [
    "import hydroDL.data.dbVeg\n",
    "from hydroDL.data import dbVeg\n",
    "import importlib\n",
    "import numpy as np\n",
    "import json\n",
    "import os\n",
    "from hydroDL import utils\n",
    "from hydroDL.post import mapplot, axplot, figplot\n",
    "import matplotlib.pyplot as plt\n",
    "from hydroDL.model import rnn, crit, trainBasin\n",
    "import math\n",
    "import torch\n",
    "from torch import nn\n",
    "from hydroDL.data import DataModel\n",
    "from hydroDL.master import basinFull, slurm, dataTs2Range\n",
    "import torch.optim as optim\n",
    "from hydroDL import kPath\n",
    "import torch.optim.lr_scheduler as lr_scheduler\n",
    "import dill\n",
    "from tqdm import tqdm\n",
    "import pandas as pd\n",
    "import pickle"
   ]
  },
  {
   "cell_type": "code",
   "execution_count": 19,
   "id": "349e15a2-02e5-442e-a27d-0191f8488f56",
   "metadata": {},
   "outputs": [],
   "source": [
    "rho = 45 # init rho\n",
    "dataName = 'singleDaily' # init dataName\n",
    "importlib.reload(hydroDL.data.dbVeg) # reimport library\n",
    "df = dbVeg.DataFrameVeg(dataName) # create DataFrameVeg class "
   ]
  },
  {
   "cell_type": "code",
   "execution_count": 20,
   "id": "f40ed988-08f0-4584-96f5-7d9488ae1a39",
   "metadata": {},
   "outputs": [
    {
     "name": "stdout",
     "output_type": "stream",
     "text": [
      "(1888, 335, 20) (335, 15) (1888, 335, 1)\n"
     ]
    }
   ],
   "source": [
    "print(df.x.shape, df.xc.shape, df.y.shape)\n",
    "# 1888: days, 335: sites"
   ]
  },
  {
   "cell_type": "code",
   "execution_count": 21,
   "id": "970b8e26-116a-4551-83dc-0cec44958f4a",
   "metadata": {},
   "outputs": [],
   "source": [
    "dm = DataModel(X=df.x, XC=df.xc, Y=df.y) # (?) create DataModel class (contains many confusing functions) \n",
    "siteIdLst = df.siteIdLst # get site list\n",
    "dm.trans(mtdDefault='minmax') # (?) some sort of data normalization\n",
    "dataTup = dm.getData() # get x, xc, y, and yc\n",
    "dataEnd, (iInd, jInd) = dataTs2Range(dataTup, rho, returnInd=True) # get data into form (# LFMC, 91 day window, varX) \n",
    "x, xc, y, yc = dataEnd # data from dataTs2Range"
   ]
  },
  {
   "cell_type": "code",
   "execution_count": 22,
   "id": "8ef1e88c-4ade-4191-9895-de77f29eb9f6",
   "metadata": {},
   "outputs": [],
   "source": [
    "iInd = np.array(iInd)\n",
    "jInd = np.array(jInd)"
   ]
  },
  {
   "cell_type": "code",
   "execution_count": 23,
   "id": "9fe243db-513f-4a5d-a617-bbdc65875453",
   "metadata": {},
   "outputs": [
    {
     "name": "stdout",
     "output_type": "stream",
     "text": [
      "(10235,) (10235,) (91, 10235, 20) (10235, 15) (10235, 1)\n"
     ]
    }
   ],
   "source": [
    "print(iInd.shape, jInd.shape, x.shape, xc.shape, yc.shape)\n",
    "# 10407: obs, 91: day window, 10235: ??"
   ]
  },
  {
   "cell_type": "code",
   "execution_count": 24,
   "id": "7e7fd804-5406-4925-9b4f-ea7daed38071",
   "metadata": {},
   "outputs": [],
   "source": [
    "# get indices of variables of interest\n",
    "varS = ['VV', 'VH', 'vh_vv']\n",
    "varL = ['SR_B2', 'SR_B3', 'SR_B4', 'SR_B5', 'SR_B6', 'ndvi', 'ndwi', 'nirv']\n",
    "varM = ['Fpar', 'Lai']\n",
    "iS = [df.varX.index(var) for var in varS]\n",
    "iL = [df.varX.index(var) for var in varL]\n",
    "iM = [df.varX.index(var) for var in varM]"
   ]
  },
  {
   "cell_type": "code",
   "execution_count": 25,
   "id": "fabcb1e9-f98e-4ee2-8bd0-890505606520",
   "metadata": {},
   "outputs": [],
   "source": [
    "# for each satellite, for each LFMC data point\n",
    "# create a list of days in the 91 day window that have data\n",
    "\n",
    "# nMat -- (# obs, # satellites)\n",
    "# nMat contains # of days each satellite has data for\n",
    "pSLst, pLLst, pMLst = list(), list(), list()\n",
    "ns = yc.shape[0]\n",
    "nMat = np.zeros([yc.shape[0], 3])\n",
    "for k in range(nMat.shape[0]):\n",
    "    tempS = x[:, k, iS] # x (rho, LFMC, varX) \n",
    "    pS = np.where(~np.isnan(tempS).any(axis=1))[0]\n",
    "    tempL = x[:, k, iL] # x (rho, LFMC, varX) \n",
    "    pL = np.where(~np.isnan(tempL).any(axis=1))[0]\n",
    "    tempM = x[:, k, iM] # x (rho, LFMC, varX) \n",
    "    pM = np.where(~np.isnan(tempM).any(axis=1))[0]\n",
    "    pSLst.append(pS)\n",
    "    pLLst.append(pL)\n",
    "    pMLst.append(pM)\n",
    "    nMat[k, :] = [len(pS), len(pL), len(pM)]"
   ]
  },
  {
   "cell_type": "code",
   "execution_count": 26,
   "id": "9759b454-836a-4127-a63c-49bb4ca1cb72",
   "metadata": {},
   "outputs": [],
   "source": [
    "# only keep data if there is at least 1 day of data for \n",
    "# each satellite\n",
    "indKeep = np.where((nMat > 0).all(axis=1))[0]\n",
    "x = x[:, indKeep, :]\n",
    "xc = xc[indKeep, :]\n",
    "yc = yc[indKeep, :]\n",
    "nMat = nMat[indKeep, :]\n",
    "pSLst = [pSLst[k] for k in indKeep]\n",
    "pLLst = [pLLst[k] for k in indKeep]\n",
    "pMLst = [pMLst[k] for k in indKeep]\n",
    "jInd = jInd[indKeep] \n",
    "\n",
    "# update from just list of sites to sites per datapoint\n",
    "siteIdLst = [siteIdLst[k] for k in jInd] "
   ]
  },
  {
   "cell_type": "code",
   "execution_count": 27,
   "id": "8cbd7b15-8e97-4d90-8cef-f3f9d182a4db",
   "metadata": {},
   "outputs": [],
   "source": [
    "jSite, count = np.unique(jInd, return_counts=True) # sites, # of times site appears\n",
    "countAry = np.array([[x, y] for y, x in sorted(zip(count, jSite))]) # rearrange"
   ]
  },
  {
   "cell_type": "markdown",
   "id": "c941182a-ff77-4831-955e-9cc6344048f7",
   "metadata": {},
   "source": [
    "# Modify threshold"
   ]
  },
  {
   "cell_type": "code",
   "execution_count": 39,
   "id": "8404749e-b70d-4c15-8642-cecbb9605c76",
   "metadata": {},
   "outputs": [],
   "source": [
    "THRESHOLD = 30\n",
    "nRm = sum(countAry[:, 1] < THRESHOLD)\n",
    "indSiteOverThresh = countAry[nRm:, 0].astype(int) \n",
    "indSiteUnderThresh = countAry[:nRm, 0].astype(int) \n",
    "\n",
    "dictSubset = dict()\n",
    "\n",
    "dictSubset['testSite_underThresh'] = indSiteUnderThresh.tolist()\n",
    "dictSubset['testInd_underThresh'] = np.where(np.isin(jInd, indSiteUnderThresh))[0].tolist()\n",
    "for k in range(5):\n",
    "    siteTest = indSiteOverThresh[k::5]\n",
    "    siteTrain = np.setdiff1d(indSiteOverThresh, siteTest)\n",
    "    indTest = np.where(np.isin(jInd, siteTest))[0]\n",
    "    indTrain = np.where(np.isin(jInd, siteTrain))[0]\n",
    "    dictSubset['testSite_k{}5'.format(k)] = siteTest.tolist()\n",
    "    dictSubset['trainSite_k{}5'.format(k)] = siteTrain.tolist()\n",
    "    dictSubset['testInd_k{}5'.format(k)] = indTest.tolist()\n",
    "    dictSubset['trainInd_k{}5'.format(k)] = indTrain.tolist()"
   ]
  },
  {
   "cell_type": "code",
   "execution_count": 40,
   "id": "60939352-6563-443d-b7b3-957539d468b9",
   "metadata": {},
   "outputs": [],
   "source": [
    "saveFolder = os.path.join(kPath.dirVeg, 'model', 'attention')\n",
    "if not os.path.exists(saveFolder):\n",
    "    os.mkdir(saveFolder)\n",
    "dataFile = os.path.join(saveFolder, 'data.npz')\n",
    "np.savez_compressed(dataFile, x=x, xc=xc, y=yc, yc=yc, tInd=iInd, siteInd=jInd)\n",
    "subsetFile = os.path.join(saveFolder, 'subset.json')\n",
    "with open(subsetFile, 'w') as fp:\n",
    "    json.dump(dictSubset, fp, indent=4)"
   ]
  },
  {
   "cell_type": "code",
   "execution_count": 35,
   "id": "3d92ddf2-cea7-4f0d-baba-70be253de1e9",
   "metadata": {},
   "outputs": [],
   "source": [
    "with open(os.path.join(kPath.dirVeg, 'threshold_dataset.pkl'), 'wb') as f: \n",
    "    pickle.dump(dictSubset, f)"
   ]
  },
  {
   "cell_type": "code",
   "execution_count": 13,
   "id": "078209ba-4e01-45ab-bf08-afd7982cd64c",
   "metadata": {},
   "outputs": [
    {
     "data": {
      "text/plain": [
       "159"
      ]
     },
     "execution_count": 13,
     "metadata": {},
     "output_type": "execute_result"
    }
   ],
   "source": [
    "len(N1)"
   ]
  },
  {
   "cell_type": "code",
   "execution_count": 14,
   "id": "af550860-0af7-4be7-8a33-4aaa9099f291",
   "metadata": {},
   "outputs": [
    {
     "data": {
      "text/plain": [
       "151"
      ]
     },
     "execution_count": 14,
     "metadata": {},
     "output_type": "execute_result"
    }
   ],
   "source": [
    "len(N2)"
   ]
  },
  {
   "cell_type": "code",
   "execution_count": 15,
   "id": "288524cb-2439-40f3-b96b-44f13aa315df",
   "metadata": {},
   "outputs": [],
   "source": [
    "N1_obs, N2_obs = 0, 0\n",
    "for site in jInd:\n",
    "    if site in N1: N1_obs += 1\n",
    "    if site in N2: N2_obs += 1"
   ]
  },
  {
   "cell_type": "code",
   "execution_count": 16,
   "id": "2c66ee90-202e-4828-8f04-bf92f2d34a0a",
   "metadata": {},
   "outputs": [
    {
     "data": {
      "text/plain": [
       "7909"
      ]
     },
     "execution_count": 16,
     "metadata": {},
     "output_type": "execute_result"
    }
   ],
   "source": [
    "N1_obs"
   ]
  },
  {
   "cell_type": "code",
   "execution_count": 17,
   "id": "4533e3c4-4bb7-42c0-9e50-bb61da6fc638",
   "metadata": {},
   "outputs": [
    {
     "data": {
      "text/plain": [
       "2061"
      ]
     },
     "execution_count": 17,
     "metadata": {},
     "output_type": "execute_result"
    }
   ],
   "source": [
    "N2_obs"
   ]
  },
  {
   "cell_type": "code",
   "execution_count": 75,
   "id": "6b96fcb0-317c-4342-b4ae-5b16eef3aa61",
   "metadata": {},
   "outputs": [
    {
     "data": {
      "image/png": "[encoded data removed]",
      "text/plain": [
       "<Figure size 640x480 with 1 Axes>"
      ]
     },
     "metadata": {},
     "output_type": "display_data"
    }
   ],
   "source": [
    "plt.hist(count)\n",
    "plt.xlabel(\"# of Obserations at Site\")\n",
    "plt.ylabel(\"# of Sites\")\n",
    "plt.show()"
   ]
  },
  {
   "cell_type": "code",
   "execution_count": 76,
   "id": "c5e4de92-5a07-45a3-bc3e-b241fcd5622c",
   "metadata": {},
   "outputs": [],
   "source": [
    "iInd = iInd[indKeep]"
   ]
  },
  {
   "cell_type": "code",
   "execution_count": 77,
   "id": "a675c05c-de39-4059-9644-cdbfa9a74f23",
   "metadata": {},
   "outputs": [],
   "source": [
    "site_min_diff = {}\n",
    "for site in np.unique(jInd):\n",
    "    if site not in N1:\n",
    "        continue\n",
    "    dates = iInd[jInd == site]\n",
    "    min_diff = float(\"inf\")\n",
    "    for i in range(1, len(dates)):\n",
    "        min_diff = min(min_diff, dates[i] - dates[i - 1])\n",
    "    if min_diff == float(\"inf\"):\n",
    "        continue\n",
    "    site_min_diff[site] = min_diff"
   ]
  },
  {
   "cell_type": "code",
   "execution_count": 85,
   "id": "cbadb651-6dbc-4672-bfca-05cd87fea8e9",
   "metadata": {},
   "outputs": [
    {
     "data": {
      "image/png": "[encoded data removed]",
      "text/plain": [
       "<Figure size 640x480 with 1 Axes>"
      ]
     },
     "metadata": {},
     "output_type": "display_data"
    }
   ],
   "source": [
    "min_data = [min_diff for site, min_diff in site_min_diff.items()]\n",
    "plt.hist(min_data, bins=50)\n",
    "plt.xlabel(\"Mininum days between observations\")\n",
    "plt.ylabel(\"# of Sites\")\n",
    "plt.show()"
   ]
  },
  {
   "cell_type": "code",
   "execution_count": 83,
   "id": "42e99fd4-35d8-44e4-bfbd-1d5a8c0ad450",
   "metadata": {},
   "outputs": [
    {
     "data": {
      "image/png": "[encoded data removed]",
      "text/plain": [
       "<Figure size 640x480 with 1 Axes>"
      ]
     },
     "metadata": {},
     "output_type": "display_data"
    }
   ],
   "source": [
    "min_data_100 = []\n",
    "for d in min_data:\n",
    "    if d < 50:\n",
    "        min_data_100.append(d)\n",
    "plt.hist(min_data_100, bins=10)\n",
    "plt.xlabel(\"Mininum days between observations (0-50)\")\n",
    "plt.ylabel(\"# of Sites\")\n",
    "plt.show()"
   ]
  },
  {
   "cell_type": "code",
   "execution_count": 86,
   "id": "9c9a9577-c654-4a8f-a970-e47fb57cbad0",
   "metadata": {},
   "outputs": [],
   "source": [
    "site_med_diff = {}\n",
    "for site in np.unique(jInd):\n",
    "    if site not in N1:\n",
    "        continue\n",
    "    dates = iInd[jInd == site]\n",
    "    diffs = []\n",
    "    for i in range(1, len(dates)):\n",
    "        diff = dates[i] - dates[i - 1]\n",
    "        diffs.append(diff)\n",
    "    site_med_diff[site] = np.median(diffs)"
   ]
  },
  {
   "cell_type": "code",
   "execution_count": 87,
   "id": "860de790-3916-47fd-9257-59b75a216691",
   "metadata": {},
   "outputs": [
    {
     "data": {
      "image/png": "[encoded data removed]",
      "text/plain": [
       "<Figure size 640x480 with 1 Axes>"
      ]
     },
     "metadata": {},
     "output_type": "display_data"
    }
   ],
   "source": [
    "med_data = [med_diff for site, med_diff in site_med_diff.items()]\n",
    "plt.hist(med_data, bins=50)\n",
    "plt.xlabel(\"Median days between observations\")\n",
    "plt.ylabel(\"# of Sites\")\n",
    "plt.show()"
   ]
  },
  {
   "cell_type": "code",
   "execution_count": 52,
   "id": "52500681-5601-422d-9de1-4e9b8f0ea73f",
   "metadata": {},
   "outputs": [
    {
     "data": {
      "image/png": "[encoded data removed]",
      "text/plain": [
       "<Figure size 640x480 with 1 Axes>"
      ]
     },
     "metadata": {},
     "output_type": "display_data"
    }
   ],
   "source": [
    "med_data_100 = []\n",
    "for d in med_data:\n",
    "    if d < 50:\n",
    "        med_data_100.append(d)\n",
    "plt.hist(med_data_100, bins=10)\n",
    "plt.xlabel(\"Median days between observations (0-50)\")\n",
    "plt.ylabel(\"# of Sites\")\n",
    "plt.show()"
   ]
  },
  {
   "cell_type": "code",
   "execution_count": 110,
   "id": "9097e483-3951-4197-9465-98ba9f85b14b",
   "metadata": {},
   "outputs": [],
   "source": [
    "site = np.random.choice(N2)\n",
    "x = iInd[jInd == site]\n",
    "y = yc[jInd == site]"
   ]
  },
  {
   "cell_type": "code",
   "execution_count": 111,
   "id": "3323803d-70bf-46b0-a81e-82dae74e23d5",
   "metadata": {},
   "outputs": [
    {
     "data": {
      "text/plain": [
       "[<matplotlib.lines.Line2D at 0x16980f050>]"
      ]
     },
     "execution_count": 111,
     "metadata": {},
     "output_type": "execute_result"
    },
    {
     "data": {
      "image/png": "[encoded data removed]",
      "text/plain": [
       "<Figure size 640x480 with 1 Axes>"
      ]
     },
     "metadata": {},
     "output_type": "display_data"
    }
   ],
   "source": [
    "plt.plot(x, y)"
   ]
  },
  {
   "cell_type": "code",
   "execution_count": 101,
   "id": "22575eb4-9130-4585-87eb-22b36d989e08",
   "metadata": {},
   "outputs": [],
   "source": [
    "sites_above_thresh = [df.siteIdLst[i] for i in N1]\n",
    "sites_below_thresh = [df.siteIdLst[i] for i in N2]"
   ]
  },
  {
   "cell_type": "code",
   "execution_count": null,
   "id": "ec694aa1-9a56-42f0-bc6a-2e60f0dd6562",
   "metadata": {},
   "outputs": [],
   "source": [
    "outFile = '/Users/andyhuynh/Documents/lfmc/providedData/NFMD/NFMD.csv'\n",
    "# outFile = os.path.join(kPath.dirVeg, 'NFMD', 'NFMD.csv')\n",
    "tabAll = pd.read_csv(outFile)\n",
    "tabAll['Date'] = pd.to_datetime(tabAll['Date'], format='%Y-%m-%d')\n",
    "crdFile = os.path.join(kPath.dirVeg, 'NFMD', 'NFMDsite.csv')\n",
    "tabCrd = pd.read_csv(crdFile, index_col=0)"
   ]
  },
  {
   "cell_type": "code",
   "execution_count": null,
   "id": "80bf166d-292c-42fc-88fc-2a1adb19860f",
   "metadata": {},
   "outputs": [],
   "source": [
    "tabAll[tabAll[\"siteId\"].isin(siteSingle)]"
   ]
  },
  {
   "cell_type": "code",
   "execution_count": null,
   "id": "5c418375-a550-4bb4-ac5d-c8185d9d1677",
   "metadata": {},
   "outputs": [],
   "source": [
    "# find sites that are of single fuel\n",
    "cntFuel = tabAll.groupby(['siteId'])['Fuel'].nunique().sort_values()\n",
    "siteSingle = cntFuel[cntFuel == 1].index.tolist()\n",
    "siteMix = cntFuel[cntFuel > 1].index.tolist()"
   ]
  },
  {
   "cell_type": "code",
   "execution_count": null,
   "id": "9c386722-ad0f-476e-bbda-cbe5548dc754",
   "metadata": {},
   "outputs": [],
   "source": [
    "dict = {}\n",
    "for site in siteSingle:\n",
    "    tab = tabAll[tabAll['siteId'] == site]\n",
    "    dates = tab.Date.tolist()\n",
    "    dict[site] = len(dates)"
   ]
  },
  {
   "cell_type": "code",
   "execution_count": null,
   "id": "38c27511-f2cd-43f1-84c4-b711a6b5e181",
   "metadata": {},
   "outputs": [],
   "source": [
    "site = siteSingle[0]\n",
    "tab = tabAll[tabAll['siteId'] == site]\n",
    "dates = tab.Date.tolist()\n",
    "print(site)\n",
    "print(len(dates))"
   ]
  },
  {
   "cell_type": "code",
   "execution_count": null,
   "id": "f469cb9f-68a4-4e36-b2d6-6f6f5d75179c",
   "metadata": {},
   "outputs": [],
   "source": [
    "jSite"
   ]
  },
  {
   "cell_type": "code",
   "execution_count": null,
   "id": "ac73a28a-e59c-4ddd-867c-749e1ff50849",
   "metadata": {},
   "outputs": [],
   "source": [
    "98 in count"
   ]
  },
  {
   "cell_type": "code",
   "execution_count": null,
   "id": "78fc0a57-b97e-4d15-b158-924339513699",
   "metadata": {},
   "outputs": [],
   "source": [
    "dict = {}\n",
    "# loop thru each site\n",
    "for site in siteSingle:\n",
    "    tab = tabAll[tabAll['siteId'] == site]\n",
    "    dates = tab.Date.tolist()\n",
    "    # determine the min date diff and store in dictionary\n",
    "    min_date_diff = float(\"inf\")\n",
    "    for i in range(len(dates)):\n",
    "        for j in range(i + 1, len(dates)):\n",
    "            date_diff = (dates[i] - dates[j]).days\n",
    "            if date_diff < min_date_diff:\n",
    "                min_date_diff = date_diff\n",
    "    if min_date_diff == float(\"inf\"):\n",
    "        continue\n",
    "    dict[site] = min_date_diff"
   ]
  },
  {
   "cell_type": "code",
   "execution_count": null,
   "id": "0b7f4bdc-9720-46f8-b18d-22dee73d4d5c",
   "metadata": {},
   "outputs": [],
   "source": [
    "dists_above_thresh = []\n",
    "for site, min_dist in dict.items():\n",
    "    if site in sites_above_thresh:\n",
    "        dists_above_thresh.append(min_dist)"
   ]
  },
  {
   "cell_type": "code",
   "execution_count": null,
   "id": "f1b949cb-5ff3-468d-98d4-b2ba09283b89",
   "metadata": {},
   "outputs": [],
   "source": [
    "plt.hist(dists_above_thresh)\n",
    "plt.xlabel(\"Minimum days between observations\")\n",
    "plt.ylabel(\"# of Sites\")\n",
    "plt.show()"
   ]
  },
  {
   "cell_type": "code",
   "execution_count": null,
   "id": "38248506-0804-4f12-a5ed-7534fa052897",
   "metadata": {},
   "outputs": [],
   "source": [
    "dists_below_thresh = []\n",
    "for site, min_dist in dict.items():\n",
    "    if site in sites_below_thresh:\n",
    "        dists_below_thresh.append(min_dist)"
   ]
  },
  {
   "cell_type": "code",
   "execution_count": null,
   "id": "82560899-b81e-4735-bfbb-928d60ba28a6",
   "metadata": {},
   "outputs": [],
   "source": [
    "plt.hist(dists_below_thresh)\n",
    "plt.xlabel(\"Minimum days between observations\")\n",
    "plt.ylabel(\"# of Sites\")\n",
    "plt.show()"
   ]
  },
  {
   "cell_type": "code",
   "execution_count": null,
   "id": "bf5fe10f-4e6f-40f7-a92f-ca21daf0b00b",
   "metadata": {},
   "outputs": [],
   "source": [
    "dict = {}\n",
    "# loop thru each site\n",
    "for site in siteSingle:\n",
    "    tab = tabAll[tabAll['siteId'] == site]\n",
    "    dates = tab.Date.tolist()\n",
    "    # determine the min date diff and store in dictionary\n",
    "    days_diff = []\n",
    "    for i in range(len(dates)):\n",
    "        for j in range(i + 1, len(dates)):\n",
    "            days = (dates[i] - dates[j]).days\n",
    "            days_diff.append(days)\n",
    "    dict[site] = np.median(days_diff)"
   ]
  },
  {
   "cell_type": "code",
   "execution_count": null,
   "id": "c511cd93-6cf5-46ca-97da-89653e9d015f",
   "metadata": {},
   "outputs": [],
   "source": [
    "dists_above_thresh = []\n",
    "for site, min_dist in dict.items():\n",
    "    if site in sites_above_thresh:\n",
    "        dists_above_thresh.append(min_dist)"
   ]
  },
  {
   "cell_type": "code",
   "execution_count": null,
   "id": "a2965443-d200-4b47-9d6f-9f6b37decb9c",
   "metadata": {},
   "outputs": [],
   "source": [
    "plt.hist(dists_above_thresh)\n",
    "plt.xlabel(\"Median days between observations\")\n",
    "plt.ylabel(\"# of Sites\")\n",
    "plt.show()"
   ]
  },
  {
   "cell_type": "code",
   "execution_count": null,
   "id": "902efd9a-c481-4e9a-9b05-1fe65848617b",
   "metadata": {},
   "outputs": [],
   "source": [
    "dists_above_thresh = []\n",
    "for site, min_dist in dict.items():\n",
    "    if site in sites_above_thresh:\n",
    "        dists_above_thresh.append(min_dist)"
   ]
  },
  {
   "cell_type": "code",
   "execution_count": null,
   "id": "642fbfc2-99b0-448c-80a0-40240b3e02ba",
   "metadata": {},
   "outputs": [],
   "source": [
    "plt.hist(dists_below_thresh)\n",
    "plt.xlabel(\"Median days between observations\")\n",
    "plt.ylabel(\"# of Sites\")\n",
    "plt.show()"
   ]
  },
  {
   "cell_type": "code",
   "execution_count": null,
   "id": "f00a5abf-5ef5-4b57-9034-bb7479e9dfb8",
   "metadata": {},
   "outputs": [],
   "source": []
  }
 ],
 "metadata": {
  "kernelspec": {
   "display_name": "pytorch",
   "language": "python",
   "name": "pytorch"
  },
  "language_info": {
   "codemirror_mode": {
    "name": "ipython",
    "version": 3
   },
   "file_extension": ".py",
   "mimetype": "text/x-python",
   "name": "python",
   "nbconvert_exporter": "python",
   "pygments_lexer": "ipython3",
   "version": "3.11.7"
  }
 },
 "nbformat": 4,
 "nbformat_minor": 5
}
