{
 "cells": [
  {
   "cell_type": "code",
   "execution_count": 1,
   "id": "7305204d-52ee-4701-aa4f-39c4847066ce",
   "metadata": {},
   "outputs": [],
   "source": [
    "import torch\n",
    "import numpy as np"
   ]
  },
  {
   "cell_type": "code",
   "execution_count": 64,
   "id": "96de5255-c10d-4094-ab2e-8891c6a56fb0",
   "metadata": {},
   "outputs": [],
   "source": [
    "BATCH_SIZE = 2\n",
    "NUM_DAYS = 3\n",
    "\n",
    "mask = torch.tensor(np.random.choice([0, 1], (BATCH_SIZE, NUM_DAYS)))\n",
    "score = torch.rand(BATCH_SIZE, NUM_DAYS, NUM_DAYS)\n",
    "\n",
    "mask = torch.ones(BATCH_SIZE, NUM_DAYS)\n",
    "mask[0, 0] = 0\n",
    "mask[1, 2] = 0\n",
    "\n",
    "score[mask == 0] = -np.inf\n",
    "attention = torch.softmax(score, dim=-1)"
   ]
  },
  {
   "cell_type": "code",
   "execution_count": 65,
   "id": "fe8f0014-a7da-4b61-865f-136854211d88",
   "metadata": {},
   "outputs": [
    {
     "data": {
      "text/plain": [
       "tensor([[0., 1., 0.],\n",
       "        [0., 1., 0.]])"
      ]
     },
     "execution_count": 65,
     "metadata": {},
     "output_type": "execute_result"
    }
   ],
   "source": [
    "mask = torch.ones(BATCH_SIZE, NUM_DAYS)\n",
    "mask[:, 0] = 0\n",
    "mask[:, 2] = 0\n",
    "mask"
   ]
  },
  {
   "cell_type": "code",
   "execution_count": 62,
   "id": "8e9d6be9-73ac-4320-bd38-57d1a8d67fb2",
   "metadata": {},
   "outputs": [
    {
     "data": {
      "text/plain": [
       "torch.Size([2, 3, 1])"
      ]
     },
     "execution_count": 62,
     "metadata": {},
     "output_type": "execute_result"
    }
   ],
   "source": [
    "expanded_mask.shape"
   ]
  },
  {
   "cell_type": "code",
   "execution_count": 63,
   "id": "338078fb-6b1d-46c7-842b-efd126e5d771",
   "metadata": {},
   "outputs": [
    {
     "ename": "IndexError",
     "evalue": "The shape of the mask [2, 3, 1] at index 2 does not match the shape of the indexed tensor [2, 3, 3] at index 2",
     "output_type": "error",
     "traceback": [
      "\u001b[0;31m---------------------------------------------------------------------------\u001b[0m",
      "\u001b[0;31mIndexError\u001b[0m                                Traceback (most recent call last)",
      "Cell \u001b[0;32mIn[63], line 2\u001b[0m\n\u001b[1;32m      1\u001b[0m expanded_mask \u001b[38;5;241m=\u001b[39m mask[:, :, \u001b[38;5;28;01mNone\u001b[39;00m]\n\u001b[0;32m----> 2\u001b[0m \u001b[43mscore\u001b[49m\u001b[43m[\u001b[49m\u001b[43mexpanded_mask\u001b[49m\u001b[43m \u001b[49m\u001b[38;5;241;43m==\u001b[39;49m\u001b[43m \u001b[49m\u001b[38;5;241;43m0\u001b[39;49m\u001b[43m]\u001b[49m \u001b[38;5;241m=\u001b[39m \u001b[38;5;241m-\u001b[39mnp\u001b[38;5;241m.\u001b[39minf\n\u001b[1;32m      3\u001b[0m attention \u001b[38;5;241m=\u001b[39m torch\u001b[38;5;241m.\u001b[39msoftmax(score, dim\u001b[38;5;241m=\u001b[39m\u001b[38;5;241m-\u001b[39m\u001b[38;5;241m1\u001b[39m)\n",
      "\u001b[0;31mIndexError\u001b[0m: The shape of the mask [2, 3, 1] at index 2 does not match the shape of the indexed tensor [2, 3, 3] at index 2"
     ]
    }
   ],
   "source": [
    "expanded_mask = mask[:, :, None]\n",
    "score[mask == 0] = -np.inf\n",
    "attention = torch.softmax(score, dim=-1)"
   ]
  },
  {
   "cell_type": "code",
   "execution_count": 56,
   "id": "928f8d9e-4059-49e2-8c66-1d582e97e89e",
   "metadata": {},
   "outputs": [
    {
     "data": {
      "text/plain": [
       "tensor([[[  -inf,   -inf,   -inf],\n",
       "         [0.5273, 0.9908, 0.1168],\n",
       "         [0.9023, 0.9709, 0.2129]],\n",
       "\n",
       "        [[0.5984, 0.6284, 0.9256],\n",
       "         [0.2813, 0.8023, 0.2634],\n",
       "         [  -inf,   -inf,   -inf]]])"
      ]
     },
     "execution_count": 56,
     "metadata": {},
     "output_type": "execute_result"
    }
   ],
   "source": [
    "score"
   ]
  },
  {
   "cell_type": "code",
   "execution_count": 27,
   "id": "6d840e2f-d7e9-4687-a74c-45958ad46714",
   "metadata": {},
   "outputs": [
    {
     "data": {
      "text/plain": [
       "tensor([[[0.0000, 0.3022, 0.1326, 0.2944, 0.2708],\n",
       "         [0.0000, 0.1545, 0.3585, 0.1678, 0.3191],\n",
       "         [0.0000, 0.1897, 0.2285, 0.2377, 0.3441],\n",
       "         [0.0000, 0.3188, 0.1961, 0.3439, 0.1412],\n",
       "         [0.0000, 0.3649, 0.3072, 0.1611, 0.1668]]])"
      ]
     },
     "execution_count": 27,
     "metadata": {},
     "output_type": "execute_result"
    }
   ],
   "source": [
    "attention"
   ]
  },
  {
   "cell_type": "code",
   "execution_count": null,
   "id": "61e1bd7b-d283-47db-a532-5adf278201d6",
   "metadata": {},
   "outputs": [],
   "source": []
  }
 ],
 "metadata": {
  "kernelspec": {
   "display_name": "pytorch",
   "language": "python",
   "name": "pytorch"
  },
  "language_info": {
   "codemirror_mode": {
    "name": "ipython",
    "version": 3
   },
   "file_extension": ".py",
   "mimetype": "text/x-python",
   "name": "python",
   "nbconvert_exporter": "python",
   "pygments_lexer": "ipython3",
   "version": "3.11.7"
  }
 },
 "nbformat": 4,
 "nbformat_minor": 5
}
