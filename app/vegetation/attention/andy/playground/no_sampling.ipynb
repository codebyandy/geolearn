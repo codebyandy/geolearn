{
 "cells": [
  {
   "cell_type": "code",
   "execution_count": 14,
   "id": "7305204d-52ee-4701-aa4f-39c4847066ce",
   "metadata": {},
   "outputs": [],
   "source": [
    "import torch\n",
    "import numpy as np"
   ]
  },
  {
   "cell_type": "code",
   "execution_count": 151,
   "id": "96de5255-c10d-4094-ab2e-8891c6a56fb0",
   "metadata": {},
   "outputs": [],
   "source": [
    "NUM_DAYS = 5\n",
    "\n",
    "mask = torch.tensor(np.random.choice([0, 1], (1000, NUM_DAYS)))\n",
    "score = torch.rand(1000, NUM_DAYS, NUM_DAYS)\n",
    "\n",
    "attention_mask = torch.stack([torch.outer(mask[i, :], mask[i, :]) for i in range(mask.shape[0])])\n",
    "score[attention_mask == 0] = -1e9\n",
    "attention = torch.softmax(score, dim=-1)"
   ]
  },
  {
   "cell_type": "code",
   "execution_count": 155,
   "id": "6d059ea5-3ea3-4262-ac73-eaf8516c427f",
   "metadata": {},
   "outputs": [
    {
     "data": {
      "text/plain": [
       "tensor([ 0,  1,  2,  3,  4,  5,  6,  7,  8,  9, 10, 11, 12, 13, 14, 15, 16, 17,\n",
       "        18, 19, 20, 21, 22, 23, 24, 25, 26, 27, 28, 29, 30, 31, 32, 33, 34, 35,\n",
       "        36, 37, 38, 39, 40, 41, 42, 43, 44, 45, 46, 47, 48, 49, 50, 51, 52, 53,\n",
       "        54, 55, 56, 57, 58, 59, 60, 61, 62, 63, 64, 65, 66, 67, 68, 69, 70, 71,\n",
       "        72, 73, 74, 75, 76, 77, 78, 79, 80, 81, 82, 83, 84, 85, 86, 87, 88, 89,\n",
       "        90])"
      ]
     },
     "execution_count": 155,
     "metadata": {},
     "output_type": "execute_result"
    }
   ],
   "source": [
    "torch.arange(91)"
   ]
  },
  {
   "cell_type": "code",
   "execution_count": null,
   "id": "4c6996c0-e2ad-4da4-9db0-c155a4d3cc4c",
   "metadata": {},
   "outputs": [],
   "source": []
  }
 ],
 "metadata": {
  "kernelspec": {
   "display_name": "pytorch",
   "language": "python",
   "name": "pytorch"
  },
  "language_info": {
   "codemirror_mode": {
    "name": "ipython",
    "version": 3
   },
   "file_extension": ".py",
   "mimetype": "text/x-python",
   "name": "python",
   "nbconvert_exporter": "python",
   "pygments_lexer": "ipython3",
   "version": "3.11.7"
  }
 },
 "nbformat": 4,
 "nbformat_minor": 5
}
