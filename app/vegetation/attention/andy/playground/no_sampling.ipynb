{
 "cells": [
  {
   "cell_type": "code",
   "execution_count": 102,
   "id": "7305204d-52ee-4701-aa4f-39c4847066ce",
   "metadata": {},
   "outputs": [],
   "source": [
    "import torch\n",
    "import torch.nn.functional as F\n",
    "import numpy as np"
   ]
  },
  {
   "cell_type": "code",
   "execution_count": 115,
   "id": "ce5eee74-7b51-4893-ba3d-a441b33651a3",
   "metadata": {},
   "outputs": [],
   "source": [
    "BATCH_SIZE = 2\n",
    "NUM_DAYS = 3"
   ]
  },
  {
   "cell_type": "code",
   "execution_count": 116,
   "id": "75d13d01-254b-4ccd-94b7-5be411bb235b",
   "metadata": {},
   "outputs": [
    {
     "data": {
      "text/plain": [
       "tensor([[1, 1, 1],\n",
       "        [1, 1, 0]])"
      ]
     },
     "execution_count": 116,
     "metadata": {},
     "output_type": "execute_result"
    }
   ],
   "source": [
    "mask = np.random.choice([0, 1], (BATCH_SIZE, NUM_DAYS))\n",
    "mask = torch.tensor(mask)\n",
    "mask"
   ]
  },
  {
   "cell_type": "code",
   "execution_count": 117,
   "id": "96de5255-c10d-4094-ab2e-8891c6a56fb0",
   "metadata": {},
   "outputs": [
    {
     "data": {
      "text/plain": [
       "tensor([[[0.7422, 0.3328, 0.7123],\n",
       "         [0.0321, 0.9112, 0.9730],\n",
       "         [0.9703, 0.1360, 0.7599]],\n",
       "\n",
       "        [[0.9046, 0.7782, 0.7288],\n",
       "         [0.5297, 0.7126, 0.9078],\n",
       "         [0.0425, 0.3255, 0.9714]]])"
      ]
     },
     "execution_count": 117,
     "metadata": {},
     "output_type": "execute_result"
    }
   ],
   "source": [
    "score = torch.rand(BATCH_SIZE, NUM_DAYS, NUM_DAYS)\n",
    "score"
   ]
  },
  {
   "cell_type": "code",
   "execution_count": 118,
   "id": "fe8f0014-a7da-4b61-865f-136854211d88",
   "metadata": {},
   "outputs": [
    {
     "data": {
      "text/plain": [
       "tensor([[[1, 1, 1],\n",
       "         [1, 1, 1],\n",
       "         [1, 1, 1]],\n",
       "\n",
       "        [[1, 1, 0],\n",
       "         [1, 1, 0],\n",
       "         [1, 1, 0]]])"
      ]
     },
     "execution_count": 118,
     "metadata": {},
     "output_type": "execute_result"
    }
   ],
   "source": [
    "extended_mask = mask.repeat(1, 1, NUM_DAYS).reshape(BATCH_SIZE, NUM_DAYS, NUM_DAYS)\n",
    "extended_mask"
   ]
  },
  {
   "cell_type": "code",
   "execution_count": 119,
   "id": "338078fb-6b1d-46c7-842b-efd126e5d771",
   "metadata": {},
   "outputs": [
    {
     "data": {
      "text/plain": [
       "tensor([[[0.7422, 0.3328, 0.7123],\n",
       "         [0.0321, 0.9112, 0.9730],\n",
       "         [0.9703, 0.1360, 0.7599]],\n",
       "\n",
       "        [[0.9046, 0.7782,   -inf],\n",
       "         [0.5297, 0.7126,   -inf],\n",
       "         [0.0425, 0.3255,   -inf]]])"
      ]
     },
     "execution_count": 119,
     "metadata": {},
     "output_type": "execute_result"
    }
   ],
   "source": [
    "score[extended_mask == 0] = -np.inf\n",
    "score"
   ]
  },
  {
   "cell_type": "code",
   "execution_count": 120,
   "id": "928f8d9e-4059-49e2-8c66-1d582e97e89e",
   "metadata": {},
   "outputs": [
    {
     "data": {
      "text/plain": [
       "tensor([[[0.3796, 0.2520, 0.3684],\n",
       "         [0.1675, 0.4034, 0.4291],\n",
       "         [0.4455, 0.1934, 0.3610]],\n",
       "\n",
       "        [[0.5316, 0.4684, 0.0000],\n",
       "         [0.4544, 0.5456, 0.0000],\n",
       "         [0.4297, 0.5703, 0.0000]]])"
      ]
     },
     "execution_count": 120,
     "metadata": {},
     "output_type": "execute_result"
    }
   ],
   "source": [
    "attention = F.softmax(score, dim=-1)\n",
    "attention"
   ]
  },
  {
   "cell_type": "code",
   "execution_count": null,
   "id": "bdeb70d3-6ee9-48f6-9ada-faccea3b1685",
   "metadata": {},
   "outputs": [],
   "source": []
  }
 ],
 "metadata": {
  "kernelspec": {
   "display_name": "pytorch",
   "language": "python",
   "name": "pytorch"
  },
  "language_info": {
   "codemirror_mode": {
    "name": "ipython",
    "version": 3
   },
   "file_extension": ".py",
   "mimetype": "text/x-python",
   "name": "python",
   "nbconvert_exporter": "python",
   "pygments_lexer": "ipython3",
   "version": "3.11.7"
  }
 },
 "nbformat": 4,
 "nbformat_minor": 5
}
