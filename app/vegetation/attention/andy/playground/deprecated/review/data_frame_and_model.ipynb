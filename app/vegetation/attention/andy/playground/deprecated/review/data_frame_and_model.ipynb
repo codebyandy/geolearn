{
 "cells": [
  {
   "cell_type": "code",
   "execution_count": 1,
   "id": "bb27a94f-3e3c-40c4-a570-f4d703c98c9b",
   "metadata": {},
   "outputs": [
    {
     "name": "stdout",
     "output_type": "stream",
     "text": [
      "loading package hydroDL\n"
     ]
    }
   ],
   "source": [
    "from hydroDL.data import Dataframe, DataModel\n",
    "from hydroDL import utils\n",
    "import time\n",
    "from hydroDL import kPath\n",
    "import os\n",
    "import pickle\n",
    "from hydroDL.data import Dataframe, DataModel\n",
    "from hydroDL.data import transform, gageII, usgs, gridMET, ntn, GLASS\n",
    "from hydroDL import kPath\n",
    "import time\n",
    "import os\n",
    "import time\n",
    "import pandas as pd\n",
    "import numpy as np\n",
    "import json"
   ]
  },
  {
   "cell_type": "code",
   "execution_count": 2,
   "id": "073cbf45-428e-4aec-b776-2091752e189e",
   "metadata": {},
   "outputs": [],
   "source": [
    "def caseFolder(caseName):\n",
    "    return os.path.join(kPath.dirVeg, 'model', 'data', caseName)"
   ]
  },
  {
   "cell_type": "code",
   "execution_count": 3,
   "id": "a471473d-9b4e-44b3-9a87-d1d778c123f2",
   "metadata": {},
   "outputs": [],
   "source": [
    "class DataFrameVeg(Dataframe):\n",
    "    def __init__(self, caseName):\n",
    "        saveFolder = caseFolder(caseName)\n",
    "        self.saveFolder = saveFolder\n",
    "        npz = np.load(os.path.join(saveFolder, 'data.npz'))\n",
    "        self.varX = npz['varX'].tolist()\n",
    "        if type(npz['varY']) is str:  # adhoc fix\n",
    "            self.varY = [npz['varY']]\n",
    "        else:\n",
    "            self.varY = npz['varY']\n",
    "        self.varXC = npz['varXC'].tolist()\n",
    "        self.x = npz['x']\n",
    "        self.y = npz['y']\n",
    "        self.xc = npz['xc']\n",
    "        self.yc = None\n",
    "        info = pd.read_csv(os.path.join(saveFolder, 'info.csv'))\n",
    "        self.siteIdLst = info['siteId'].tolist()\n",
    "        self.t = npz['t']\n",
    "        self.lat = info['lat'].values\n",
    "        self.lon = info['lon'].values\n",
    "\n",
    "    def loadSubset(self, name):\n",
    "        subsetFile = os.path.join(self.saveFolder, 'subset.json')\n",
    "        with open(subsetFile, 'r') as f:\n",
    "            subset = json.load(f)\n",
    "        indS = subset[name]\n",
    "        return indS"
   ]
  },
  {
   "cell_type": "code",
   "execution_count": 5,
   "id": "7b2f35a9-642b-488f-8962-e1f56a566174",
   "metadata": {},
   "outputs": [],
   "source": [
    "dataName = 'singleDaily'\n",
    "df = DataFrameVeg(dataName)"
   ]
  },
  {
   "cell_type": "markdown",
   "id": "a2df069e-2884-478b-9715-14e0653e8a83",
   "metadata": {},
   "source": [
    "# Explore"
   ]
  },
  {
   "cell_type": "code",
   "execution_count": 13,
   "id": "46bfce61-5a78-4f9d-aa4e-a65f926062cd",
   "metadata": {},
   "outputs": [
    {
     "data": {
      "text/plain": [
       "['VV',\n",
       " 'VH',\n",
       " 'vh_vv',\n",
       " 'SR_B2',\n",
       " 'SR_B3',\n",
       " 'SR_B4',\n",
       " 'SR_B5',\n",
       " 'SR_B6',\n",
       " 'ndvi',\n",
       " 'ndwi',\n",
       " 'nirv',\n",
       " 'Fpar',\n",
       " 'Lai',\n",
       " 'pr',\n",
       " 'sph',\n",
       " 'srad',\n",
       " 'tmmn',\n",
       " 'tmmx',\n",
       " 'pet',\n",
       " 'etr']"
      ]
     },
     "execution_count": 13,
     "metadata": {},
     "output_type": "execute_result"
    }
   ],
   "source": [
    "df.varX"
   ]
  },
  {
   "cell_type": "code",
   "execution_count": 14,
   "id": "e993237b-e2da-4298-a5b3-6486098184a5",
   "metadata": {},
   "outputs": [
    {
     "data": {
      "text/plain": [
       "array(['LFMC'], dtype='<U4')"
      ]
     },
     "execution_count": 14,
     "metadata": {},
     "output_type": "execute_result"
    }
   ],
   "source": [
    "df.varY"
   ]
  },
  {
   "cell_type": "code",
   "execution_count": 15,
   "id": "5a42d475-1ebc-40db-ac07-8436d1043543",
   "metadata": {},
   "outputs": [
    {
     "data": {
      "text/plain": [
       "['slope',\n",
       " 'dem',\n",
       " 'canopyHeight',\n",
       " 'sand',\n",
       " 'clay',\n",
       " 'silt',\n",
       " 'lc1',\n",
       " 'lc2',\n",
       " 'lc3',\n",
       " 'lc4',\n",
       " 'lc5',\n",
       " 'lc6',\n",
       " 'lc7',\n",
       " 'lc8',\n",
       " 'lc9']"
      ]
     },
     "execution_count": 15,
     "metadata": {},
     "output_type": "execute_result"
    }
   ],
   "source": [
    "df.varXC"
   ]
  },
  {
   "cell_type": "code",
   "execution_count": 17,
   "id": "8c8a1904-762a-4779-8ea4-2f341e40c091",
   "metadata": {},
   "outputs": [
    {
     "data": {
      "text/plain": [
       "(1888, 335, 20)"
      ]
     },
     "execution_count": 17,
     "metadata": {},
     "output_type": "execute_result"
    }
   ],
   "source": [
    "df.x.shape"
   ]
  },
  {
   "cell_type": "code",
   "execution_count": 18,
   "id": "1fd771b7-7c5d-4d23-88a2-9427ca60d723",
   "metadata": {},
   "outputs": [
    {
     "data": {
      "text/plain": [
       "(1888, 335, 1)"
      ]
     },
     "execution_count": 18,
     "metadata": {},
     "output_type": "execute_result"
    }
   ],
   "source": [
    "df.y.shape"
   ]
  },
  {
   "cell_type": "code",
   "execution_count": 19,
   "id": "78638474-1515-4607-97b0-a0b2dbfb8d80",
   "metadata": {},
   "outputs": [
    {
     "data": {
      "text/plain": [
       "(335, 15)"
      ]
     },
     "execution_count": 19,
     "metadata": {},
     "output_type": "execute_result"
    }
   ],
   "source": [
    "df.xc.shape"
   ]
  },
  {
   "cell_type": "code",
   "execution_count": 22,
   "id": "b02f7776-ac8a-4079-86cc-e259a2714d76",
   "metadata": {},
   "outputs": [
    {
     "data": {
      "text/plain": [
       "335"
      ]
     },
     "execution_count": 22,
     "metadata": {},
     "output_type": "execute_result"
    }
   ],
   "source": [
    "len(df.siteIdLst)"
   ]
  },
  {
   "cell_type": "code",
   "execution_count": 24,
   "id": "02026abf-167c-4780-8409-bebd9fc38e7d",
   "metadata": {},
   "outputs": [
    {
     "data": {
      "text/plain": [
       "(1888,)"
      ]
     },
     "execution_count": 24,
     "metadata": {},
     "output_type": "execute_result"
    }
   ],
   "source": [
    "df.t.shape"
   ]
  },
  {
   "cell_type": "code",
   "execution_count": 26,
   "id": "a5059922-5dc8-4c54-a203-6d6acfc4d6d7",
   "metadata": {},
   "outputs": [
    {
     "data": {
      "text/plain": [
       "(335,)"
      ]
     },
     "execution_count": 26,
     "metadata": {},
     "output_type": "execute_result"
    }
   ],
   "source": [
    "df.lat.shape"
   ]
  },
  {
   "cell_type": "code",
   "execution_count": 27,
   "id": "7435a4fc-5fe5-49c2-877f-7d35d1e981b2",
   "metadata": {},
   "outputs": [
    {
     "data": {
      "text/plain": [
       "(335,)"
      ]
     },
     "execution_count": 27,
     "metadata": {},
     "output_type": "execute_result"
    }
   ],
   "source": [
    "df.lon.shape"
   ]
  },
  {
   "cell_type": "code",
   "execution_count": 41,
   "id": "c2a77714-add3-4909-87a0-6d5d8f5c175b",
   "metadata": {},
   "outputs": [
    {
     "data": {
      "text/plain": [
       "0.42826943144447255"
      ]
     },
     "execution_count": 41,
     "metadata": {},
     "output_type": "execute_result"
    }
   ],
   "source": [
    "a = np.count_nonzero(~np.isnan(df.x))\n",
    "b = np.count_nonzero(np.isnan(df.x))\n",
    "a / (a + b)"
   ]
  },
  {
   "cell_type": "code",
   "execution_count": 48,
   "id": "d6492908-c738-4b64-9276-0ab9b76d2ef9",
   "metadata": {},
   "outputs": [],
   "source": [
    "dm = DataModel(X=df.x, XC=df.xc, Y=df.y)"
   ]
  },
  {
   "cell_type": "code",
   "execution_count": 53,
   "id": "096e0ff7-e79c-4ca1-8084-f38966e03c48",
   "metadata": {},
   "outputs": [
    {
     "data": {
      "text/plain": [
       "(1888, 335, 20)"
      ]
     },
     "execution_count": 53,
     "metadata": {},
     "output_type": "execute_result"
    }
   ],
   "source": [
    "dm.X.shape"
   ]
  },
  {
   "cell_type": "code",
   "execution_count": 54,
   "id": "b2133567-9c72-4db3-ae30-f49348d123e9",
   "metadata": {},
   "outputs": [
    {
     "data": {
      "text/plain": [
       "(335, 15)"
      ]
     },
     "execution_count": 54,
     "metadata": {},
     "output_type": "execute_result"
    }
   ],
   "source": [
    "dm.XC.shape"
   ]
  },
  {
   "cell_type": "code",
   "execution_count": 55,
   "id": "04f5fa65-6665-49ea-a78d-6d3ea9a83ebc",
   "metadata": {},
   "outputs": [
    {
     "data": {
      "text/plain": [
       "(1888, 335, 1)"
      ]
     },
     "execution_count": 55,
     "metadata": {},
     "output_type": "execute_result"
    }
   ],
   "source": [
    "dm.Y.shape"
   ]
  },
  {
   "cell_type": "code",
   "execution_count": 65,
   "id": "d90ec94c-1a65-427d-924b-c64159f43992",
   "metadata": {},
   "outputs": [],
   "source": [
    "dm.trans(mtdDefault='minmax')"
   ]
  },
  {
   "cell_type": "code",
   "execution_count": 69,
   "id": "dfa0fe5a-2be5-47a6-a467-9a29aa070711",
   "metadata": {},
   "outputs": [
    {
     "data": {
      "text/plain": [
       "(20, 2)"
      ]
     },
     "execution_count": 69,
     "metadata": {},
     "output_type": "execute_result"
    }
   ],
   "source": [
    "dm.statX[\"statLn\"].shape"
   ]
  },
  {
   "cell_type": "code",
   "execution_count": 71,
   "id": "324acc6a-9f84-4da0-84b1-0434fc6a4287",
   "metadata": {},
   "outputs": [
    {
     "data": {
      "text/plain": [
       "(15, 2)"
      ]
     },
     "execution_count": 71,
     "metadata": {},
     "output_type": "execute_result"
    }
   ],
   "source": [
    "dm.statXC[\"statLn\"].shape"
   ]
  },
  {
   "cell_type": "code",
   "execution_count": 73,
   "id": "8905a822-7c7b-47cf-9e52-127bf5fa960b",
   "metadata": {},
   "outputs": [
    {
     "data": {
      "text/plain": [
       "(1, 2)"
      ]
     },
     "execution_count": 73,
     "metadata": {},
     "output_type": "execute_result"
    }
   ],
   "source": [
    "dm.statY[\"statLn\"].shape"
   ]
  },
  {
   "cell_type": "code",
   "execution_count": 75,
   "id": "e04d209f-73a8-4dec-ad49-654c8051162b",
   "metadata": {},
   "outputs": [],
   "source": [
    "dataTup = dm.getData()"
   ]
  },
  {
   "cell_type": "code",
   "execution_count": 78,
   "id": "1fa48a9e-1c97-4d22-aa0f-b52fcdecfc67",
   "metadata": {},
   "outputs": [
    {
     "data": {
      "text/plain": [
       "4"
      ]
     },
     "execution_count": 78,
     "metadata": {},
     "output_type": "execute_result"
    }
   ],
   "source": [
    "len(dataTup)"
   ]
  },
  {
   "cell_type": "code",
   "execution_count": 80,
   "id": "ee23dcd9-5256-4b0e-aab4-7df5100cc453",
   "metadata": {},
   "outputs": [
    {
     "data": {
      "text/plain": [
       "(1888, 335, 20)"
      ]
     },
     "execution_count": 80,
     "metadata": {},
     "output_type": "execute_result"
    }
   ],
   "source": [
    "dataTup[0].shape"
   ]
  },
  {
   "cell_type": "code",
   "execution_count": 81,
   "id": "96343f11-d72a-4e01-8c00-c5d157c4823a",
   "metadata": {},
   "outputs": [
    {
     "data": {
      "text/plain": [
       "(335, 15)"
      ]
     },
     "execution_count": 81,
     "metadata": {},
     "output_type": "execute_result"
    }
   ],
   "source": [
    "dataTup[1].shape"
   ]
  },
  {
   "cell_type": "code",
   "execution_count": 82,
   "id": "1912236b-cf86-43b9-a785-c81f1b2f0916",
   "metadata": {},
   "outputs": [
    {
     "data": {
      "text/plain": [
       "(1888, 335, 1)"
      ]
     },
     "execution_count": 82,
     "metadata": {},
     "output_type": "execute_result"
    }
   ],
   "source": [
    "dataTup[2].shape"
   ]
  },
  {
   "cell_type": "code",
   "execution_count": 85,
   "id": "211179ea-5fe8-44ce-8bf1-dc342a4ab0aa",
   "metadata": {},
   "outputs": [],
   "source": [
    "from hydroDL.master import basinFull, slurm, dataTs2Range"
   ]
  },
  {
   "cell_type": "code",
   "execution_count": 87,
   "id": "15a4564d-369d-49e1-81f1-0c9a08907359",
   "metadata": {},
   "outputs": [],
   "source": [
    "rho = 45\n",
    "dataEnd, (iInd, jInd) = dataTs2Range(dataTup, rho, returnInd=True)\n",
    "x, xc, y, yc = dataEnd"
   ]
  },
  {
   "cell_type": "code",
   "execution_count": 89,
   "id": "0ddab045-f71b-44cf-bdde-1fd3a1aa0fa1",
   "metadata": {},
   "outputs": [
    {
     "data": {
      "text/plain": [
       "(91, 10235, 20)"
      ]
     },
     "execution_count": 89,
     "metadata": {},
     "output_type": "execute_result"
    }
   ],
   "source": [
    "x.shape"
   ]
  },
  {
   "cell_type": "code",
   "execution_count": 90,
   "id": "9bf875b5-53cb-441b-9663-5aaca54c8475",
   "metadata": {},
   "outputs": [
    {
     "data": {
      "text/plain": [
       "(10235, 15)"
      ]
     },
     "execution_count": 90,
     "metadata": {},
     "output_type": "execute_result"
    }
   ],
   "source": [
    "xc.shape"
   ]
  },
  {
   "cell_type": "code",
   "execution_count": 92,
   "id": "5646fc7c-9c39-4071-9be7-c5f3f6823d04",
   "metadata": {},
   "outputs": [
    {
     "data": {
      "text/plain": [
       "(10235, 1)"
      ]
     },
     "execution_count": 92,
     "metadata": {},
     "output_type": "execute_result"
    }
   ],
   "source": [
    "yc.shape"
   ]
  },
  {
   "cell_type": "markdown",
   "id": "4ef8469b-4b9d-4d6a-83b1-f7e8c68168b5",
   "metadata": {},
   "source": [
    "### Walking thru dataTs2Range"
   ]
  },
  {
   "cell_type": "code",
   "execution_count": 128,
   "id": "f8f23498-9973-49a2-b52f-28698efa8312",
   "metadata": {},
   "outputs": [],
   "source": [
    "x, xc, y, yc = dataTup # get data\n",
    "nt = y.shape[0] # number of time measurements"
   ]
  },
  {
   "cell_type": "code",
   "execution_count": 141,
   "id": "7d1d7d85-031e-4fa4-8243-86b1f7bfc741",
   "metadata": {},
   "outputs": [
    {
     "data": {
      "text/plain": [
       "10407"
      ]
     },
     "execution_count": 141,
     "metadata": {},
     "output_type": "execute_result"
    }
   ],
   "source": [
    "jL, iL = np.where(~np.isnan(y).any(axis=-1))\n",
    "# jL -- rows where LFMC exists\n",
    "# iL -- cols where LFMC exists"
   ]
  },
  {
   "cell_type": "code",
   "execution_count": 130,
   "id": "fa458f63-6ad1-4aa4-9127-09a06a8aa7ef",
   "metadata": {},
   "outputs": [],
   "source": [
    "xLst, xcLst, ycLst = list(), list(), list()\n",
    "for j, i in zip(jL, iL):\n",
    "    if j >= rho and j < nt - rho:\n",
    "        if x is not None:\n",
    "            xLst.append(x[j - rho : j + rho + 1, i, :])\n",
    "        if xc is not None:\n",
    "            xcLst.append(xc[i, :])\n",
    "        if yc is None:                \n",
    "            ycLst.append(y[j, i, :])"
   ]
  },
  {
   "cell_type": "code",
   "execution_count": 137,
   "id": "0e66ac91-7bd1-41d8-b2a0-bdcd8b35f116",
   "metadata": {},
   "outputs": [
    {
     "data": {
      "text/plain": [
       "(10235, 91, 20)"
      ]
     },
     "execution_count": 137,
     "metadata": {},
     "output_type": "execute_result"
    }
   ],
   "source": [
    "xE = np.stack(xLst, axis=0)\n",
    "xE.shape"
   ]
  },
  {
   "cell_type": "code",
   "execution_count": 138,
   "id": "4d984dd8-5d2d-4f30-977b-023203036938",
   "metadata": {},
   "outputs": [
    {
     "data": {
      "text/plain": [
       "(91, 10235, 20)"
      ]
     },
     "execution_count": 138,
     "metadata": {},
     "output_type": "execute_result"
    }
   ],
   "source": [
    "xE = xE.swapaxes(0, 1)\n",
    "xE.shape"
   ]
  },
  {
   "cell_type": "code",
   "execution_count": 139,
   "id": "39e326a4-4c49-41be-95ad-116f6e80c833",
   "metadata": {},
   "outputs": [
    {
     "data": {
      "text/plain": [
       "(10235, 15)"
      ]
     },
     "execution_count": 139,
     "metadata": {},
     "output_type": "execute_result"
    }
   ],
   "source": [
    "xcE = np.stack(xcLst, axis=0)\n",
    "xcE.shape"
   ]
  },
  {
   "cell_type": "code",
   "execution_count": 140,
   "id": "8f8b7919-00ef-4562-b7b1-cca01af9a072",
   "metadata": {},
   "outputs": [
    {
     "data": {
      "text/plain": [
       "(10235, 1)"
      ]
     },
     "execution_count": 140,
     "metadata": {},
     "output_type": "execute_result"
    }
   ],
   "source": [
    "ycE = np.stack(ycLst, axis=0)\n",
    "ycE.shape"
   ]
  }
 ],
 "metadata": {
  "kernelspec": {
   "display_name": "pytorch",
   "language": "python",
   "name": "pytorch"
  },
  "language_info": {
   "codemirror_mode": {
    "name": "ipython",
    "version": 3
   },
   "file_extension": ".py",
   "mimetype": "text/x-python",
   "name": "python",
   "nbconvert_exporter": "python",
   "pygments_lexer": "ipython3",
   "version": "3.11.7"
  }
 },
 "nbformat": 4,
 "nbformat_minor": 5
}
