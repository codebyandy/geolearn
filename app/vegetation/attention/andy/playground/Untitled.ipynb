{
 "cells": [
  {
   "cell_type": "code",
   "execution_count": 42,
   "id": "2105cdbd-c5f5-4d64-9aa5-e856dbfa888a",
   "metadata": {},
   "outputs": [],
   "source": [
    "import pandas as pd"
   ]
  },
  {
   "cell_type": "code",
   "execution_count": 46,
   "id": "ff1f07c3-0ebd-45b3-bbee-4b734aac7043",
   "metadata": {},
   "outputs": [],
   "source": [
    "data = {'a': [23], 'b': [10]}\n",
    "df = pd.DataFrame(data)"
   ]
  },
  {
   "cell_type": "code",
   "execution_count": 47,
   "id": "c00022d0-13af-4688-804d-e8cd96e8e0f5",
   "metadata": {},
   "outputs": [
    {
     "data": {
      "text/html": [
       "<div>\n",
       "<style scoped>\n",
       "    .dataframe tbody tr th:only-of-type {\n",
       "        vertical-align: middle;\n",
       "    }\n",
       "\n",
       "    .dataframe tbody tr th {\n",
       "        vertical-align: top;\n",
       "    }\n",
       "\n",
       "    .dataframe thead th {\n",
       "        text-align: right;\n",
       "    }\n",
       "</style>\n",
       "<table border=\"1\" class=\"dataframe\">\n",
       "  <thead>\n",
       "    <tr style=\"text-align: right;\">\n",
       "      <th></th>\n",
       "      <th>a</th>\n",
       "      <th>b</th>\n",
       "    </tr>\n",
       "  </thead>\n",
       "  <tbody>\n",
       "    <tr>\n",
       "      <th>0</th>\n",
       "      <td>23</td>\n",
       "      <td>10</td>\n",
       "    </tr>\n",
       "  </tbody>\n",
       "</table>\n",
       "</div>"
      ],
      "text/plain": [
       "    a   b\n",
       "0  23  10"
      ]
     },
     "execution_count": 47,
     "metadata": {},
     "output_type": "execute_result"
    }
   ],
   "source": [
    "df"
   ]
  },
  {
   "cell_type": "code",
   "execution_count": 55,
   "id": "7ea0e5d9-69fc-4f50-9847-0240e9506203",
   "metadata": {},
   "outputs": [],
   "source": [
    "df['name'] = ['BLAH']"
   ]
  },
  {
   "cell_type": "code",
   "execution_count": 57,
   "id": "26078c23-263a-45ae-b6d7-0936b2c33e84",
   "metadata": {},
   "outputs": [],
   "source": [
    "df = df[['name'] + [x for x in df.columns if x != 'name']]"
   ]
  },
  {
   "cell_type": "code",
   "execution_count": 58,
   "id": "918f5e7e-741e-4432-b9e3-4be0ba2cac77",
   "metadata": {},
   "outputs": [
    {
     "data": {
      "text/html": [
       "<div>\n",
       "<style scoped>\n",
       "    .dataframe tbody tr th:only-of-type {\n",
       "        vertical-align: middle;\n",
       "    }\n",
       "\n",
       "    .dataframe tbody tr th {\n",
       "        vertical-align: top;\n",
       "    }\n",
       "\n",
       "    .dataframe thead th {\n",
       "        text-align: right;\n",
       "    }\n",
       "</style>\n",
       "<table border=\"1\" class=\"dataframe\">\n",
       "  <thead>\n",
       "    <tr style=\"text-align: right;\">\n",
       "      <th></th>\n",
       "      <th>name</th>\n",
       "      <th>a</th>\n",
       "      <th>b</th>\n",
       "    </tr>\n",
       "  </thead>\n",
       "  <tbody>\n",
       "    <tr>\n",
       "      <th>0</th>\n",
       "      <td>BLAH</td>\n",
       "      <td>23</td>\n",
       "      <td>10</td>\n",
       "    </tr>\n",
       "  </tbody>\n",
       "</table>\n",
       "</div>"
      ],
      "text/plain": [
       "   name   a   b\n",
       "0  BLAH  23  10"
      ]
     },
     "execution_count": 58,
     "metadata": {},
     "output_type": "execute_result"
    }
   ],
   "source": [
    "df"
   ]
  },
  {
   "cell_type": "code",
   "execution_count": 10,
   "id": "b2488388-da66-4747-85ad-ff1f45a32e71",
   "metadata": {},
   "outputs": [],
   "source": [
    "import torch\n",
    "import torch.nn as nn\n",
    "import numpy as np"
   ]
  },
  {
   "cell_type": "code",
   "execution_count": 11,
   "id": "53ac69ab-93e3-42e7-8f6c-c02c1ecfa9a8",
   "metadata": {},
   "outputs": [],
   "source": [
    "x = torch.randn(1000, 8, 32)"
   ]
  },
  {
   "cell_type": "code",
   "execution_count": 12,
   "id": "39757847-adf0-4df4-bc24-743222c8afc4",
   "metadata": {},
   "outputs": [],
   "source": [
    "encoder = nn.Linear(32, 1)"
   ]
  },
  {
   "cell_type": "code",
   "execution_count": 14,
   "id": "ff6ac958-301f-4e0c-9f1d-5ed6476c97ba",
   "metadata": {},
   "outputs": [
    {
     "data": {
      "text/plain": [
       "torch.Size([1000, 8, 1])"
      ]
     },
     "execution_count": 14,
     "metadata": {},
     "output_type": "execute_result"
    }
   ],
   "source": [
    "encoder(x).shape"
   ]
  },
  {
   "cell_type": "code",
   "execution_count": 16,
   "id": "52677211-9ace-48f4-9966-4b442a7ef6be",
   "metadata": {},
   "outputs": [],
   "source": [
    "import pandas as pd"
   ]
  },
  {
   "cell_type": "code",
   "execution_count": 18,
   "id": "e2ff7699-0682-4e7a-9a7a-b2d6dbe914d6",
   "metadata": {},
   "outputs": [],
   "source": [
    "df = pd.read_csv('~/Documents/lfmc/best_metrics_all_runs.csv')"
   ]
  },
  {
   "cell_type": "code",
   "execution_count": 28,
   "id": "bd8b2172-7302-4d24-8ad5-99d3770180c4",
   "metadata": {},
   "outputs": [
    {
     "data": {
      "text/html": [
       "<div>\n",
       "<style scoped>\n",
       "    .dataframe tbody tr th:only-of-type {\n",
       "        vertical-align: middle;\n",
       "    }\n",
       "\n",
       "    .dataframe tbody tr th {\n",
       "        vertical-align: top;\n",
       "    }\n",
       "\n",
       "    .dataframe thead th {\n",
       "        text-align: right;\n",
       "    }\n",
       "</style>\n",
       "<table border=\"1\" class=\"dataframe\">\n",
       "  <thead>\n",
       "    <tr style=\"text-align: right;\">\n",
       "      <th></th>\n",
       "      <th>2</th>\n",
       "      <th>19</th>\n",
       "    </tr>\n",
       "  </thead>\n",
       "  <tbody>\n",
       "    <tr>\n",
       "      <th>run_name</th>\n",
       "      <td>ex_dropout_0.2_nh_24</td>\n",
       "      <td>ex_aqua_dropout_0.2_nh_24</td>\n",
       "    </tr>\n",
       "    <tr>\n",
       "      <th>epoch</th>\n",
       "      <td>100</td>\n",
       "      <td>500</td>\n",
       "    </tr>\n",
       "    <tr>\n",
       "      <th>qual_obs_rmse</th>\n",
       "      <td>34.61498</td>\n",
       "      <td>28.453472</td>\n",
       "    </tr>\n",
       "    <tr>\n",
       "      <th>qual_obs_corrcoef</th>\n",
       "      <td>0.656724</td>\n",
       "      <td>0.74494</td>\n",
       "    </tr>\n",
       "    <tr>\n",
       "      <th>qual_obs_coefdet</th>\n",
       "      <td>0.337992</td>\n",
       "      <td>0.551028</td>\n",
       "    </tr>\n",
       "    <tr>\n",
       "      <th>qual_site_rmse</th>\n",
       "      <td>18.203817</td>\n",
       "      <td>24.294128</td>\n",
       "    </tr>\n",
       "    <tr>\n",
       "      <th>qual_site_corrcoef</th>\n",
       "      <td>0.68503</td>\n",
       "      <td>0.634576</td>\n",
       "    </tr>\n",
       "    <tr>\n",
       "      <th>qual_site_coefdet</th>\n",
       "      <td>-0.217856</td>\n",
       "      <td>-0.19936</td>\n",
       "    </tr>\n",
       "    <tr>\n",
       "      <th>qual_anomaly_rmse</th>\n",
       "      <td>29.629998</td>\n",
       "      <td>22.030812</td>\n",
       "    </tr>\n",
       "    <tr>\n",
       "      <th>qual_anomaly_corrcoef</th>\n",
       "      <td>0.651808</td>\n",
       "      <td>0.756974</td>\n",
       "    </tr>\n",
       "    <tr>\n",
       "      <th>qual_anomaly_coefdet</th>\n",
       "      <td>-0.830127</td>\n",
       "      <td>0.271052</td>\n",
       "    </tr>\n",
       "    <tr>\n",
       "      <th>poor_obs_rmse</th>\n",
       "      <td>41.573385</td>\n",
       "      <td>28.402273</td>\n",
       "    </tr>\n",
       "    <tr>\n",
       "      <th>poor_obs_corrcoef</th>\n",
       "      <td>0.338217</td>\n",
       "      <td>0.732852</td>\n",
       "    </tr>\n",
       "    <tr>\n",
       "      <th>poor_obs_coefdet</th>\n",
       "      <td>0.023214</td>\n",
       "      <td>0.529602</td>\n",
       "    </tr>\n",
       "    <tr>\n",
       "      <th>poor_site_rmse</th>\n",
       "      <td>33.077021</td>\n",
       "      <td>24.306325</td>\n",
       "    </tr>\n",
       "    <tr>\n",
       "      <th>poor_site_corrcoef</th>\n",
       "      <td>0.247298</td>\n",
       "      <td>0.650633</td>\n",
       "    </tr>\n",
       "    <tr>\n",
       "      <th>poor_site_coefdet</th>\n",
       "      <td>-1.577769</td>\n",
       "      <td>-0.127277</td>\n",
       "    </tr>\n",
       "    <tr>\n",
       "      <th>poor_anomaly_rmse</th>\n",
       "      <td>29.121887</td>\n",
       "      <td>22.963852</td>\n",
       "    </tr>\n",
       "    <tr>\n",
       "      <th>poor_anomaly_corrcoef</th>\n",
       "      <td>0.425331</td>\n",
       "      <td>0.722302</td>\n",
       "    </tr>\n",
       "    <tr>\n",
       "      <th>poor_anomaly_coefdet</th>\n",
       "      <td>-1.969852</td>\n",
       "      <td>0.225101</td>\n",
       "    </tr>\n",
       "  </tbody>\n",
       "</table>\n",
       "</div>"
      ],
      "text/plain": [
       "                                         2                          19\n",
       "run_name               ex_dropout_0.2_nh_24  ex_aqua_dropout_0.2_nh_24\n",
       "epoch                                   100                        500\n",
       "qual_obs_rmse                      34.61498                  28.453472\n",
       "qual_obs_corrcoef                  0.656724                    0.74494\n",
       "qual_obs_coefdet                   0.337992                   0.551028\n",
       "qual_site_rmse                    18.203817                  24.294128\n",
       "qual_site_corrcoef                  0.68503                   0.634576\n",
       "qual_site_coefdet                 -0.217856                   -0.19936\n",
       "qual_anomaly_rmse                 29.629998                  22.030812\n",
       "qual_anomaly_corrcoef              0.651808                   0.756974\n",
       "qual_anomaly_coefdet              -0.830127                   0.271052\n",
       "poor_obs_rmse                     41.573385                  28.402273\n",
       "poor_obs_corrcoef                  0.338217                   0.732852\n",
       "poor_obs_coefdet                   0.023214                   0.529602\n",
       "poor_site_rmse                    33.077021                  24.306325\n",
       "poor_site_corrcoef                 0.247298                   0.650633\n",
       "poor_site_coefdet                 -1.577769                  -0.127277\n",
       "poor_anomaly_rmse                 29.121887                  22.963852\n",
       "poor_anomaly_corrcoef              0.425331                   0.722302\n",
       "poor_anomaly_coefdet              -1.969852                   0.225101"
      ]
     },
     "execution_count": 28,
     "metadata": {},
     "output_type": "execute_result"
    }
   ],
   "source": [
    "df[df.run_name.isin(['ex_dropout_0.2_nh_24', 'ex_aqua_dropout_0.2_nh_24'])].T"
   ]
  },
  {
   "cell_type": "code",
   "execution_count": null,
   "id": "97b2e2e1-98da-40e5-a4cb-0c464a5056b8",
   "metadata": {},
   "outputs": [],
   "source": []
  }
 ],
 "metadata": {
  "kernelspec": {
   "display_name": "pytorch",
   "language": "python",
   "name": "pytorch"
  },
  "language_info": {
   "codemirror_mode": {
    "name": "ipython",
    "version": 3
   },
   "file_extension": ".py",
   "mimetype": "text/x-python",
   "name": "python",
   "nbconvert_exporter": "python",
   "pygments_lexer": "ipython3",
   "version": "3.11.7"
  }
 },
 "nbformat": 4,
 "nbformat_minor": 5
}
