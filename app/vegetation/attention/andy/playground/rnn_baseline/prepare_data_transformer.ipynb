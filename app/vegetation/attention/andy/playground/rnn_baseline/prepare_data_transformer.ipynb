{
 "cells": [
  {
   "cell_type": "markdown",
   "metadata": {},
   "source": [
    "# Prepare data for transformers\n",
    "\n",
    "**Purpose:** We want to compare metrics by the RNN maps to predictions by the transformer model. Our transformer mdoel currenlty takes in inputs of size `(rho, num observations, num inputs)`. To get the daily prediction at each site, we have to prepare this matrix.\n",
    "\n",
    "**Date:** July 30, 2024\n"
   ]
  },
  {
   "cell_type": "markdown",
   "metadata": {},
   "source": [
    "This notebook follows the `models/cherry_pick/data.py` and `models/all_pick/data.py` files."
   ]
  },
  {
   "cell_type": "code",
   "execution_count": 46,
   "metadata": {},
   "outputs": [],
   "source": [
    "# hydroDL module by Kuai Fang\n",
    "import hydroDL.data.dbVeg\n",
    "from hydroDL.data import dbVeg\n",
    "from hydroDL.data import DataModel\n",
    "from hydroDL.master import dataTs2Range\n",
    "from hydroDL import kPath\n",
    "\n",
    "import numpy as np\n",
    "import torch"
   ]
  },
  {
   "cell_type": "code",
   "execution_count": 47,
   "metadata": {},
   "outputs": [],
   "source": [
    "dataName = \"singleDaily-nadgrid\"\n",
    "rho = 45"
   ]
  },
  {
   "cell_type": "code",
   "execution_count": 80,
   "metadata": {},
   "outputs": [],
   "source": [
    "# Load data with custom DataFrameVeg and DataModel classes\n",
    "df = dbVeg.DataFrameVeg(dataName)\n",
    "dm = DataModel(X=df.x, XC=df.xc, Y=df.y)\n",
    "dm.trans(mtdDefault='minmax') # Min-max normalization\n",
    "dataTup = dm.getData()"
   ]
  },
  {
   "cell_type": "markdown",
   "metadata": {},
   "source": [
    "Here, we fill the `y` matrix with all ones. This is quick temporary and hacky way to quickly format the data for the transformer. \n",
    "\n",
    "The `dataTs2Range` method in the following line prepares the data by reformatting it to shape `(rho, num observations, num inputs)`. In our case, we do not want to limit just to `num observations`. Rathe, we want to keep ALL the remote sensing data in order to retrieve daily LFMC prediction from the study period."
   ]
  },
  {
   "cell_type": "code",
   "execution_count": 81,
   "metadata": {},
   "outputs": [],
   "source": [
    "x, xc, y, _ = dataTup\n",
    "dataTup = (x, xc, np.ones(y.shape), _)"
   ]
  },
  {
   "cell_type": "code",
   "execution_count": null,
   "metadata": {},
   "outputs": [],
   "source": []
  },
  {
   "cell_type": "code",
   "execution_count": 83,
   "metadata": {},
   "outputs": [
    {
     "name": "stdout",
     "output_type": "stream",
     "text": [
      "[   0    0    0 ... 1887 1887 1887]\n"
     ]
    }
   ],
   "source": [
    "# To convert data to shape (Number of observations, rho, number of input features)\n",
    "dataEnd, (iInd, jInd) = (dataTup, rho, returnInd=True) # iInd: day, jInd: site\n",
    "x, xc, _, yc = dataEnd \n",
    "\n",
    "iInd = np.array(iInd) # TODO: Temporary fix\n",
    "jInd = np.array(jInd) # TODO: emporary fix"
   ]
  },
  {
   "cell_type": "code",
   "execution_count": 77,
   "metadata": {},
   "outputs": [
    {
     "data": {
      "text/plain": [
       "(91, 602330, 27)"
      ]
     },
     "execution_count": 77,
     "metadata": {},
     "output_type": "execute_result"
    }
   ],
   "source": [
    "x.shape"
   ]
  },
  {
   "cell_type": "code",
   "execution_count": 30,
   "metadata": {},
   "outputs": [],
   "source": [
    "# satellite variable names\n",
    "varS = ['VV', 'VH', 'vh_vv']\n",
    "varL = ['SR_B2', 'SR_B3', 'SR_B4', 'SR_B5', 'SR_B6', 'ndvi', 'ndwi', 'nirv']\n",
    "varM = [\"MCD43A4_b{}\".format(x) for x in range(1, 8)]"
   ]
  },
  {
   "cell_type": "code",
   "execution_count": 31,
   "metadata": {},
   "outputs": [],
   "source": [
    "iInd = np.array(iInd) # TODO: Temporary fix\n",
    "jInd = np.array(jInd) # TODO: emporary fix\n",
    "\n",
    "iS = [df.varX.index(var) for var in varS]\n",
    "iL = [df.varX.index(var) for var in varL]\n",
    "iM = [df.varX.index(var) for var in varM]\n",
    "\n",
    "# For each remote sensing source (i.e. Sentinel, MODIS), for each LFMC observaton,\n",
    "# create a list of days in the rho-window that have data \n",
    "# nMat: Number of days each satellite has data for, of shape (# obsevations, # satellites)\n",
    "pSLst, pLLst, pMLst = list(), list(), list()\n",
    "nMat = np.zeros([yc.shape[0], 3])\n",
    "for k in range(nMat.shape[0]):\n",
    "    tempS = x[:, k, iS]\n",
    "    pS = np.where(~np.isnan(tempS).any(axis=1))[0]\n",
    "    tempL = x[:, k, iL]\n",
    "    pL = np.where(~np.isnan(tempL).any(axis=1))[0]\n",
    "    tempM = x[:, k, iM]\n",
    "    pM = np.where(~np.isnan(tempM).any(axis=1))[0]\n",
    "    pSLst.append(pS)\n",
    "    pLLst.append(pL)\n",
    "    pMLst.append(pM)\n",
    "    nMat[k, :] = [len(pS), len(pL), len(pM)]\n",
    "\n",
    "# only keep if data if there is at least 1 day of data for each remote sensing source\n",
    "indKeep = np.where((nMat > 0).all(axis=1))[0]\n",
    "x = x[:, indKeep, :]\n",
    "xc = xc[indKeep, :]\n",
    "yc = yc[indKeep, :]\n",
    "nMat = nMat[indKeep, :]\n",
    "pSLst = [pSLst[k] for k in indKeep]\n",
    "pLLst = [pLLst[k] for k in indKeep]\n",
    "pMLst = [pMLst[k] for k in indKeep]\n",
    "\n",
    "jInd = jInd[indKeep]"
   ]
  },
  {
   "cell_type": "code",
   "execution_count": 32,
   "metadata": {},
   "outputs": [
    {
     "data": {
      "text/plain": [
       "(91, 575602, 27)"
      ]
     },
     "execution_count": 32,
     "metadata": {},
     "output_type": "execute_result"
    }
   ],
   "source": [
    "x.shape"
   ]
  },
  {
   "cell_type": "code",
   "execution_count": 35,
   "metadata": {},
   "outputs": [
    {
     "data": {
      "text/plain": [
       "26728"
      ]
     },
     "execution_count": 35,
     "metadata": {},
     "output_type": "execute_result"
    }
   ],
   "source": [
    "(602330 - 575602)"
   ]
  },
  {
   "cell_type": "code",
   "execution_count": null,
   "metadata": {},
   "outputs": [],
   "source": []
  }
 ],
 "metadata": {
  "language_info": {
   "name": "python"
  }
 },
 "nbformat": 4,
 "nbformat_minor": 2
}
