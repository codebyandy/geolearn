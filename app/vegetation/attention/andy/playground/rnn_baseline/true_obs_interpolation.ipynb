{
 "cells": [
  {
   "cell_type": "markdown",
   "metadata": {},
   "source": [
    "# Interpolate from Daily to Semi-Monthly Observations\n",
    "\n",
    "**Purpose:** We want to compare metrics by the RNN maps to predictions by the transformer model. Because the RNN gives us semi-monthly outputs, we have to interpolate the true LFMC observation and transformer out data to semi-monthly to do so.\n",
    "\n",
    "**Date:** July 29, 2024\n"
   ]
  },
  {
   "cell_type": "code",
   "execution_count": 12,
   "metadata": {},
   "outputs": [],
   "source": [
    "import pandas as pd\n",
    "from hydroDL import kPath\n",
    "import json"
   ]
  },
  {
   "cell_type": "code",
   "execution_count": 57,
   "metadata": {},
   "outputs": [],
   "source": [
    "# Function from: https://github.com/fkwai/geolearn/blob/master/app/vegetation/data/wrap/monthly/addRS.py\n",
    "# TODO: Understand what is happening here\n",
    "def interpSM(inputDF, var):\n",
    "    df = inputDF.copy()\n",
    "    df = df[var]\n",
    "    df = df.dropna()\n",
    "    df = df.resample('SMS').mean()\n",
    "    df = df.interpolate(limit=8)\n",
    "    return df"
   ]
  },
  {
   "cell_type": "code",
   "execution_count": 58,
   "metadata": {},
   "outputs": [],
   "source": [
    "# Load true observations data\n",
    "# TODO: Check with Kuai to make sure this is updated\n",
    "nfmd_path = f'{kPath.dirVeg}NFMD/NFMD_single_A19.json'\n",
    "f = open(nfmd_path)\n",
    "nfmd_data = json.load(f)"
   ]
  },
  {
   "cell_type": "code",
   "execution_count": 66,
   "metadata": {},
   "outputs": [],
   "source": [
    "for i in range(len(nfmd_data)):\n",
    "    dates = nfmd_data[i]['t']\n",
    "    lfmc_vals = nfmd_data[i]['v']\n",
    "    site_id = nfmd_data[i]['siteId']\n",
    "\n",
    "    site_data = {'lfmc': lfmc_vals}\n",
    "    df = pd.DataFrame(site_data)\n",
    "    df = df.set_index(pd.DatetimeIndex(dates))\n",
    "\n",
    "    df_interpolate = interpSM(df, ['lfmc'])\n",
    "\n",
    "    out_path =f'{kPath.dirVeg}inference/true_obs_interpolate_semimonthly/{site_id}.csv'\n",
    "    df_interpolate.to_csv(out_path)"
   ]
  }
 ],
 "metadata": {
  "language_info": {
   "name": "python"
  }
 },
 "nbformat": 4,
 "nbformat_minor": 2
}
