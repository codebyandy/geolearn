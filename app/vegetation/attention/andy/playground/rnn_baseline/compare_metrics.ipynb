{
 "cells": [
  {
   "cell_type": "markdown",
   "metadata": {},
   "source": [
    "# Compare RNN map & Transformer LFMCS to true observations\n",
    "\n",
    "**Purpose:** We want to compare metrics by the RNN maps to predictions by the transformer model.\n",
    "\n",
    "**Date:** July 29, 2024\n"
   ]
  },
  {
   "cell_type": "code",
   "execution_count": 5,
   "metadata": {},
   "outputs": [],
   "source": [
    "from hydroDL import kPath\n",
    "\n",
    "import pandas as pd\n",
    "import numpy as np\n",
    "import os\n",
    "from matplotlib import pyplot as plt\n",
    "import json\n",
    "from sklearn.metrics import r2_score"
   ]
  },
  {
   "cell_type": "code",
   "execution_count": 45,
   "metadata": {},
   "outputs": [],
   "source": [
    "# predictions paths\n",
    "true_obs_dir = f'{kPath.dirVeg}predictions/true_obs_interpolate_semimonthly/' \n",
    "transformer_dir = f'{kPath.dirVeg}predictions/transformer_interpolate_semimonthly/' \n",
    "rnn_maps_dir = f'{kPath.dirVeg}predictions/rnn_semimonthly_andy/'\n",
    "rnn_maps_dir = f'{kPath.dirVeg}predictions/rnn_semimonthly_kuai/'\n"
   ]
  },
  {
   "cell_type": "code",
   "execution_count": 46,
   "metadata": {},
   "outputs": [],
   "source": [
    "# get sites\n",
    "sites_path = os.path.join(kPath.dirVeg, 'predictions/non_train_siteIds_both_models_all.csv')\n",
    "# sites_path = os.path.join(kPath.dirVeg, 'predictions/non_train_siteIds_both_models_quality.csv')\n",
    "# sites_path = os.path.join(kPath.dirVeg, 'predictions/non_train_siteIds_both_models_poor.csv')\n",
    "sites = pd.read_csv(sites_path).siteId.unique()"
   ]
  },
  {
   "cell_type": "code",
   "execution_count": 47,
   "metadata": {},
   "outputs": [
    {
     "name": "stderr",
     "output_type": "stream",
     "text": [
      "/var/folders/_6/xq5r06kd7qb_g5546y0zvvz80000gn/T/ipykernel_5428/1452566390.py:29: FutureWarning: The behavior of DataFrame concatenation with empty or all-NA entries is deprecated. In a future version, this will no longer exclude empty or all-NA columns when determining the result dtypes. To retain the old behavior, exclude the relevant entries before the concat operation.\n",
      "  compare_df = pd.concat([compare_df, site_compare_df])\n"
     ]
    }
   ],
   "source": [
    "# collate data\n",
    "bad_sites = []\n",
    "compare_df = pd.DataFrame(columns=[\"site\", \"true\", \"rnn_lfmc1\", \"rnn_lfmc2\", \"transformer_lfmc\"])\n",
    "\n",
    "for site_id in sites:\n",
    "    try:\n",
    "        # Load site .csv files for true observation, rnn maps, transformer\n",
    "        site_obs_path = f'{true_obs_dir}{site_id}.csv'\n",
    "        site_rnn_path = f'{rnn_maps_dir}{site_id}.csv'\n",
    "        site_transformer_path = f'{transformer_dir}{site_id}.csv'\n",
    "        \n",
    "        site_obs_df = pd.read_csv(site_obs_path, index_col=0)\n",
    "        site_rnn_df = pd.read_csv(site_rnn_path, index_col=0)\n",
    "        site_transformer_df = pd.read_csv(site_transformer_path, index_col=0)\n",
    "\n",
    "        site_compare_df = pd.merge(site_obs_df, site_rnn_df, left_index=True, right_index=True)\n",
    "        # site_compare_df['true_lfmc'] = site_compare_df['lfmc_x']\n",
    "        # site_compare_df['rnn_lfmc'] = site_compare_df['lfmc_y']\n",
    "        site_compare_df['true_lfmc'] = site_compare_df['lfmc']\n",
    "        site_compare_df['rnn_lfmc'] = site_compare_df['b1']\n",
    "        site_compare_df = site_compare_df.drop(['lfmc', 'b1'], axis=1)\n",
    "\n",
    "        site_compare_df = pd.merge(site_compare_df, site_transformer_df, left_index=True, right_index=True)\n",
    "        site_compare_df['transformer_lfmc'] = site_compare_df['lfmc']\n",
    "        site_compare_df = site_compare_df.drop(['lfmc'], axis=1)\n",
    "        site_compare_df = site_compare_df.dropna()\n",
    "        site_compare_df = site_compare_df[site_compare_df.rnn_lfmc != 0]\n",
    "        site_compare_df[\"site\"] = [site_id for _ in range(len(site_compare_df))] \n",
    "        compare_df = pd.concat([compare_df, site_compare_df])\n",
    "    \n",
    "    except:\n",
    "        bad_sites.append(site_id)"
   ]
  },
  {
   "cell_type": "code",
   "execution_count": 49,
   "metadata": {},
   "outputs": [
    {
     "data": {
      "text/plain": [
       "9"
      ]
     },
     "execution_count": 49,
     "metadata": {},
     "output_type": "execute_result"
    }
   ],
   "source": [
    "len(bad_sites)"
   ]
  },
  {
   "cell_type": "code",
   "execution_count": 48,
   "metadata": {},
   "outputs": [
    {
     "data": {
      "text/html": [
       "<div>\n",
       "<style scoped>\n",
       "    .dataframe tbody tr th:only-of-type {\n",
       "        vertical-align: middle;\n",
       "    }\n",
       "\n",
       "    .dataframe tbody tr th {\n",
       "        vertical-align: top;\n",
       "    }\n",
       "\n",
       "    .dataframe thead th {\n",
       "        text-align: right;\n",
       "    }\n",
       "</style>\n",
       "<table border=\"1\" class=\"dataframe\">\n",
       "  <thead>\n",
       "    <tr style=\"text-align: right;\">\n",
       "      <th></th>\n",
       "      <th>metrics</th>\n",
       "      <th>rnn</th>\n",
       "      <th>transformer</th>\n",
       "    </tr>\n",
       "  </thead>\n",
       "  <tbody>\n",
       "    <tr>\n",
       "      <th>0</th>\n",
       "      <td>rmse</td>\n",
       "      <td>42.420178</td>\n",
       "      <td>28.908063</td>\n",
       "    </tr>\n",
       "    <tr>\n",
       "      <th>1</th>\n",
       "      <td>correlation coefficient</td>\n",
       "      <td>0.269591</td>\n",
       "      <td>0.635933</td>\n",
       "    </tr>\n",
       "    <tr>\n",
       "      <th>2</th>\n",
       "      <td>coefficient of determination</td>\n",
       "      <td>-0.359980</td>\n",
       "      <td>0.368424</td>\n",
       "    </tr>\n",
       "  </tbody>\n",
       "</table>\n",
       "</div>"
      ],
      "text/plain": [
       "                        metrics        rnn  transformer\n",
       "0                          rmse  42.420178    28.908063\n",
       "1       correlation coefficient   0.269591     0.635933\n",
       "2  coefficient of determination  -0.359980     0.368424"
      ]
     },
     "execution_count": 48,
     "metadata": {},
     "output_type": "execute_result"
    }
   ],
   "source": [
    "# get metrics\n",
    "rnn_rmse = np.sqrt(np.mean((compare_df.true_lfmc - compare_df.rnn_lfmc.astype('float')) ** 2))\n",
    "rnn_corr_coef = np.corrcoef(compare_df.true_lfmc, compare_df.rnn_lfmc.astype('float'))[0, 1]\n",
    "rnn_coef_det = r2_score(compare_df.true_lfmc, compare_df.rnn_lfmc.astype('float'))\n",
    "\n",
    "transformer_rmse = np.sqrt(np.mean((compare_df.true_lfmc - compare_df.transformer_lfmc) ** 2))\n",
    "transformer_corr_coef = np.corrcoef(compare_df.true_lfmc, compare_df.transformer_lfmc)[0, 1]\n",
    "transformer_coef_det = r2_score(compare_df.true_lfmc, compare_df.transformer_lfmc)\n",
    "\n",
    "metric_names = [\"rmse\", \"correlation coefficient\", \"coefficient of determination\"]\n",
    "rnn_metrics = [rnn_rmse, rnn_corr_coef, rnn_coef_det]\n",
    "transformer_metrics = [transformer_rmse, transformer_corr_coef, transformer_coef_det]\n",
    "\n",
    "metrics_dict = {\n",
    "    \"metrics\" : metric_names,\n",
    "    \"rnn\" : rnn_metrics,\n",
    "    \"transformer\" : transformer_metrics\n",
    "}\n",
    "\n",
    "metrics = pd.DataFrame(metrics_dict)\n",
    "metrics"
   ]
  },
  {
   "cell_type": "code",
   "execution_count": 44,
   "metadata": {},
   "outputs": [
    {
     "data": {
      "image/png": "[encoded data removed]",
      "text/plain": [
       "<Figure size 1500x500 with 1 Axes>"
      ]
     },
     "metadata": {},
     "output_type": "display_data"
    }
   ],
   "source": [
    "# get time series of given site\n",
    "site_id = 4\n",
    "sub_compare_df = compare_df[compare_df.site == sites[site_id]]\n",
    "\n",
    "plt.figure(figsize=(15, 5))\n",
    "plt.scatter(sub_compare_df.index, sub_compare_df.true_lfmc)\n",
    "plt.scatter(sub_compare_df.index, sub_compare_df.rnn_lfmc)\n",
    "# plt.scatter(sub_compare_df.index, sub_compare_df.transformer_lfmc)\n",
    "\n",
    "plt.legend([\"True\", \"RNN map\", \"Transformer\"])\n",
    "plt.xticks(rotation=45, ha='right')\n",
    "plt.tight_layout()\n",
    "\n",
    "plt.show()"
   ]
  },
  {
   "cell_type": "markdown",
   "metadata": {},
   "source": [
    "### Transformer daily stats"
   ]
  },
  {
   "cell_type": "code",
   "execution_count": 259,
   "metadata": {},
   "outputs": [],
   "source": [
    "path = os.path.join(kPath.dirVeg, \"predictions/transformer_lfmc_daily.csv\")\n",
    "transformer_daily_df = pd.read_csv(path)\n",
    "\n",
    "path = os.path.join(kPath.dirVeg, \"NFMD/NFMD.csv\")\n",
    "true_daily_df = pd.read_csv(path)"
   ]
  },
  {
   "cell_type": "code",
   "execution_count": 260,
   "metadata": {},
   "outputs": [
    {
     "data": {
      "text/html": [
       "<div>\n",
       "<style scoped>\n",
       "    .dataframe tbody tr th:only-of-type {\n",
       "        vertical-align: middle;\n",
       "    }\n",
       "\n",
       "    .dataframe tbody tr th {\n",
       "        vertical-align: top;\n",
       "    }\n",
       "\n",
       "    .dataframe thead th {\n",
       "        text-align: right;\n",
       "    }\n",
       "</style>\n",
       "<table border=\"1\" class=\"dataframe\">\n",
       "  <thead>\n",
       "    <tr style=\"text-align: right;\">\n",
       "      <th></th>\n",
       "      <th>metrics</th>\n",
       "      <th>transformer</th>\n",
       "    </tr>\n",
       "  </thead>\n",
       "  <tbody>\n",
       "    <tr>\n",
       "      <th>0</th>\n",
       "      <td>rmse</td>\n",
       "      <td>22.687895</td>\n",
       "    </tr>\n",
       "    <tr>\n",
       "      <th>1</th>\n",
       "      <td>correlation coefficient</td>\n",
       "      <td>0.844393</td>\n",
       "    </tr>\n",
       "    <tr>\n",
       "      <th>2</th>\n",
       "      <td>coefficient of determination</td>\n",
       "      <td>0.599314</td>\n",
       "    </tr>\n",
       "  </tbody>\n",
       "</table>\n",
       "</div>"
      ],
      "text/plain": [
       "                        metrics  transformer\n",
       "0                          rmse    22.687895\n",
       "1       correlation coefficient     0.844393\n",
       "2  coefficient of determination     0.599314"
      ]
     },
     "execution_count": 260,
     "metadata": {},
     "output_type": "execute_result"
    }
   ],
   "source": [
    "daily_df = pd.merge(transformer_daily_df, true_daily_df, left_on=[\"site\", \"date\"], right_on=[\"siteId\", \"Date\"])\n",
    "\n",
    "transformer_rmse = np.sqrt(np.mean((daily_df.lfmc - daily_df.Percent) ** 2))\n",
    "transformer_corr_coef = np.corrcoef(daily_df.lfmc, daily_df.Percent)[0, 1]\n",
    "transformer_coef_det = r2_score(daily_df.lfmc, daily_df.Percent)\n",
    "transformer_metrics = [transformer_rmse, transformer_corr_coef, transformer_coef_det]\n",
    "\n",
    "daily_metrics_dict = {\n",
    "    \"metrics\" : metric_names,\n",
    "    \"transformer\" : transformer_metrics\n",
    "}\n",
    "\n",
    "daily_metrics = pd.DataFrame(daily_metrics_dict)\n",
    "daily_metrics"
   ]
  },
  {
   "cell_type": "code",
   "execution_count": 261,
   "metadata": {},
   "outputs": [],
   "source": [
    "# get quality and poor sites\n",
    "path = os.path.join(kPath.dirVeg, \"model/data/singleDaily-nadgrid/site.csv\")\n",
    "site_df = pd.read_csv(path)\n",
    "\n",
    "splits_path = os.path.join(kPath.dirVeg, 'model', 'attention', 'dataset')\n",
    "splits_json = os.path.join(splits_path, 'subset.json')\n",
    "\n",
    "with open(splits_json) as json_file:\n",
    "    splits = json.load(json_file)\n",
    "\n",
    "quality_test_sites = splits['testSite_k05']\n",
    "poor_test_sites = splits['testSite_underThresh']\n",
    "\n",
    "quality_sites = site_df.iloc[quality_test_sites].siteId.tolist()\n",
    "poor_sites = site_df.iloc[poor_test_sites].siteId.tolist()\n"
   ]
  },
  {
   "cell_type": "code",
   "execution_count": 262,
   "metadata": {},
   "outputs": [
    {
     "data": {
      "text/html": [
       "<div>\n",
       "<style scoped>\n",
       "    .dataframe tbody tr th:only-of-type {\n",
       "        vertical-align: middle;\n",
       "    }\n",
       "\n",
       "    .dataframe tbody tr th {\n",
       "        vertical-align: top;\n",
       "    }\n",
       "\n",
       "    .dataframe thead th {\n",
       "        text-align: right;\n",
       "    }\n",
       "</style>\n",
       "<table border=\"1\" class=\"dataframe\">\n",
       "  <thead>\n",
       "    <tr style=\"text-align: right;\">\n",
       "      <th></th>\n",
       "      <th>metrics</th>\n",
       "      <th>transformer</th>\n",
       "    </tr>\n",
       "  </thead>\n",
       "  <tbody>\n",
       "    <tr>\n",
       "      <th>0</th>\n",
       "      <td>rmse</td>\n",
       "      <td>17.414221</td>\n",
       "    </tr>\n",
       "    <tr>\n",
       "      <th>1</th>\n",
       "      <td>correlation coefficient</td>\n",
       "      <td>0.912409</td>\n",
       "    </tr>\n",
       "    <tr>\n",
       "      <th>2</th>\n",
       "      <td>coefficient of determination</td>\n",
       "      <td>0.798819</td>\n",
       "    </tr>\n",
       "  </tbody>\n",
       "</table>\n",
       "</div>"
      ],
      "text/plain": [
       "                        metrics  transformer\n",
       "0                          rmse    17.414221\n",
       "1       correlation coefficient     0.912409\n",
       "2  coefficient of determination     0.798819"
      ]
     },
     "execution_count": 262,
     "metadata": {},
     "output_type": "execute_result"
    }
   ],
   "source": [
    "sub_daily_df = daily_df[daily_df.site.isin(quality_sites)]\n",
    "\n",
    "transformer_rmse = np.sqrt(np.mean((sub_daily_df.lfmc - sub_daily_df.Percent) ** 2))\n",
    "transformer_corr_coef = np.corrcoef(sub_daily_df.lfmc, sub_daily_df.Percent)[0, 1]\n",
    "transformer_coef_det = r2_score(sub_daily_df.lfmc, sub_daily_df.Percent)\n",
    "transformer_metrics = [transformer_rmse, transformer_corr_coef, transformer_coef_det]\n",
    "\n",
    "daily_metrics_dict = {\n",
    "    \"metrics\" : metric_names,\n",
    "    \"transformer\" : transformer_metrics\n",
    "}\n",
    "\n",
    "daily_metrics = pd.DataFrame(daily_metrics_dict)\n",
    "daily_metrics"
   ]
  },
  {
   "cell_type": "code",
   "execution_count": 263,
   "metadata": {},
   "outputs": [
    {
     "data": {
      "text/html": [
       "<div>\n",
       "<style scoped>\n",
       "    .dataframe tbody tr th:only-of-type {\n",
       "        vertical-align: middle;\n",
       "    }\n",
       "\n",
       "    .dataframe tbody tr th {\n",
       "        vertical-align: top;\n",
       "    }\n",
       "\n",
       "    .dataframe thead th {\n",
       "        text-align: right;\n",
       "    }\n",
       "</style>\n",
       "<table border=\"1\" class=\"dataframe\">\n",
       "  <thead>\n",
       "    <tr style=\"text-align: right;\">\n",
       "      <th></th>\n",
       "      <th>metrics</th>\n",
       "      <th>transformer</th>\n",
       "    </tr>\n",
       "  </thead>\n",
       "  <tbody>\n",
       "    <tr>\n",
       "      <th>0</th>\n",
       "      <td>rmse</td>\n",
       "      <td>26.099252</td>\n",
       "    </tr>\n",
       "    <tr>\n",
       "      <th>1</th>\n",
       "      <td>correlation coefficient</td>\n",
       "      <td>0.784638</td>\n",
       "    </tr>\n",
       "    <tr>\n",
       "      <th>2</th>\n",
       "      <td>coefficient of determination</td>\n",
       "      <td>0.380525</td>\n",
       "    </tr>\n",
       "  </tbody>\n",
       "</table>\n",
       "</div>"
      ],
      "text/plain": [
       "                        metrics  transformer\n",
       "0                          rmse    26.099252\n",
       "1       correlation coefficient     0.784638\n",
       "2  coefficient of determination     0.380525"
      ]
     },
     "execution_count": 263,
     "metadata": {},
     "output_type": "execute_result"
    }
   ],
   "source": [
    "sub_daily_df = daily_df[daily_df.site.isin(poor_sites)]\n",
    "\n",
    "transformer_rmse = np.sqrt(np.mean((sub_daily_df.lfmc - sub_daily_df.Percent) ** 2))\n",
    "transformer_corr_coef = np.corrcoef(sub_daily_df.lfmc, sub_daily_df.Percent)[0, 1]\n",
    "transformer_coef_det = r2_score(sub_daily_df.lfmc, sub_daily_df.Percent)\n",
    "transformer_metrics = [transformer_rmse, transformer_corr_coef, transformer_coef_det]\n",
    "\n",
    "daily_metrics_dict = {\n",
    "    \"metrics\" : metric_names,\n",
    "    \"transformer\" : transformer_metrics\n",
    "}\n",
    "\n",
    "daily_metrics = pd.DataFrame(daily_metrics_dict)\n",
    "daily_metrics"
   ]
  },
  {
   "cell_type": "code",
   "execution_count": 268,
   "metadata": {},
   "outputs": [
    {
     "data": {
      "image/png": "[encoded data removed]",
      "text/plain": [
       "<Figure size 1500x500 with 1 Axes>"
      ]
     },
     "metadata": {},
     "output_type": "display_data"
    }
   ],
   "source": [
    "# get time series of given site\n",
    "site_idx = 10\n",
    "sub_daily_df = daily_df[daily_df.site == quality_sites[site_idx]]\n",
    "\n",
    "plt.figure(figsize=(15, 5))\n",
    "plt.scatter(sub_daily_df.Date, sub_daily_df.Percent)\n",
    "plt.scatter(sub_daily_df.Date, sub_daily_df.lfmc)\n",
    "\n",
    "plt.legend([\"True\", \"RNN map\", \"Transformer\"])\n",
    "plt.xticks(rotation=45, ha='right')\n",
    "plt.tight_layout()\n",
    "\n",
    "plt.show()"
   ]
  },
  {
   "cell_type": "markdown",
   "metadata": {},
   "source": [
    "### Extra"
   ]
  },
  {
   "cell_type": "code",
   "execution_count": 106,
   "metadata": {},
   "outputs": [],
   "source": [
    "compare_df[\"rnn_diff\"] = abs(compare_df.true_lfmc - compare_df.rnn_lfmc)\n",
    "compare_df[\"transformer_diff\"] = abs(compare_df.true_lfmc - compare_df.transformer_lfmc)"
   ]
  },
  {
   "cell_type": "code",
   "execution_count": 107,
   "metadata": {},
   "outputs": [],
   "source": [
    "diff_by_site = compare_df.groupby(\"site\").mean()"
   ]
  },
  {
   "cell_type": "code",
   "execution_count": 108,
   "metadata": {},
   "outputs": [
    {
     "data": {
      "image/png": "[encoded data removed]",
      "text/plain": [
       "<Figure size 640x480 with 1 Axes>"
      ]
     },
     "metadata": {},
     "output_type": "display_data"
    }
   ],
   "source": [
    "plt.hist(diff_by_site.rnn_diff, bins=50)\n",
    "plt.xlim(0, 200)\n",
    "plt.show()"
   ]
  },
  {
   "cell_type": "code",
   "execution_count": 109,
   "metadata": {},
   "outputs": [
    {
     "data": {
      "image/png": "[encoded data removed]",
      "text/plain": [
       "<Figure size 640x480 with 1 Axes>"
      ]
     },
     "metadata": {},
     "output_type": "display_data"
    }
   ],
   "source": [
    "plt.hist(diff_by_site.transformer_diff, bins=50)\n",
    "plt.xlim(0, 200)\n",
    "plt.show()"
   ]
  },
  {
   "cell_type": "code",
   "execution_count": null,
   "metadata": {},
   "outputs": [],
   "source": []
  },
  {
   "cell_type": "markdown",
   "metadata": {},
   "source": []
  },
  {
   "cell_type": "markdown",
   "metadata": {},
   "source": [
    "### Compare andy RNN extraction wth Kuai RNN extraction"
   ]
  },
  {
   "cell_type": "code",
   "execution_count": null,
   "metadata": {},
   "outputs": [],
   "source": [
    "# collate data\n",
    "compare_df = pd.DataFrame(columns=[\"site\", \"true_lfmc\", \"rnn_lfmc\", \"transformer_lfmc\"])\n",
    "\n",
    "for site_id in sites:\n",
    "    # Load site .csv files for true observation, rnn maps, transformer\n",
    "    site_rnn_path = f'{rnn_maps_dir}{site_id}.csv'\n",
    "    site_rnn_kuai_path= f'{rnn_maps_kuai_dir}{site_id}.csv'\n",
    "    \n",
    "    site_rnn_df = pd.read_csv(site_rnn_path, index_col=0)\n",
    "    site_rnn_df = pd.read_csv(site_rnn_path, index_col=0)\n",
    "\n",
    "    site_compare_df = pd.merge(site_obs_df, site_rnn_df, left_index=True, right_index=True)\n",
    "    site_compare_df['true_lfmc'] = site_compare_df['lfmc_x']\n",
    "    site_compare_df['rnn_lfmc'] = site_compare_df['lfmc_y']\n",
    "    site_compare_df = site_compare_df.drop(['lfmc_x', 'lfmc_y'], axis=1)\n",
    "\n",
    "    site_compare_df = pd.merge(site_compare_df, site_transformer_df, left_index=True, right_index=True)\n",
    "    site_compare_df['transformer_lfmc'] = site_compare_df['lfmc']\n",
    "    site_compare_df = site_compare_df.drop(['lfmc'], axis=1)\n",
    "    site_compare_df = site_compare_df.dropna()\n",
    "    site_compare_df = site_compare_df[site_compare_df.rnn_lfmc != 0]\n",
    "    site_compare_df[\"site\"] = [site_id for _ in range(len(site_compare_df))] \n",
    "    compare_df = pd.concat([compare_df, site_compare_df])"
   ]
  },
  {
   "cell_type": "code",
   "execution_count": 12,
   "metadata": {},
   "outputs": [],
   "source": [
    "site_id = sites[1] # test on raondmo site\n",
    "\n",
    "site_rnn_path = f'{rnn_maps_dir}{site_id}.csv'\n",
    "site_rnn_kuai_path= f'{rnn_maps_kuai_dir}{site_id}.csv'\n",
    "\n",
    "site_rnn_df = pd.read_csv(site_rnn_path, index_col=0)\n",
    "site_rnn_kuai_df = pd.read_csv(site_rnn_kuai_path, index_col=0)"
   ]
  },
  {
   "cell_type": "code",
   "execution_count": 16,
   "metadata": {},
   "outputs": [],
   "source": [
    "site_compare_df = pd.merge(site_rnn_df, site_rnn_kuai_df, left_index=True, right_index=True)"
   ]
  },
  {
   "cell_type": "code",
   "execution_count": 17,
   "metadata": {},
   "outputs": [
    {
     "data": {
      "text/html": [
       "<div>\n",
       "<style scoped>\n",
       "    .dataframe tbody tr th:only-of-type {\n",
       "        vertical-align: middle;\n",
       "    }\n",
       "\n",
       "    .dataframe tbody tr th {\n",
       "        vertical-align: top;\n",
       "    }\n",
       "\n",
       "    .dataframe thead th {\n",
       "        text-align: right;\n",
       "    }\n",
       "</style>\n",
       "<table border=\"1\" class=\"dataframe\">\n",
       "  <thead>\n",
       "    <tr style=\"text-align: right;\">\n",
       "      <th></th>\n",
       "      <th>lfmc</th>\n",
       "      <th>b1</th>\n",
       "    </tr>\n",
       "  </thead>\n",
       "  <tbody>\n",
       "    <tr>\n",
       "      <th>2016-04-15</th>\n",
       "      <td>0</td>\n",
       "      <td>NaN</td>\n",
       "    </tr>\n",
       "    <tr>\n",
       "      <th>2016-05-01</th>\n",
       "      <td>0</td>\n",
       "      <td>NaN</td>\n",
       "    </tr>\n",
       "    <tr>\n",
       "      <th>2016-05-15</th>\n",
       "      <td>0</td>\n",
       "      <td>NaN</td>\n",
       "    </tr>\n",
       "    <tr>\n",
       "      <th>2016-06-01</th>\n",
       "      <td>0</td>\n",
       "      <td>NaN</td>\n",
       "    </tr>\n",
       "    <tr>\n",
       "      <th>2016-06-15</th>\n",
       "      <td>0</td>\n",
       "      <td>NaN</td>\n",
       "    </tr>\n",
       "    <tr>\n",
       "      <th>...</th>\n",
       "      <td>...</td>\n",
       "      <td>...</td>\n",
       "    </tr>\n",
       "    <tr>\n",
       "      <th>2020-08-01</th>\n",
       "      <td>70</td>\n",
       "      <td>49.0</td>\n",
       "    </tr>\n",
       "    <tr>\n",
       "      <th>2020-08-15</th>\n",
       "      <td>69</td>\n",
       "      <td>49.0</td>\n",
       "    </tr>\n",
       "    <tr>\n",
       "      <th>2020-09-01</th>\n",
       "      <td>72</td>\n",
       "      <td>52.0</td>\n",
       "    </tr>\n",
       "    <tr>\n",
       "      <th>2020-09-15</th>\n",
       "      <td>66</td>\n",
       "      <td>53.0</td>\n",
       "    </tr>\n",
       "    <tr>\n",
       "      <th>2020-10-01</th>\n",
       "      <td>65</td>\n",
       "      <td>53.0</td>\n",
       "    </tr>\n",
       "  </tbody>\n",
       "</table>\n",
       "<p>107 rows × 2 columns</p>\n",
       "</div>"
      ],
      "text/plain": [
       "            lfmc    b1\n",
       "2016-04-15     0   NaN\n",
       "2016-05-01     0   NaN\n",
       "2016-05-15     0   NaN\n",
       "2016-06-01     0   NaN\n",
       "2016-06-15     0   NaN\n",
       "...          ...   ...\n",
       "2020-08-01    70  49.0\n",
       "2020-08-15    69  49.0\n",
       "2020-09-01    72  52.0\n",
       "2020-09-15    66  53.0\n",
       "2020-10-01    65  53.0\n",
       "\n",
       "[107 rows x 2 columns]"
      ]
     },
     "execution_count": 17,
     "metadata": {},
     "output_type": "execute_result"
    }
   ],
   "source": [
    "site_compare_df"
   ]
  },
  {
   "cell_type": "code",
   "execution_count": 31,
   "metadata": {},
   "outputs": [
    {
     "data": {
      "text/plain": [
       "'b1'"
      ]
     },
     "execution_count": 31,
     "metadata": {},
     "output_type": "execute_result"
    }
   ],
   "source": [
    "site_rnn_kuai_df.columns[0]"
   ]
  },
  {
   "cell_type": "code",
   "execution_count": null,
   "metadata": {},
   "outputs": [],
   "source": []
  }
 ],
 "metadata": {
  "language_info": {
   "name": "python"
  }
 },
 "nbformat": 4,
 "nbformat_minor": 2
}
