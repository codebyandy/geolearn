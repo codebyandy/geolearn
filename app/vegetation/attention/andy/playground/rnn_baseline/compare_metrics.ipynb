{
 "cells": [
  {
   "cell_type": "markdown",
   "metadata": {},
   "source": [
    "# Compare RNN map & Transformer LFMCS to true observations\n",
    "\n",
    "**Purpose:** We want to compare metrics by the RNN maps to predictions by the transformer model.\n",
    "\n",
    "**Date:** July 29, 2024\n"
   ]
  },
  {
   "cell_type": "code",
   "execution_count": 5,
   "metadata": {},
   "outputs": [],
   "source": [
    "import pandas as pd\n",
    "from hydroDL import kPath"
   ]
  },
  {
   "cell_type": "code",
   "execution_count": 14,
   "metadata": {},
   "outputs": [],
   "source": [
    "sites_path = f'{kPath.dirVeg}model/data/singleDaily-nadgrid/info.csv'\n",
    "sites_df = pd.read_csv(sites_path)\n",
    "\n",
    "true_obs_dir = f'{kPath.dirVeg}inference/true_obs_interpolate_semimonthly/' \n",
    "rnn_maps_dir = f'{kPath.dirVeg}inference/rnn_maps/'\n"
   ]
  },
  {
   "cell_type": "code",
   "execution_count": 12,
   "metadata": {},
   "outputs": [],
   "source": [
    "# TESTING: choose an arbitrary site\n",
    "site_id = sites_df.iloc[0].siteId"
   ]
  },
  {
   "cell_type": "code",
   "execution_count": 28,
   "metadata": {},
   "outputs": [],
   "source": [
    "site_obs_path = f'{true_obs_dir}{site_id}.csv'\n",
    "site_rnn_path = f'{rnn_maps_dir}{site_id}.csv'\n",
    "\n",
    "site_obs_df = pd.read_csv(site_obs_path, index_col=0)\n",
    "site_rnn_df = pd.read_csv(site_rnn_path, index_col=0)"
   ]
  },
  {
   "cell_type": "code",
   "execution_count": 51,
   "metadata": {},
   "outputs": [],
   "source": [
    "compare_df = pd.merge(site_obs_df, site_rnn_df, left_index=True, right_index=True)\n",
    "compare_df['true_lfmc'] = compare_df['lfmc_x']\n",
    "compare_df['rnn_lfmc'] = compare_df['lfmc_y']\n",
    "compare_df = compare_df.drop(['lfmc_x', 'lfmc_y'], axis=1)\n",
    "compare_df = compare_df.dropna()\n",
    "compare_df = compare_df[compare_df.rnn_lfmc != 0]"
   ]
  },
  {
   "cell_type": "code",
   "execution_count": 52,
   "metadata": {},
   "outputs": [
    {
     "data": {
      "text/html": [
       "<div>\n",
       "<style scoped>\n",
       "    .dataframe tbody tr th:only-of-type {\n",
       "        vertical-align: middle;\n",
       "    }\n",
       "\n",
       "    .dataframe tbody tr th {\n",
       "        vertical-align: top;\n",
       "    }\n",
       "\n",
       "    .dataframe thead th {\n",
       "        text-align: right;\n",
       "    }\n",
       "</style>\n",
       "<table border=\"1\" class=\"dataframe\">\n",
       "  <thead>\n",
       "    <tr style=\"text-align: right;\">\n",
       "      <th></th>\n",
       "      <th>true_lfmc</th>\n",
       "      <th>rnn_lfmc</th>\n",
       "    </tr>\n",
       "  </thead>\n",
       "  <tbody>\n",
       "    <tr>\n",
       "      <th>2019-07-01</th>\n",
       "      <td>99.000000</td>\n",
       "      <td>94</td>\n",
       "    </tr>\n",
       "    <tr>\n",
       "      <th>2019-08-01</th>\n",
       "      <td>106.000000</td>\n",
       "      <td>96</td>\n",
       "    </tr>\n",
       "    <tr>\n",
       "      <th>2019-08-15</th>\n",
       "      <td>106.666667</td>\n",
       "      <td>96</td>\n",
       "    </tr>\n",
       "    <tr>\n",
       "      <th>2019-09-01</th>\n",
       "      <td>107.333333</td>\n",
       "      <td>95</td>\n",
       "    </tr>\n",
       "    <tr>\n",
       "      <th>2019-09-15</th>\n",
       "      <td>108.000000</td>\n",
       "      <td>93</td>\n",
       "    </tr>\n",
       "    <tr>\n",
       "      <th>2019-10-15</th>\n",
       "      <td>97.214286</td>\n",
       "      <td>93</td>\n",
       "    </tr>\n",
       "    <tr>\n",
       "      <th>2019-11-01</th>\n",
       "      <td>97.428571</td>\n",
       "      <td>95</td>\n",
       "    </tr>\n",
       "    <tr>\n",
       "      <th>2019-11-15</th>\n",
       "      <td>97.642857</td>\n",
       "      <td>93</td>\n",
       "    </tr>\n",
       "    <tr>\n",
       "      <th>2019-12-01</th>\n",
       "      <td>97.857143</td>\n",
       "      <td>92</td>\n",
       "    </tr>\n",
       "    <tr>\n",
       "      <th>2019-12-15</th>\n",
       "      <td>98.071429</td>\n",
       "      <td>91</td>\n",
       "    </tr>\n",
       "    <tr>\n",
       "      <th>2020-01-01</th>\n",
       "      <td>98.285714</td>\n",
       "      <td>88</td>\n",
       "    </tr>\n",
       "    <tr>\n",
       "      <th>2020-08-01</th>\n",
       "      <td>110.000000</td>\n",
       "      <td>99</td>\n",
       "    </tr>\n",
       "    <tr>\n",
       "      <th>2020-08-15</th>\n",
       "      <td>109.000000</td>\n",
       "      <td>99</td>\n",
       "    </tr>\n",
       "    <tr>\n",
       "      <th>2020-09-01</th>\n",
       "      <td>108.000000</td>\n",
       "      <td>97</td>\n",
       "    </tr>\n",
       "    <tr>\n",
       "      <th>2020-09-15</th>\n",
       "      <td>100.500000</td>\n",
       "      <td>95</td>\n",
       "    </tr>\n",
       "    <tr>\n",
       "      <th>2020-10-01</th>\n",
       "      <td>104.000000</td>\n",
       "      <td>92</td>\n",
       "    </tr>\n",
       "  </tbody>\n",
       "</table>\n",
       "</div>"
      ],
      "text/plain": [
       "             true_lfmc  rnn_lfmc\n",
       "2019-07-01   99.000000        94\n",
       "2019-08-01  106.000000        96\n",
       "2019-08-15  106.666667        96\n",
       "2019-09-01  107.333333        95\n",
       "2019-09-15  108.000000        93\n",
       "2019-10-15   97.214286        93\n",
       "2019-11-01   97.428571        95\n",
       "2019-11-15   97.642857        93\n",
       "2019-12-01   97.857143        92\n",
       "2019-12-15   98.071429        91\n",
       "2020-01-01   98.285714        88\n",
       "2020-08-01  110.000000        99\n",
       "2020-08-15  109.000000        99\n",
       "2020-09-01  108.000000        97\n",
       "2020-09-15  100.500000        95\n",
       "2020-10-01  104.000000        92"
      ]
     },
     "execution_count": 52,
     "metadata": {},
     "output_type": "execute_result"
    }
   ],
   "source": [
    "\n",
    "compare_df\n"
   ]
  },
  {
   "cell_type": "code",
   "execution_count": null,
   "metadata": {},
   "outputs": [],
   "source": []
  }
 ],
 "metadata": {
  "language_info": {
   "name": "python"
  }
 },
 "nbformat": 4,
 "nbformat_minor": 2
}
