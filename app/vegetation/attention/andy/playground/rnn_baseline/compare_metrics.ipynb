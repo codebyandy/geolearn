{
 "cells": [
  {
   "cell_type": "markdown",
   "metadata": {},
   "source": [
    "# Compare RNN map & Transformer LFMCS to true observations\n",
    "\n",
    "**Purpose:** We want to compare metrics by the RNN maps to predictions by the transformer model.\n",
    "\n",
    "**Date:** July 29, 2024\n"
   ]
  },
  {
   "cell_type": "code",
   "execution_count": 34,
   "metadata": {},
   "outputs": [],
   "source": [
    "from hydroDL import kPath\n",
    "\n",
    "import pandas as pd\n",
    "import numpy as np\n",
    "import os\n",
    "\n",
    "from sklearn.metrics import r2_score"
   ]
  },
  {
   "cell_type": "code",
   "execution_count": 7,
   "metadata": {},
   "outputs": [],
   "source": [
    "true_obs_dir = f'{kPath.dirVeg}inference/true_obs_interpolate_semimonthly/' \n",
    "transformer_dir = f'{kPath.dirVeg}inference/transformer_interpolate_semimonthly/' \n",
    "rnn_maps_dir = f'{kPath.dirVeg}inference/rnn_maps/'\n"
   ]
  },
  {
   "cell_type": "code",
   "execution_count": 19,
   "metadata": {},
   "outputs": [],
   "source": [
    "# TEMPORARY: choose an arbitrary site\n",
    "path = os.path.join(kPath.dirVeg, \"transformer_lfmc_daily.csv\")\n",
    "df = pd.read_csv(path)\n",
    "sites = df.site.unique()"
   ]
  },
  {
   "cell_type": "code",
   "execution_count": 100,
   "metadata": {},
   "outputs": [
    {
     "name": "stderr",
     "output_type": "stream",
     "text": [
      "/var/folders/_6/xq5r06kd7qb_g5546y0zvvz80000gn/T/ipykernel_14761/3306074793.py:25: FutureWarning: The behavior of DataFrame concatenation with empty or all-NA entries is deprecated. In a future version, this will no longer exclude empty or all-NA columns when determining the result dtypes. To retain the old behavior, exclude the relevant entries before the concat operation.\n",
      "  compare_df = pd.concat([compare_df, site_compare_df])\n"
     ]
    },
    {
     "name": "stdout",
     "output_type": "stream",
     "text": [
      "missing N0153\n",
      "missing N0186\n",
      "missing N0285\n",
      "missing N0400\n",
      "missing N0538\n",
      "missing N0661\n",
      "missing N0690\n",
      "missing N0698\n",
      "missing N0965\n",
      "missing N1036\n",
      "missing N1042\n",
      "missing N1043\n",
      "missing N1044\n",
      "missing N1045\n",
      "missing N1048\n",
      "missing N1051\n",
      "missing N1098\n"
     ]
    }
   ],
   "source": [
    "compare_df = pd.DataFrame(columns=[\"true_lfmc\", \"rnn_lfmc\", \"transformer_lfmc\"])\n",
    "\n",
    "for site_id in sites:\n",
    "    # Load site .csv files for true observation, rnn maps, transformer\n",
    "    site_obs_path = f'{true_obs_dir}{site_id}.csv'\n",
    "    site_rnn_path = f'{rnn_maps_dir}{site_id}.csv'\n",
    "    site_transformer_path = f'{transformer_dir}{site_id}.csv'\n",
    "    \n",
    "    try:\n",
    "        site_obs_df = pd.read_csv(site_obs_path, index_col=0)\n",
    "        site_rnn_df = pd.read_csv(site_rnn_path, index_col=0)\n",
    "        site_transformer_df = pd.read_csv(site_transformer_path, index_col=0)\n",
    "\n",
    "        site_compare_df = pd.merge(site_obs_df, site_rnn_df, left_index=True, right_index=True)\n",
    "        site_compare_df['true_lfmc'] = site_compare_df['lfmc_x']\n",
    "        site_compare_df['rnn_lfmc'] = site_compare_df['lfmc_y']\n",
    "        site_compare_df = site_compare_df.drop(['lfmc_x', 'lfmc_y'], axis=1)\n",
    "\n",
    "        site_compare_df = pd.merge(site_compare_df, site_transformer_df, left_index=True, right_index=True)\n",
    "        site_compare_df['transformer_lfmc'] = site_compare_df['lfmc']\n",
    "        site_compare_df = site_compare_df.drop(['lfmc'], axis=1)\n",
    "        site_compare_df = site_compare_df.dropna()\n",
    "        site_compare_df = site_compare_df[site_compare_df.rnn_lfmc != 0]\n",
    "\n",
    "        compare_df = pd.concat([compare_df, site_compare_df])\n",
    "\n",
    "    except:\n",
    "        print(f\"missing {site_id}\")"
   ]
  },
  {
   "cell_type": "code",
   "execution_count": 101,
   "metadata": {},
   "outputs": [],
   "source": [
    "rnn_rmse = np.sqrt(np.mean((compare_df.true_lfmc - compare_df.rnn_lfmc.astype('float')) ** 2))\n",
    "rnn_corr_coef = np.corrcoef(compare_df.true_lfmc, compare_df.rnn_lfmc.astype('float'))[0, 1]\n",
    "rnn_coef_det = r2_score(compare_df.true_lfmc, compare_df.rnn_lfmc.astype('float'))"
   ]
  },
  {
   "cell_type": "code",
   "execution_count": 102,
   "metadata": {},
   "outputs": [],
   "source": [
    "transformer_rmse = np.sqrt(np.mean((compare_df.true_lfmc - compare_df.transformer_lfmc) ** 2))\n",
    "transformer_corr_coef = np.corrcoef(compare_df.true_lfmc, compare_df.transformer_lfmc)[0, 1]\n",
    "transformer_coef_det = r2_score(compare_df.true_lfmc, compare_df.transformer_lfmc)"
   ]
  },
  {
   "cell_type": "code",
   "execution_count": 103,
   "metadata": {},
   "outputs": [
    {
     "name": "stdout",
     "output_type": "stream",
     "text": [
      "43.111319117759976 0.2755786990525062 -0.2939754602790352\n"
     ]
    }
   ],
   "source": [
    "print(rnn_rmse, rnn_corr_coef, rnn_coef_det)"
   ]
  },
  {
   "cell_type": "code",
   "execution_count": 104,
   "metadata": {},
   "outputs": [
    {
     "name": "stdout",
     "output_type": "stream",
     "text": [
      "29.26213461330525 0.6584704683663191 0.40385016960814146\n"
     ]
    }
   ],
   "source": [
    "print(transformer_rmse, transformer_corr_coef, transformer_coef_det)"
   ]
  },
  {
   "cell_type": "code",
   "execution_count": null,
   "metadata": {},
   "outputs": [],
   "source": []
  }
 ],
 "metadata": {
  "language_info": {
   "name": "python"
  }
 },
 "nbformat": 4,
 "nbformat_minor": 2
}
