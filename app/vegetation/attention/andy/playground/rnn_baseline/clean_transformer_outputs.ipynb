{
 "cells": [
  {
   "cell_type": "code",
   "execution_count": 15,
   "metadata": {},
   "outputs": [],
   "source": [
    "from hydroDL import kPath\n",
    "\n",
    "import pandas as pd\n",
    "import numpy as np\n",
    "import os"
   ]
  },
  {
   "cell_type": "code",
   "execution_count": 16,
   "metadata": {},
   "outputs": [],
   "source": [
    "data_path = os.path.join(kPath.dirVeg, \"raw_transformer_lfmc_daily.npy\")\n",
    "data = np.load(data_path)\n",
    "\n",
    "data_dict = {\n",
    "    \"site_index\" : data[:, 1],\n",
    "    \"date_index\" : data[:, 2],\n",
    "    \"lfmc\" : data[:, 0]\n",
    "}\n",
    "data_df = pd.DataFrame(data_dict)"
   ]
  },
  {
   "cell_type": "code",
   "execution_count": 18,
   "metadata": {},
   "outputs": [],
   "source": [
    "# convert site index to site ids\n",
    "sites_path = os.path.join(kPath.dirVeg, \"model/data/singleDaily-nadgrid/info.csv\")\n",
    "sites_df = pd.read_csv(sites_path)\n",
    "\n",
    "sites_dict = {\n",
    "    \"site\" : sites_df.siteId,\n",
    "    \"site_index\" : range(len(sites_df))\n",
    "}\n",
    "sites_df = pd.DataFrame(sites_dict)\n",
    "\n",
    "data_df = data_df.merge(sites_df)\n",
    "data_df = data_df.drop([\"site_index\"], axis=1)"
   ]
  },
  {
   "cell_type": "code",
   "execution_count": 22,
   "metadata": {},
   "outputs": [],
   "source": [
    "# convert elapsed days to dates\n",
    "date_range = pd.date_range(start='2016-10-15', end='2021-12-15')\n",
    "\n",
    "dates_dict ={\n",
    "    \"date\" : date_range,\n",
    "    \"date_index\" : range(len(date_range))\n",
    "}\n",
    "dates_df = pd.DataFrame(dates_dict)\n",
    "\n",
    "data_df = data_df.merge(dates_df)\n",
    "data_df = data_df.drop([\"date_index\"], axis=1)"
   ]
  },
  {
   "cell_type": "code",
   "execution_count": 23,
   "metadata": {},
   "outputs": [],
   "source": [
    "data_df.set_index('date', inplace=True)"
   ]
  },
  {
   "cell_type": "code",
   "execution_count": 24,
   "metadata": {},
   "outputs": [],
   "source": [
    "out_path = os.path.join(kPath.dirVeg, \"transformer_lfmc_daily.csv\")\n",
    "data_df.to_csv(out_path)"
   ]
  }
 ],
 "metadata": {
  "language_info": {
   "name": "python"
  }
 },
 "nbformat": 4,
 "nbformat_minor": 2
}
