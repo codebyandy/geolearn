{
 "cells": [
  {
   "cell_type": "markdown",
   "metadata": {},
   "source": [
    "# Compare sites\n",
    "\n",
    "**Purpose:** We want to compare metrics by the RNN maps to predictions by the transformer model. We will compare performance on the sites that neither model was trained on. This script determines those sites.\n",
    "\n",
    "**Date:** Aug 1, 2024\n"
   ]
  },
  {
   "cell_type": "code",
   "execution_count": 2,
   "metadata": {},
   "outputs": [
    {
     "name": "stdout",
     "output_type": "stream",
     "text": [
      "loading package hydroDL\n"
     ]
    }
   ],
   "source": [
    "from hydroDL import kPath\n",
    "\n",
    "import pandas as pd\n",
    "import json\n",
    "import os"
   ]
  },
  {
   "cell_type": "code",
   "execution_count": 3,
   "metadata": {},
   "outputs": [
    {
     "name": "stdout",
     "output_type": "stream",
     "text": [
      "number of sites: 150\n"
     ]
    }
   ],
   "source": [
    "# RNN train sites\n",
    "rnn_df_path = '/Users/andyhuynh/Documents/lfmc/data/predictions/lstm_input_data_pure+all_same_28_may_2019_res_SM_gap_3M'\n",
    "rnn_df = pd.read_pickle(rnn_df_path)\n",
    "rnn_train_sites = rnn_df['site'].unique().tolist()\n",
    "\n",
    "print(\"number of sites:\", len(rnn_train_sites))\n"
   ]
  },
  {
   "cell_type": "code",
   "execution_count": 1,
   "metadata": {},
   "outputs": [
    {
     "ename": "NameError",
     "evalue": "name 'pd' is not defined",
     "output_type": "error",
     "traceback": [
      "\u001b[0;31m---------------------------------------------------------------------------\u001b[0m",
      "\u001b[0;31mNameError\u001b[0m                                 Traceback (most recent call last)",
      "Cell \u001b[0;32mIn[1], line 3\u001b[0m\n\u001b[1;32m      1\u001b[0m \u001b[38;5;66;03m# Transformer train/test sites\u001b[39;00m\n\u001b[1;32m      2\u001b[0m transformer_df_path \u001b[38;5;241m=\u001b[39m \u001b[38;5;124m'\u001b[39m\u001b[38;5;124m/Users/andyhuynh/Documents/lfmc/data/model/data/singleDaily-nadgrid/site.csv\u001b[39m\u001b[38;5;124m'\u001b[39m\n\u001b[0;32m----> 3\u001b[0m transformer_df \u001b[38;5;241m=\u001b[39m \u001b[43mpd\u001b[49m\u001b[38;5;241m.\u001b[39mread_csv(transformer_df_path)\n\u001b[1;32m      5\u001b[0m \u001b[38;5;66;03m# Get splits\u001b[39;00m\n\u001b[1;32m      6\u001b[0m splits_path \u001b[38;5;241m=\u001b[39m os\u001b[38;5;241m.\u001b[39mpath\u001b[38;5;241m.\u001b[39mjoin(kPath\u001b[38;5;241m.\u001b[39mdirVeg, \u001b[38;5;124m'\u001b[39m\u001b[38;5;124mmodel\u001b[39m\u001b[38;5;124m'\u001b[39m, \u001b[38;5;124m'\u001b[39m\u001b[38;5;124mattention\u001b[39m\u001b[38;5;124m'\u001b[39m, \u001b[38;5;124m'\u001b[39m\u001b[38;5;124mdataset\u001b[39m\u001b[38;5;124m'\u001b[39m)\n",
      "\u001b[0;31mNameError\u001b[0m: name 'pd' is not defined"
     ]
    }
   ],
   "source": [
    "# Transformer train/test sites\n",
    "transformer_df_path = '/Users/andyhuynh/Documents/lfmc/data/model/data/singleDaily-nadgrid/site.csv'\n",
    "transformer_df = pd.read_csv(transformer_df_path)\n",
    "\n",
    "# Get splits\n",
    "splits_path = os.path.join(kPath.dirVeg, 'model', 'attention', 'dataset')\n",
    "splits_json = os.path.join(splits_path, 'subset.json')\n",
    "\n",
    "with open(splits_json) as json_file:\n",
    "    splits = json.load(json_file)\n",
    "\n",
    "quality_test_sites = splits['testSite_k05']\n",
    "poor_test_sites = splits['testSite_underThresh']\n",
    "test_sites = quality_test_sites + poor_test_sites\n",
    "\n",
    "print(\"number of sites:\", len(test_sites))\n",
    "print(\"number of quality sites:\", len(quality_test_sites))\n",
    "print(\"number of poor sites:\", len(poor_test_sites))"
   ]
  },
  {
   "cell_type": "code",
   "execution_count": 70,
   "metadata": {},
   "outputs": [
    {
     "name": "stdout",
     "output_type": "stream",
     "text": [
      "number of sites:  161\n"
     ]
    }
   ],
   "source": [
    "# all test sites\n",
    "transformer_test_df = transformer_df.iloc[test_sites]\n",
    "transformer_test_sites = transformer_test_df['siteName'].unique().tolist()\n",
    "\n",
    "non_train_siteNames_both_models = set(transformer_test_sites) - set(rnn_train_sites)\n",
    "non_train_siteIds_both_models = transformer_test_df[transformer_test_df.siteName.isin(non_train_siteNames_both_models)].siteId\n",
    "\n",
    "out_path = os.path.join(kPath.dirVeg, 'predictions/non_train_siteIds_both_models_all.csv')\n",
    "non_train_siteIds_both_models.to_csv(out_path, index=False)\n",
    "\n",
    "print(\"number of sites:\", len(non_train_siteIds_both_models))\n"
   ]
  },
  {
   "cell_type": "code",
   "execution_count": 76,
   "metadata": {},
   "outputs": [
    {
     "name": "stdout",
     "output_type": "stream",
     "text": [
      "number of sites: 20\n"
     ]
    }
   ],
   "source": [
    "# quality test sites\n",
    "transformer_test_df = transformer_df.iloc[quality_test_sites]\n",
    "transformer_test_sites = transformer_test_df['siteName'].unique().tolist()\n",
    "\n",
    "non_train_siteNames_both_models = set(transformer_test_sites) - set(rnn_train_sites)\n",
    "non_train_siteIds_both_models = transformer_test_df[transformer_test_df.siteName.isin(non_train_siteNames_both_models)].siteId\n",
    "\n",
    "out_path = os.path.join(kPath.dirVeg, 'predictions/non_train_siteIds_both_models_quality.csv')\n",
    "non_train_siteIds_both_models.to_csv(out_path, index=False)\n",
    "\n",
    "print(\"number of sites:\", len(non_train_siteIds_both_models))\n"
   ]
  },
  {
   "cell_type": "code",
   "execution_count": 71,
   "metadata": {},
   "outputs": [
    {
     "name": "stdout",
     "output_type": "stream",
     "text": [
      "number of sites: 141\n"
     ]
    }
   ],
   "source": [
    "# poor test sites\n",
    "transformer_test_df = transformer_df.iloc[poor_test_sites]\n",
    "transformer_test_sites = transformer_test_df['siteName'].unique().tolist()\n",
    "\n",
    "non_train_siteNames_both_models = set(transformer_test_sites) - set(rnn_train_sites)\n",
    "non_train_siteIds_both_models = transformer_test_df[transformer_test_df.siteName.isin(non_train_siteNames_both_models)].siteId\n",
    "\n",
    "out_path = os.path.join(kPath.dirVeg, 'predictions/non_train_siteIds_both_models_poor.csv')\n",
    "non_train_siteIds_both_models.to_csv(out_path, index=False)\n",
    "\n",
    "print(\"number of sites:\", len(non_train_siteIds_both_models))\n"
   ]
  }
 ],
 "metadata": {
  "language_info": {
   "name": "python"
  }
 },
 "nbformat": 4,
 "nbformat_minor": 2
}
