{
 "cells": [
  {
   "cell_type": "code",
   "execution_count": 3,
   "id": "b56663da-7716-4583-a7a3-a1335996bc67",
   "metadata": {},
   "outputs": [],
   "source": [
    "from sklearn.model_selection import StratifiedKFold\n",
    "import numpy as np"
   ]
  },
  {
   "cell_type": "code",
   "execution_count": 17,
   "id": "d4c2da64-7c0b-43a3-aa47-316dc2cf9ca4",
   "metadata": {},
   "outputs": [],
   "source": [
    "X = np.random.randint(0, 10, 100)\n",
    "y = np.random.randint(0, 10, 100)"
   ]
  },
  {
   "cell_type": "code",
   "execution_count": 26,
   "id": "55a88580-875b-4f2f-94fe-1228e9b5be6c",
   "metadata": {},
   "outputs": [],
   "source": [
    "skf = StratifiedKFold(n_splits=3, shuffle=True, random_state=1)"
   ]
  },
  {
   "cell_type": "code",
   "execution_count": 27,
   "id": "cb4ba2f8-27b7-4a13-9252-a3e11fd73a02",
   "metadata": {},
   "outputs": [],
   "source": [
    "splits = skf.split(X, y)"
   ]
  },
  {
   "cell_type": "code",
   "execution_count": 28,
   "id": "dcb74001-0b4c-44e8-aed5-c653a4ba92fc",
   "metadata": {},
   "outputs": [
    {
     "name": "stdout",
     "output_type": "stream",
     "text": [
      "Fold 0:\n",
      "  Train: index=[ 4  5  6  7  8  9 13 14 15 17 18 19 20 21 22 23 25 26 29 30 31 32 33 36\n",
      " 37 39 40 42 45 46 48 49 51 52 53 55 57 59 61 65 66 67 68 70 71 72 73 74\n",
      " 75 76 78 79 81 83 85 86 88 89 90 91 92 93 94 96 97 99]\n",
      "  Test:  index=[ 0  1  2  3 10 11 12 16 24 27 28 34 35 38 41 43 44 47 50 54 56 58 60 62\n",
      " 63 64 69 77 80 82 84 87 95 98]\n",
      "Fold 1:\n",
      "  Train: index=[ 0  1  2  3  5  6  8  9 10 11 12 15 16 17 19 20 21 24 26 27 28 30 31 33\n",
      " 34 35 38 41 42 43 44 47 50 51 54 55 56 58 59 60 61 62 63 64 65 66 67 68\n",
      " 69 70 73 74 76 77 80 81 82 84 85 86 87 94 95 96 97 98 99]\n",
      "  Test:  index=[ 4  7 13 14 18 22 23 25 29 32 36 37 39 40 45 46 48 49 52 53 57 71 72 75\n",
      " 78 79 83 88 89 90 91 92 93]\n",
      "Fold 2:\n",
      "  Train: index=[ 0  1  2  3  4  7 10 11 12 13 14 16 18 22 23 24 25 27 28 29 32 34 35 36\n",
      " 37 38 39 40 41 43 44 45 46 47 48 49 50 52 53 54 56 57 58 60 62 63 64 69\n",
      " 71 72 75 77 78 79 80 82 83 84 87 88 89 90 91 92 93 95 98]\n",
      "  Test:  index=[ 5  6  8  9 15 17 19 20 21 26 30 31 33 42 51 55 59 61 65 66 67 68 70 73\n",
      " 74 76 81 85 86 94 96 97 99]\n"
     ]
    }
   ],
   "source": [
    "for i, (train_index, test_index) in enumerate(splits):\n",
    "    print(f\"Fold {i}:\")\n",
    "    print(f\"  Train: index={train_index}\")\n",
    "    print(f\"  Test:  index={test_index}\")"
   ]
  },
  {
   "cell_type": "code",
   "execution_count": 29,
   "id": "2e625063-5529-4504-9ac3-c06aed2493bc",
   "metadata": {},
   "outputs": [
    {
     "name": "stdout",
     "output_type": "stream",
     "text": [
      "loading package hydroDL\n"
     ]
    }
   ],
   "source": [
    "from hydroDL import kPath\n",
    "from hydroDL.data import dbVeg, DataModel\n",
    "from hydroDL.master import basinFull, slurm, dataTs2Range\n",
    "\n",
    "import numpy as np\n",
    "\n",
    "import pandas as pd\n",
    "import pickle\n",
    "import os\n"
   ]
  },
  {
   "cell_type": "code",
   "execution_count": 34,
   "id": "60712fbf-a071-4b01-b33b-8e0bf35b84a3",
   "metadata": {},
   "outputs": [],
   "source": [
    "dataName = \"singleDaily\"\n",
    "rho = 45"
   ]
  },
  {
   "cell_type": "code",
   "execution_count": 35,
   "id": "ec1f94bc-d6b9-4298-be7c-7b97c59b37d2",
   "metadata": {},
   "outputs": [],
   "source": [
    "df = dbVeg.DataFrameVeg(dataName)\n",
    "dm = DataModel(X=df.x, XC=df.xc, Y=df.y)\n",
    "siteIdLst = df.siteIdLst\n",
    "dm.trans(mtdDefault='minmax')\n",
    "dataTup = dm.getData()\n",
    "dataEnd, (iInd, jInd) = dataTs2Range(dataTup, rho, returnInd=True)\n",
    "x, xc, y, yc = dataEnd"
   ]
  },
  {
   "cell_type": "code",
   "execution_count": 37,
   "id": "ba21e510-e65a-4a02-b846-d613f5cbadf8",
   "metadata": {},
   "outputs": [],
   "source": [
    "varS = ['VV', 'VH', 'vh_vv']\n",
    "varL = ['SR_B2', 'SR_B3', 'SR_B4', 'SR_B5', 'SR_B6', 'ndvi', 'ndwi', 'nirv']\n",
    "varM = ['Fpar', 'Lai']\n",
    "iS = [df.varX.index(var) for var in varS]\n",
    "iL = [df.varX.index(var) for var in varL]\n",
    "iM = [df.varX.index(var) for var in varM]"
   ]
  },
  {
   "cell_type": "code",
   "execution_count": 39,
   "id": "559c0c5c-3af9-4f1f-8d14-75c80091a6c8",
   "metadata": {},
   "outputs": [],
   "source": [
    "pSLst, pLLst, pMLst = list(), list(), list()\n",
    "ns = yc.shape[0]\n",
    "nMat = np.zeros([yc.shape[0], 3])\n",
    "for k in range(nMat.shape[0]):\n",
    "    tempS = x[:, k, iS]\n",
    "    pS = np.where(~np.isnan(tempS).any(axis=1))[0]\n",
    "    tempL = x[:, k, iL]\n",
    "    pL = np.where(~np.isnan(tempL).any(axis=1))[0]\n",
    "    tempM = x[:, k, iM]\n",
    "    pM = np.where(~np.isnan(tempM).any(axis=1))[0]\n",
    "    pSLst.append(pS)\n",
    "    pLLst.append(pL)\n",
    "    pMLst.append(pM)\n",
    "    nMat[k, :] = [len(pS), len(pL), len(pM)]"
   ]
  },
  {
   "cell_type": "code",
   "execution_count": 40,
   "id": "96ea95a5-e624-459e-a91d-0cc213b3c3c9",
   "metadata": {},
   "outputs": [],
   "source": [
    "indKeep = np.where((nMat > 0).all(axis=1))[0]\n",
    "x = x[:, indKeep, :]\n",
    "xc = xc[indKeep, :]\n",
    "yc = yc[indKeep, :]\n",
    "nMat = nMat[indKeep, :]\n",
    "pSLst = [pSLst[k] for k in indKeep]\n",
    "pLLst = [pLLst[k] for k in indKeep]\n",
    "pMLst = [pMLst[k] for k in indKeep]\n",
    "jInd = jInd[indKeep]\n",
    "siteIdLst = [siteIdLst[k] for k in jInd]"
   ]
  },
  {
   "cell_type": "code",
   "execution_count": 47,
   "id": "b92b45d1-85f0-4ba8-9478-103129ddd7d8",
   "metadata": {},
   "outputs": [],
   "source": [
    "jSite, count = np.unique(jInd, return_counts=True)\n",
    "countAry = np.array([[x, y] for y, x in sorted(zip(count, jSite))])\n",
    "nRm = sum(countAry[:, 1] < 5)\n",
    "indSiteAll = countAry[nRm:, 0].astype(int)\n",
    "dictSubset = dict()"
   ]
  },
  {
   "cell_type": "code",
   "execution_count": 138,
   "id": "cfeae4be-9a5e-49d5-80a0-b4bc498f72d3",
   "metadata": {},
   "outputs": [],
   "source": [
    "lcIdx = [df.varXC.index(f\"lc{i}\") for i in range(1, 10)]\n",
    "lc_pct = df.xc[:, lcIdx]\n",
    "top_lcs = np.argmax(lc_pct, axis=1)\n",
    "site_lcs = pd.DataFrame({\"lc\": top_lcs, \"site\": df.siteIdLst})\n",
    "site_lcs = site_lcs[site_lcs.index.isin(indSiteAll)]"
   ]
  },
  {
   "cell_type": "code",
   "execution_count": 139,
   "id": "2b80660d-37be-46cc-a770-228fa986269b",
   "metadata": {},
   "outputs": [
    {
     "data": {
      "text/html": [
       "<div>\n",
       "<style scoped>\n",
       "    .dataframe tbody tr th:only-of-type {\n",
       "        vertical-align: middle;\n",
       "    }\n",
       "\n",
       "    .dataframe tbody tr th {\n",
       "        vertical-align: top;\n",
       "    }\n",
       "\n",
       "    .dataframe thead th {\n",
       "        text-align: right;\n",
       "    }\n",
       "</style>\n",
       "<table border=\"1\" class=\"dataframe\">\n",
       "  <thead>\n",
       "    <tr style=\"text-align: right;\">\n",
       "      <th></th>\n",
       "      <th>lc</th>\n",
       "      <th>site</th>\n",
       "    </tr>\n",
       "  </thead>\n",
       "  <tbody>\n",
       "    <tr>\n",
       "      <th>0</th>\n",
       "      <td>4</td>\n",
       "      <td>N0005</td>\n",
       "    </tr>\n",
       "    <tr>\n",
       "      <th>1</th>\n",
       "      <td>4</td>\n",
       "      <td>N0013</td>\n",
       "    </tr>\n",
       "    <tr>\n",
       "      <th>2</th>\n",
       "      <td>0</td>\n",
       "      <td>N0015</td>\n",
       "    </tr>\n",
       "    <tr>\n",
       "      <th>3</th>\n",
       "      <td>4</td>\n",
       "      <td>N0016</td>\n",
       "    </tr>\n",
       "    <tr>\n",
       "      <th>4</th>\n",
       "      <td>4</td>\n",
       "      <td>N0019</td>\n",
       "    </tr>\n",
       "    <tr>\n",
       "      <th>...</th>\n",
       "      <td>...</td>\n",
       "      <td>...</td>\n",
       "    </tr>\n",
       "    <tr>\n",
       "      <th>324</th>\n",
       "      <td>3</td>\n",
       "      <td>N1102</td>\n",
       "    </tr>\n",
       "    <tr>\n",
       "      <th>325</th>\n",
       "      <td>7</td>\n",
       "      <td>N1103</td>\n",
       "    </tr>\n",
       "    <tr>\n",
       "      <th>326</th>\n",
       "      <td>6</td>\n",
       "      <td>N1104</td>\n",
       "    </tr>\n",
       "    <tr>\n",
       "      <th>327</th>\n",
       "      <td>3</td>\n",
       "      <td>N1105</td>\n",
       "    </tr>\n",
       "    <tr>\n",
       "      <th>328</th>\n",
       "      <td>3</td>\n",
       "      <td>N1106</td>\n",
       "    </tr>\n",
       "  </tbody>\n",
       "</table>\n",
       "<p>292 rows × 2 columns</p>\n",
       "</div>"
      ],
      "text/plain": [
       "     lc   site\n",
       "0     4  N0005\n",
       "1     4  N0013\n",
       "2     0  N0015\n",
       "3     4  N0016\n",
       "4     4  N0019\n",
       "..   ..    ...\n",
       "324   3  N1102\n",
       "325   7  N1103\n",
       "326   6  N1104\n",
       "327   3  N1105\n",
       "328   3  N1106\n",
       "\n",
       "[292 rows x 2 columns]"
      ]
     },
     "execution_count": 139,
     "metadata": {},
     "output_type": "execute_result"
    }
   ],
   "source": [
    "site_lcs"
   ]
  },
  {
   "cell_type": "code",
   "execution_count": 153,
   "id": "b80f315b-3a8a-44e2-976b-0ef3f640af93",
   "metadata": {},
   "outputs": [],
   "source": [
    "skf = StratifiedKFold(n_splits=3)"
   ]
  },
  {
   "cell_type": "code",
   "execution_count": 154,
   "id": "1bf11d3b-6318-4b7b-99c5-99c091b2570c",
   "metadata": {},
   "outputs": [],
   "source": [
    "splits = skf.split(site_lcs.site, site_lcs.lc)"
   ]
  },
  {
   "cell_type": "code",
   "execution_count": 155,
   "id": "7aae1bb8-dd2a-421d-bb79-137dc8f8a099",
   "metadata": {},
   "outputs": [
    {
     "name": "stderr",
     "output_type": "stream",
     "text": [
      "/Users/andyhuynh/anaconda3/envs/pytorch/lib/python3.11/site-packages/sklearn/model_selection/_split.py:737: UserWarning: The least populated class in y has only 2 members, which is less than n_splits=3.\n",
      "  warnings.warn(\n"
     ]
    }
   ],
   "source": [
    "dictSubset = {}\n",
    "for k, (train_indices, test_indices) in enumerate(splits):\n",
    "    siteTrain= [site_lcs.index[index] for index in train_indices] \n",
    "    siteTest= [site_lcs.index[index] for index in test_indices] \n",
    "    indTest = np.where(np.isin(jInd, siteTest))[0]\n",
    "    indTrain = np.where(np.isin(jInd, siteTrain))[0]\n",
    "    dictSubset['testSite_k{}'.format(k)] = siteTest\n",
    "    dictSubset['trainSite_k{}'.format(k)] = siteTrain\n",
    "    dictSubset['testInd_k{}'.format(k)] = indTest.tolist()\n",
    "    dictSubset['trainInd_k{}'.format(k)] = indTrain.tolist()"
   ]
  },
  {
   "cell_type": "code",
   "execution_count": 161,
   "id": "bcbf6bf4-50c0-4d0e-9e78-759950024474",
   "metadata": {},
   "outputs": [],
   "source": [
    "data_tuple = (df, dictSubset['trainInd_k0'], dictSubset['testInd_k0'], nMat, pSLst, pLLst, pMLst, x, xc, yc) "
   ]
  },
  {
   "cell_type": "code",
   "execution_count": 162,
   "id": "df315263-5c66-4438-a0e5-134d4be21cf0",
   "metadata": {},
   "outputs": [],
   "source": [
    "# data_tuple = (df, dictSubset, nMat, pSLst, pLLst, pMLst, x, xc, yc) \n",
    "\n",
    "with open(os.path.join(kPath.dirVeg, 'stratified_3_fold.pkl'), 'wb') as f:  # open a text file\n",
    "    pickle.dump(data_tuple, f) # serialize the list"
   ]
  },
  {
   "cell_type": "code",
   "execution_count": null,
   "id": "793321e8-2715-42cd-9a45-f5bff62a9950",
   "metadata": {},
   "outputs": [],
   "source": []
  }
 ],
 "metadata": {
  "kernelspec": {
   "display_name": "pytorch",
   "language": "python",
   "name": "pytorch"
  },
  "language_info": {
   "codemirror_mode": {
    "name": "ipython",
    "version": 3
   },
   "file_extension": ".py",
   "mimetype": "text/x-python",
   "name": "python",
   "nbconvert_exporter": "python",
   "pygments_lexer": "ipython3",
   "version": "3.11.7"
  }
 },
 "nbformat": 4,
 "nbformat_minor": 5
}
