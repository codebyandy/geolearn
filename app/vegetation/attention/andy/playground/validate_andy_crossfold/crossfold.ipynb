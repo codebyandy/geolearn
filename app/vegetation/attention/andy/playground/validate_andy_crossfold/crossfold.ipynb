{
 "cells": [
  {
   "cell_type": "code",
   "execution_count": 1,
   "id": "12bb2e52-8771-429f-84eb-499f3ecbe424",
   "metadata": {},
   "outputs": [
    {
     "name": "stdout",
     "output_type": "stream",
     "text": [
      "loading package hydroDL\n"
     ]
    }
   ],
   "source": [
    "import pickle\n",
    "import hydroDL"
   ]
  },
  {
   "cell_type": "code",
   "execution_count": 2,
   "id": "00a72f80-7de0-4bc5-8e87-af5c63a4ddcf",
   "metadata": {},
   "outputs": [],
   "source": [
    "with open(\"/Users/andyhuynh/Documents/lfmc/data/data_folds.pkl\", 'rb') as f:\n",
    "        data_folds = pickle.load(f)"
   ]
  },
  {
   "cell_type": "code",
   "execution_count": 22,
   "id": "7a56ac74-c60a-488d-9780-be03f76e9357",
   "metadata": {},
   "outputs": [],
   "source": [
    "(df, indTrain, indTest, nMat, pSLst, pLLst, pMLst, x, xc, yc) = data_folds[0]"
   ]
  },
  {
   "cell_type": "code",
   "execution_count": 23,
   "id": "d0baa236-9cea-4e7f-a1a2-880c05adf184",
   "metadata": {},
   "outputs": [
    {
     "data": {
      "text/plain": [
       "set()"
      ]
     },
     "execution_count": 23,
     "metadata": {},
     "output_type": "execute_result"
    }
   ],
   "source": [
    "set(indTrain).intersection(set(indTest))"
   ]
  },
  {
   "cell_type": "code",
   "execution_count": null,
   "id": "5ae90c06-4e4f-4ca2-9fe2-b56270788a32",
   "metadata": {},
   "outputs": [],
   "source": []
  }
 ],
 "metadata": {
  "kernelspec": {
   "display_name": "pytorch",
   "language": "python",
   "name": "pytorch"
  },
  "language_info": {
   "codemirror_mode": {
    "name": "ipython",
    "version": 3
   },
   "file_extension": ".py",
   "mimetype": "text/x-python",
   "name": "python",
   "nbconvert_exporter": "python",
   "pygments_lexer": "ipython3",
   "version": "3.11.7"
  }
 },
 "nbformat": 4,
 "nbformat_minor": 5
}
