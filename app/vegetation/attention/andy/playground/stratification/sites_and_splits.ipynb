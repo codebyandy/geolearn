{
 "cells": [
  {
   "cell_type": "markdown",
   "metadata": {},
   "source": [
    "### Investigating sites that are never used in training\n",
    "Created: Tue, Sep 24, 2024\n",
    "\n",
    "Description: On Mon, Sep 23, 2024, Kuai messaged me that some sites are never used in training. See image he provided (Slack). Here, I try to determine why this is the case."
   ]
  },
  {
   "cell_type": "code",
   "execution_count": 1,
   "metadata": {},
   "outputs": [
    {
     "name": "stdout",
     "output_type": "stream",
     "text": [
      "loading package hydroDL\n"
     ]
    }
   ],
   "source": [
    "from hydroDL import kPath # package by Kuai Fang, kPath contains req paths\n",
    "\n",
    "import pandas as pd\n",
    "import json\n",
    "import os"
   ]
  },
  {
   "cell_type": "code",
   "execution_count": 2,
   "metadata": {},
   "outputs": [],
   "source": [
    "# sites\n",
    "sites_path = os.path.join(kPath.dirVeg, \"model/data/singleDaily-modisgrid-new-const/site.csv\")\n",
    "sites_df = pd.read_csv(sites_path)"
   ]
  },
  {
   "cell_type": "code",
   "execution_count": 3,
   "metadata": {},
   "outputs": [],
   "source": [
    "def check_site(split_version, site_id):\n",
    "    splits_path = os.path.join(kPath.dirVeg, 'model', 'attention', split_version, 'subset.json')\n",
    "    with open(splits_path) as f:\n",
    "        splits_dict = json.load(f)\n",
    "\n",
    "    site_idx = sites_df[sites_df.siteId == site_id].index[0] # get site index\n",
    "\n",
    "    for i in range(5):\n",
    "        if site_idx in splits_dict[f'trainSite_k{i}5']:\n",
    "            print(f'Site {site_idx} is in trainSite_k{i}5')\n",
    "        if site_idx in splits_dict[f'testSite_k{i}5']:\n",
    "            print(f'Site {site_idx} is in testSite_k{i}5')\n",
    "\n",
    "    if site_idx in splits_dict['testSite_underThresh']:\n",
    "        print(f'Site {site_idx} is in testSite_underThresh')"
   ]
  },
  {
   "cell_type": "code",
   "execution_count": 4,
   "metadata": {},
   "outputs": [
    {
     "name": "stdout",
     "output_type": "stream",
     "text": [
      "Site 189 is in testSite_underThresh\n"
     ]
    }
   ],
   "source": [
    "check_site('stratified', 'N0881')"
   ]
  },
  {
   "cell_type": "code",
   "execution_count": 5,
   "metadata": {},
   "outputs": [
    {
     "name": "stdout",
     "output_type": "stream",
     "text": [
      "Site 159 is in testSite_underThresh\n"
     ]
    }
   ],
   "source": [
    "check_site('stratified', 'N0669')"
   ]
  },
  {
   "cell_type": "code",
   "execution_count": 6,
   "metadata": {},
   "outputs": [],
   "source": [
    "def breakdown(split_version):\n",
    "    splits_path = os.path.join(kPath.dirVeg, 'model', 'attention', split_version, 'subset.json')\n",
    "    with open(splits_path) as f:\n",
    "        splits_dict = json.load(f)\n",
    "\n",
    "    data = {i : [] for i in range(5)}    \n",
    "    for site_idx in range(len(sites_df)):\n",
    "        for i in range(5):\n",
    "            if site_idx in splits_dict[f'trainSite_k{i}5']:\n",
    "                data[i].append('train')\n",
    "            elif site_idx in splits_dict[f'testSite_k{i}5']:\n",
    "                data[i].append('test,qual')\n",
    "            elif site_idx in splits_dict['testSite_underThresh']:\n",
    "                data[i].append('test,poor')\n",
    "            else:\n",
    "                data[i].append('bad')\n",
    "\n",
    "    return pd.DataFrame(data)"
   ]
  },
  {
   "cell_type": "code",
   "execution_count": 7,
   "metadata": {},
   "outputs": [
    {
     "data": {
      "text/html": [
       "<div>\n",
       "<style scoped>\n",
       "    .dataframe tbody tr th:only-of-type {\n",
       "        vertical-align: middle;\n",
       "    }\n",
       "\n",
       "    .dataframe tbody tr th {\n",
       "        vertical-align: top;\n",
       "    }\n",
       "\n",
       "    .dataframe thead th {\n",
       "        text-align: right;\n",
       "    }\n",
       "</style>\n",
       "<table border=\"1\" class=\"dataframe\">\n",
       "  <thead>\n",
       "    <tr style=\"text-align: right;\">\n",
       "      <th></th>\n",
       "      <th>0</th>\n",
       "      <th>1</th>\n",
       "      <th>2</th>\n",
       "      <th>3</th>\n",
       "      <th>4</th>\n",
       "    </tr>\n",
       "  </thead>\n",
       "  <tbody>\n",
       "    <tr>\n",
       "      <th>0</th>\n",
       "      <td>train</td>\n",
       "      <td>train</td>\n",
       "      <td>train</td>\n",
       "      <td>train</td>\n",
       "      <td>test,qual</td>\n",
       "    </tr>\n",
       "    <tr>\n",
       "      <th>1</th>\n",
       "      <td>train</td>\n",
       "      <td>train</td>\n",
       "      <td>test,qual</td>\n",
       "      <td>train</td>\n",
       "      <td>train</td>\n",
       "    </tr>\n",
       "    <tr>\n",
       "      <th>2</th>\n",
       "      <td>train</td>\n",
       "      <td>train</td>\n",
       "      <td>train</td>\n",
       "      <td>test,qual</td>\n",
       "      <td>train</td>\n",
       "    </tr>\n",
       "    <tr>\n",
       "      <th>3</th>\n",
       "      <td>train</td>\n",
       "      <td>train</td>\n",
       "      <td>train</td>\n",
       "      <td>test,qual</td>\n",
       "      <td>train</td>\n",
       "    </tr>\n",
       "    <tr>\n",
       "      <th>4</th>\n",
       "      <td>test,qual</td>\n",
       "      <td>train</td>\n",
       "      <td>train</td>\n",
       "      <td>train</td>\n",
       "      <td>train</td>\n",
       "    </tr>\n",
       "    <tr>\n",
       "      <th>...</th>\n",
       "      <td>...</td>\n",
       "      <td>...</td>\n",
       "      <td>...</td>\n",
       "      <td>...</td>\n",
       "      <td>...</td>\n",
       "    </tr>\n",
       "    <tr>\n",
       "      <th>330</th>\n",
       "      <td>bad</td>\n",
       "      <td>bad</td>\n",
       "      <td>bad</td>\n",
       "      <td>bad</td>\n",
       "      <td>bad</td>\n",
       "    </tr>\n",
       "    <tr>\n",
       "      <th>331</th>\n",
       "      <td>bad</td>\n",
       "      <td>bad</td>\n",
       "      <td>bad</td>\n",
       "      <td>bad</td>\n",
       "      <td>bad</td>\n",
       "    </tr>\n",
       "    <tr>\n",
       "      <th>332</th>\n",
       "      <td>bad</td>\n",
       "      <td>bad</td>\n",
       "      <td>bad</td>\n",
       "      <td>bad</td>\n",
       "      <td>bad</td>\n",
       "    </tr>\n",
       "    <tr>\n",
       "      <th>333</th>\n",
       "      <td>bad</td>\n",
       "      <td>bad</td>\n",
       "      <td>bad</td>\n",
       "      <td>bad</td>\n",
       "      <td>bad</td>\n",
       "    </tr>\n",
       "    <tr>\n",
       "      <th>334</th>\n",
       "      <td>bad</td>\n",
       "      <td>bad</td>\n",
       "      <td>bad</td>\n",
       "      <td>bad</td>\n",
       "      <td>bad</td>\n",
       "    </tr>\n",
       "  </tbody>\n",
       "</table>\n",
       "<p>335 rows × 5 columns</p>\n",
       "</div>"
      ],
      "text/plain": [
       "             0      1          2          3          4\n",
       "0        train  train      train      train  test,qual\n",
       "1        train  train  test,qual      train      train\n",
       "2        train  train      train  test,qual      train\n",
       "3        train  train      train  test,qual      train\n",
       "4    test,qual  train      train      train      train\n",
       "..         ...    ...        ...        ...        ...\n",
       "330        bad    bad        bad        bad        bad\n",
       "331        bad    bad        bad        bad        bad\n",
       "332        bad    bad        bad        bad        bad\n",
       "333        bad    bad        bad        bad        bad\n",
       "334        bad    bad        bad        bad        bad\n",
       "\n",
       "[335 rows x 5 columns]"
      ]
     },
     "execution_count": 7,
     "metadata": {},
     "output_type": "execute_result"
    }
   ],
   "source": [
    "breakdown('dataset')"
   ]
  },
  {
   "cell_type": "code",
   "execution_count": 50,
   "metadata": {},
   "outputs": [
    {
     "data": {
      "text/plain": [
       "145"
      ]
     },
     "execution_count": 50,
     "metadata": {},
     "output_type": "execute_result"
    }
   ],
   "source": [
    "df1 = breakdown('dataset')\n",
    "dataset_poor_sites = set(df1[df1[0] == 'test,poor'].index)\n",
    "len(dataset_poor_sites )"
   ]
  },
  {
   "cell_type": "code",
   "execution_count": 51,
   "metadata": {},
   "outputs": [
    {
     "data": {
      "text/plain": [
       "146"
      ]
     },
     "execution_count": 51,
     "metadata": {},
     "output_type": "execute_result"
    }
   ],
   "source": [
    "df2 = breakdown('stratified')\n",
    "stratified_poor_sites = set(df2[df2[0] == 'test,poor'].index)\n",
    "len(stratified_poor_sites)"
   ]
  },
  {
   "cell_type": "code",
   "execution_count": 52,
   "metadata": {},
   "outputs": [
    {
     "data": {
      "text/plain": [
       "145"
      ]
     },
     "execution_count": 52,
     "metadata": {},
     "output_type": "execute_result"
    }
   ],
   "source": [
    "len(dataset_poor_sites.intersection(stratified_poor_sites))"
   ]
  },
  {
   "cell_type": "code",
   "execution_count": 54,
   "metadata": {},
   "outputs": [
    {
     "data": {
      "text/plain": [
       "{306}"
      ]
     },
     "execution_count": 54,
     "metadata": {},
     "output_type": "execute_result"
    }
   ],
   "source": [
    "stratified_poor_sites - dataset_poor_sites"
   ]
  },
  {
   "cell_type": "code",
   "execution_count": 56,
   "metadata": {},
   "outputs": [
    {
     "data": {
      "text/html": [
       "<div>\n",
       "<style scoped>\n",
       "    .dataframe tbody tr th:only-of-type {\n",
       "        vertical-align: middle;\n",
       "    }\n",
       "\n",
       "    .dataframe tbody tr th {\n",
       "        vertical-align: top;\n",
       "    }\n",
       "\n",
       "    .dataframe thead th {\n",
       "        text-align: right;\n",
       "    }\n",
       "</style>\n",
       "<table border=\"1\" class=\"dataframe\">\n",
       "  <thead>\n",
       "    <tr style=\"text-align: right;\">\n",
       "      <th></th>\n",
       "      <th>siteId</th>\n",
       "      <th>siteName</th>\n",
       "      <th>state</th>\n",
       "      <th>fuel</th>\n",
       "      <th>gacc</th>\n",
       "      <th>lat</th>\n",
       "      <th>lon</th>\n",
       "    </tr>\n",
       "  </thead>\n",
       "  <tbody>\n",
       "    <tr>\n",
       "      <th>306</th>\n",
       "      <td>N1063</td>\n",
       "      <td>Clearlake</td>\n",
       "      <td>CA</td>\n",
       "      <td>Manzanita, Greenleaf</td>\n",
       "      <td>NOCC</td>\n",
       "      <td>38.96</td>\n",
       "      <td>-122.6325</td>\n",
       "    </tr>\n",
       "  </tbody>\n",
       "</table>\n",
       "</div>"
      ],
      "text/plain": [
       "    siteId   siteName state                  fuel  gacc    lat       lon\n",
       "306  N1063  Clearlake    CA  Manzanita, Greenleaf  NOCC  38.96 -122.6325"
      ]
     },
     "execution_count": 56,
     "metadata": {},
     "output_type": "execute_result"
    }
   ],
   "source": [
    "sites_df.iloc[list(stratified_poor_sites - dataset_poor_sites)]"
   ]
  },
  {
   "cell_type": "code",
   "execution_count": 59,
   "metadata": {},
   "outputs": [
    {
     "data": {
      "text/html": [
       "<div>\n",
       "<style scoped>\n",
       "    .dataframe tbody tr th:only-of-type {\n",
       "        vertical-align: middle;\n",
       "    }\n",
       "\n",
       "    .dataframe tbody tr th {\n",
       "        vertical-align: top;\n",
       "    }\n",
       "\n",
       "    .dataframe thead th {\n",
       "        text-align: right;\n",
       "    }\n",
       "</style>\n",
       "<table border=\"1\" class=\"dataframe\">\n",
       "  <thead>\n",
       "    <tr style=\"text-align: right;\">\n",
       "      <th></th>\n",
       "      <th>siteId</th>\n",
       "      <th>siteName</th>\n",
       "      <th>state</th>\n",
       "      <th>fuel</th>\n",
       "      <th>gacc</th>\n",
       "      <th>lat</th>\n",
       "      <th>lon</th>\n",
       "    </tr>\n",
       "  </thead>\n",
       "  <tbody>\n",
       "    <tr>\n",
       "      <th>10</th>\n",
       "      <td>N0045</td>\n",
       "      <td>D10 - Sledgehammer North</td>\n",
       "      <td>CO</td>\n",
       "      <td>Douglas-Fir, Rocky Mountain</td>\n",
       "      <td>RMCC</td>\n",
       "      <td>38.918611</td>\n",
       "      <td>-105.396667</td>\n",
       "    </tr>\n",
       "    <tr>\n",
       "      <th>11</th>\n",
       "      <td>N0047</td>\n",
       "      <td>D10_Dicks Peak</td>\n",
       "      <td>CO</td>\n",
       "      <td>Douglas-Fir, Rocky Mountain</td>\n",
       "      <td>RMCC</td>\n",
       "      <td>38.818333</td>\n",
       "      <td>-105.649722</td>\n",
       "    </tr>\n",
       "    <tr>\n",
       "      <th>16</th>\n",
       "      <td>N0061</td>\n",
       "      <td>Kawuneeche</td>\n",
       "      <td>CO</td>\n",
       "      <td>Pine, Lodgepole</td>\n",
       "      <td>RMCC</td>\n",
       "      <td>40.267222</td>\n",
       "      <td>-105.832500</td>\n",
       "    </tr>\n",
       "    <tr>\n",
       "      <th>19</th>\n",
       "      <td>N0096</td>\n",
       "      <td>Black Canyon</td>\n",
       "      <td>CO</td>\n",
       "      <td>Oak, Gambel</td>\n",
       "      <td>RMCC</td>\n",
       "      <td>38.541944</td>\n",
       "      <td>-107.687222</td>\n",
       "    </tr>\n",
       "    <tr>\n",
       "      <th>20</th>\n",
       "      <td>N0098</td>\n",
       "      <td>Davewood</td>\n",
       "      <td>CO</td>\n",
       "      <td>Pine, Ponderosa</td>\n",
       "      <td>RMCC</td>\n",
       "      <td>38.305000</td>\n",
       "      <td>-107.963889</td>\n",
       "    </tr>\n",
       "    <tr>\n",
       "      <th>...</th>\n",
       "      <td>...</td>\n",
       "      <td>...</td>\n",
       "      <td>...</td>\n",
       "      <td>...</td>\n",
       "      <td>...</td>\n",
       "      <td>...</td>\n",
       "      <td>...</td>\n",
       "    </tr>\n",
       "    <tr>\n",
       "      <th>318</th>\n",
       "      <td>N1082</td>\n",
       "      <td>Shasta Dam</td>\n",
       "      <td>CA</td>\n",
       "      <td>Manzanita, Greenleaf</td>\n",
       "      <td>NOCC</td>\n",
       "      <td>40.693611</td>\n",
       "      <td>-122.427222</td>\n",
       "    </tr>\n",
       "    <tr>\n",
       "      <th>319</th>\n",
       "      <td>N1083</td>\n",
       "      <td>Shingletown</td>\n",
       "      <td>CA</td>\n",
       "      <td>Manzanita, Greenleaf</td>\n",
       "      <td>NOCC</td>\n",
       "      <td>40.527222</td>\n",
       "      <td>-121.910000</td>\n",
       "    </tr>\n",
       "    <tr>\n",
       "      <th>320</th>\n",
       "      <td>N1084</td>\n",
       "      <td>Sweetland</td>\n",
       "      <td>CA</td>\n",
       "      <td>Manzanita, Greenleaf</td>\n",
       "      <td>NOCC</td>\n",
       "      <td>39.326944</td>\n",
       "      <td>-121.111111</td>\n",
       "    </tr>\n",
       "    <tr>\n",
       "      <th>322</th>\n",
       "      <td>N1098</td>\n",
       "      <td>Old Man CG</td>\n",
       "      <td>CA</td>\n",
       "      <td>Manzanita, Greenleaf</td>\n",
       "      <td>NOCC</td>\n",
       "      <td>40.853333</td>\n",
       "      <td>-122.407778</td>\n",
       "    </tr>\n",
       "    <tr>\n",
       "      <th>325</th>\n",
       "      <td>N1103</td>\n",
       "      <td>Mad Ridge Fuel Break</td>\n",
       "      <td>CA</td>\n",
       "      <td>Douglas-Fir, Coastal</td>\n",
       "      <td>NOCC</td>\n",
       "      <td>40.429167</td>\n",
       "      <td>-123.500556</td>\n",
       "    </tr>\n",
       "  </tbody>\n",
       "</table>\n",
       "<p>145 rows × 7 columns</p>\n",
       "</div>"
      ],
      "text/plain": [
       "    siteId                  siteName state                         fuel  gacc  \\\n",
       "10   N0045  D10 - Sledgehammer North    CO  Douglas-Fir, Rocky Mountain  RMCC   \n",
       "11   N0047            D10_Dicks Peak    CO  Douglas-Fir, Rocky Mountain  RMCC   \n",
       "16   N0061                Kawuneeche    CO              Pine, Lodgepole  RMCC   \n",
       "19   N0096              Black Canyon    CO                  Oak, Gambel  RMCC   \n",
       "20   N0098                  Davewood    CO              Pine, Ponderosa  RMCC   \n",
       "..     ...                       ...   ...                          ...   ...   \n",
       "318  N1082                Shasta Dam    CA         Manzanita, Greenleaf  NOCC   \n",
       "319  N1083               Shingletown    CA         Manzanita, Greenleaf  NOCC   \n",
       "320  N1084                 Sweetland    CA         Manzanita, Greenleaf  NOCC   \n",
       "322  N1098                Old Man CG    CA         Manzanita, Greenleaf  NOCC   \n",
       "325  N1103      Mad Ridge Fuel Break    CA         Douglas-Fir, Coastal  NOCC   \n",
       "\n",
       "           lat         lon  \n",
       "10   38.918611 -105.396667  \n",
       "11   38.818333 -105.649722  \n",
       "16   40.267222 -105.832500  \n",
       "19   38.541944 -107.687222  \n",
       "20   38.305000 -107.963889  \n",
       "..         ...         ...  \n",
       "318  40.693611 -122.427222  \n",
       "319  40.527222 -121.910000  \n",
       "320  39.326944 -121.111111  \n",
       "322  40.853333 -122.407778  \n",
       "325  40.429167 -123.500556  \n",
       "\n",
       "[145 rows x 7 columns]"
      ]
     },
     "execution_count": 59,
     "metadata": {},
     "output_type": "execute_result"
    }
   ],
   "source": [
    "sites_df.iloc[list(dataset_poor_sites)]"
   ]
  },
  {
   "cell_type": "code",
   "execution_count": 60,
   "metadata": {},
   "outputs": [
    {
     "name": "stderr",
     "output_type": "stream",
     "text": [
      "/var/folders/_6/xq5r06kd7qb_g5546y0zvvz80000gn/T/ipykernel_8494/4184085800.py:1: UserWarning: Boolean Series key will be reindexed to match DataFrame index.\n",
      "  sites_df.iloc[list(dataset_poor_sites)][sites_df.siteId.isin(['N0881', 'N0669'])]\n"
     ]
    },
    {
     "data": {
      "text/html": [
       "<div>\n",
       "<style scoped>\n",
       "    .dataframe tbody tr th:only-of-type {\n",
       "        vertical-align: middle;\n",
       "    }\n",
       "\n",
       "    .dataframe tbody tr th {\n",
       "        vertical-align: top;\n",
       "    }\n",
       "\n",
       "    .dataframe thead th {\n",
       "        text-align: right;\n",
       "    }\n",
       "</style>\n",
       "<table border=\"1\" class=\"dataframe\">\n",
       "  <thead>\n",
       "    <tr style=\"text-align: right;\">\n",
       "      <th></th>\n",
       "      <th>siteId</th>\n",
       "      <th>siteName</th>\n",
       "      <th>state</th>\n",
       "      <th>fuel</th>\n",
       "      <th>gacc</th>\n",
       "      <th>lat</th>\n",
       "      <th>lon</th>\n",
       "    </tr>\n",
       "  </thead>\n",
       "  <tbody>\n",
       "    <tr>\n",
       "      <th>159</th>\n",
       "      <td>N0669</td>\n",
       "      <td>COF Cow Trap</td>\n",
       "      <td>AZ</td>\n",
       "      <td>Juniper, Utah</td>\n",
       "      <td>SWCC</td>\n",
       "      <td>34.720000</td>\n",
       "      <td>-111.090833</td>\n",
       "    </tr>\n",
       "    <tr>\n",
       "      <th>189</th>\n",
       "      <td>N0881</td>\n",
       "      <td>Blizzard Gap Bottom</td>\n",
       "      <td>OR</td>\n",
       "      <td>Sagebrush, Wyoming Big</td>\n",
       "      <td>NWCC</td>\n",
       "      <td>42.107778</td>\n",
       "      <td>-119.747222</td>\n",
       "    </tr>\n",
       "  </tbody>\n",
       "</table>\n",
       "</div>"
      ],
      "text/plain": [
       "    siteId             siteName state                    fuel  gacc  \\\n",
       "159  N0669         COF Cow Trap    AZ           Juniper, Utah  SWCC   \n",
       "189  N0881  Blizzard Gap Bottom    OR  Sagebrush, Wyoming Big  NWCC   \n",
       "\n",
       "           lat         lon  \n",
       "159  34.720000 -111.090833  \n",
       "189  42.107778 -119.747222  "
      ]
     },
     "execution_count": 60,
     "metadata": {},
     "output_type": "execute_result"
    }
   ],
   "source": [
    "sites_df.iloc[list(dataset_poor_sites)][sites_df.siteId.isin(['N0881', 'N0669'])]"
   ]
  },
  {
   "cell_type": "code",
   "execution_count": 63,
   "metadata": {},
   "outputs": [
    {
     "data": {
      "text/plain": [
       "True"
      ]
     },
     "execution_count": 63,
     "metadata": {},
     "output_type": "execute_result"
    }
   ],
   "source": [
    "189 in stratified_poor_sites"
   ]
  },
  {
   "cell_type": "code",
   "execution_count": null,
   "metadata": {},
   "outputs": [],
   "source": []
  }
 ],
 "metadata": {
  "language_info": {
   "name": "python"
  }
 },
 "nbformat": 4,
 "nbformat_minor": 2
}
