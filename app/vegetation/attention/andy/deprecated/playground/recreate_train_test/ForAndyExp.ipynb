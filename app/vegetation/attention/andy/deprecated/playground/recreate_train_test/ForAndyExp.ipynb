{
 "cells": [
  {
   "cell_type": "markdown",
   "id": "cc59636c-5b14-4eed-ba78-c9fa06c503b7",
   "metadata": {},
   "source": [
    "Date: --\n",
    "\n",
    "Goal: Walk step-by-step thru `ForAndy.py`, which creates train/test splits by sites (originally created by Krishna Rao, adapted by Kuai Fang).\n",
    "- Figure out how to extract sites for train/test split for each fold for transformer implementation"
   ]
  },
  {
   "cell_type": "code",
   "execution_count": 14,
   "id": "17874ef4-1139-4722-b45f-13c1bd067adc",
   "metadata": {},
   "outputs": [],
   "source": [
    "import pandas as pd\n",
    "import numpy as np\n",
    "from sklearn.preprocessing import LabelEncoder, MinMaxScaler"
   ]
  },
  {
   "cell_type": "code",
   "execution_count": 15,
   "id": "70a1a84d-37fc-4ead-bbb9-7cbf53d21199",
   "metadata": {},
   "outputs": [],
   "source": [
    "data_file='/Users/andyhuynh/Documents/lfmc/geolearn/app/vegetation/attention/andy/playground/recreate_train_test/lstm_input_data_pure+all_same_28_may_2019_res_SM_gap_3M'\n",
    "\n",
    "int_lag=6 # UNSURE\n",
    "dataset= pd.read_pickle(data_file)\n",
    "\n",
    "DROPCROPS = True\n",
    "lc_dict = {14: 'crop',\n",
    "            20: 'crop',\n",
    "            30: 'crop',\n",
    "            50: 'closed broadleaf deciduous',\n",
    "            70: 'closed needleleaf evergreen',\n",
    "            90: 'mixed forest',\n",
    "            100:'mixed forest',\n",
    "            110:'shrub/grassland',\n",
    "            120:'grassland/shrubland',\n",
    "            130:'closed to open shrub',\n",
    "            140:'grass',\n",
    "            150:'sparse vegetation',\n",
    "            160:'regularly flooded forest'}\n",
    "TRAINRATIO = 0.70\n",
    "FOLDS = 3"
   ]
  },
  {
   "cell_type": "code",
   "execution_count": 16,
   "id": "d43089b6-730f-4986-bdef-9af363ed2120",
   "metadata": {},
   "outputs": [],
   "source": [
    "# inputs\n",
    "microwave_inputs = ['vv','vh']\n",
    "optical_inputs = ['red','green','blue','swir','nir', 'ndvi', 'ndwi','nirv']\n",
    "mixed_inputs =  ['vv_%s'%den for den in optical_inputs] + ['vh_%s'%den for den in optical_inputs] + ['vh_vv']\n",
    "dynamic_inputs = microwave_inputs + optical_inputs + mixed_inputs\n",
    "static_inputs = ['slope', 'elevation', 'canopy_height','forest_cover',\\\n",
    "                    'silt', 'sand', 'clay']\n",
    "all_inputs = static_inputs+dynamic_inputs\n",
    "inputs = all_inputs"
   ]
  },
  {
   "cell_type": "code",
   "execution_count": 17,
   "id": "4066a7fc-8ca3-47e1-94e3-3c9401551002",
   "metadata": {},
   "outputs": [],
   "source": [
    "CV = True\n",
    "fold = None # UNSURE\n",
    "FOLDS = FOLDS"
   ]
  },
  {
   "cell_type": "code",
   "execution_count": 18,
   "id": "944a986e-1109-48e8-806f-bf63600ca34b",
   "metadata": {},
   "outputs": [],
   "source": [
    "# drop crops\n",
    "if DROPCROPS:\n",
    "    crop_classes = [item[0] for item in lc_dict.items() if item[1] == 'crop']\n",
    "    dataset = dataset.loc[~dataset['forest_cover(t)'].isin(crop_classes)]"
   ]
  },
  {
   "cell_type": "code",
   "execution_count": 19,
   "id": "d5b0b565-dd1c-44b4-9b32-ab567db18f36",
   "metadata": {},
   "outputs": [],
   "source": [
    "# integer encode forest cover\n",
    "encoder = LabelEncoder()\n",
    "dataset = dataset.reindex(sorted(dataset.columns), axis=1) # UNSTABLE, sorting\n",
    "cols = list(dataset.columns.values)\n",
    "for col in ['percent(t)','site','date']: # remove some columns\n",
    "    cols.remove(col)\n",
    "cols = ['percent(t)','site','date']+cols\n",
    "dataset = dataset[cols]\n",
    "dataset['forest_cover(t)'] = encoder.fit_transform(dataset['forest_cover(t)'].values)\n",
    "for col in dataset.columns:\n",
    "    if 'forest_cover' in col:\n",
    "        dataset[col] = dataset['forest_cover(t)']"
   ]
  },
  {
   "cell_type": "code",
   "execution_count": 20,
   "id": "d03dcb68-937a-4b6f-afa5-1766f4f623ee",
   "metadata": {},
   "outputs": [
    {
     "name": "stdout",
     "output_type": "stream",
     "text": [
      "[INFO] Dataset has 128 sites\n"
     ]
    },
    {
     "name": "stderr",
     "output_type": "stream",
     "text": [
      "/var/folders/_6/xq5r06kd7qb_g5546y0zvvz80000gn/T/ipykernel_88583/1452303311.py:6: FutureWarning: Setting an item of incompatible dtype is deprecated and will raise in a future error of pandas. Value '[0. 0. 0. ... 0. 0. 0.]' has dtype incompatible with int64, please explicitly cast to a compatible dtype first.\n",
      "  rescaled.loc[:,dataset.drop(['site','date'],axis = 1).columns] = scaled\n",
      "/var/folders/_6/xq5r06kd7qb_g5546y0zvvz80000gn/T/ipykernel_88583/1452303311.py:6: FutureWarning: Setting an item of incompatible dtype is deprecated and will raise in a future error of pandas. Value '[0. 0. 0. ... 0. 0. 0.]' has dtype incompatible with int64, please explicitly cast to a compatible dtype first.\n",
      "  rescaled.loc[:,dataset.drop(['site','date'],axis = 1).columns] = scaled\n",
      "/var/folders/_6/xq5r06kd7qb_g5546y0zvvz80000gn/T/ipykernel_88583/1452303311.py:6: FutureWarning: Setting an item of incompatible dtype is deprecated and will raise in a future error of pandas. Value '[0. 0. 0. ... 0. 0. 0.]' has dtype incompatible with int64, please explicitly cast to a compatible dtype first.\n",
      "  rescaled.loc[:,dataset.drop(['site','date'],axis = 1).columns] = scaled\n",
      "/var/folders/_6/xq5r06kd7qb_g5546y0zvvz80000gn/T/ipykernel_88583/1452303311.py:6: FutureWarning: Setting an item of incompatible dtype is deprecated and will raise in a future error of pandas. Value '[0. 0. 0. ... 0. 0. 0.]' has dtype incompatible with int64, please explicitly cast to a compatible dtype first.\n",
      "  rescaled.loc[:,dataset.drop(['site','date'],axis = 1).columns] = scaled\n",
      "/var/folders/_6/xq5r06kd7qb_g5546y0zvvz80000gn/T/ipykernel_88583/1452303311.py:6: FutureWarning: Setting an item of incompatible dtype is deprecated and will raise in a future error of pandas. Value '[0. 0. 0. ... 0. 0. 0.]' has dtype incompatible with int64, please explicitly cast to a compatible dtype first.\n",
      "  rescaled.loc[:,dataset.drop(['site','date'],axis = 1).columns] = scaled\n",
      "/var/folders/_6/xq5r06kd7qb_g5546y0zvvz80000gn/T/ipykernel_88583/1452303311.py:6: FutureWarning: Setting an item of incompatible dtype is deprecated and will raise in a future error of pandas. Value '[0. 0. 0. ... 0. 0. 0.]' has dtype incompatible with int64, please explicitly cast to a compatible dtype first.\n",
      "  rescaled.loc[:,dataset.drop(['site','date'],axis = 1).columns] = scaled\n",
      "/var/folders/_6/xq5r06kd7qb_g5546y0zvvz80000gn/T/ipykernel_88583/1452303311.py:6: FutureWarning: Setting an item of incompatible dtype is deprecated and will raise in a future error of pandas. Value '[0. 0. 0. ... 0. 0. 0.]' has dtype incompatible with int64, please explicitly cast to a compatible dtype first.\n",
      "  rescaled.loc[:,dataset.drop(['site','date'],axis = 1).columns] = scaled\n",
      "/var/folders/_6/xq5r06kd7qb_g5546y0zvvz80000gn/T/ipykernel_88583/1452303311.py:6: FutureWarning: Setting an item of incompatible dtype is deprecated and will raise in a future error of pandas. Value '[0.47565663 0.47565663 0.47565663 ... 0.54356182 0.54356182 0.54356182]' has dtype incompatible with int64, please explicitly cast to a compatible dtype first.\n",
      "  rescaled.loc[:,dataset.drop(['site','date'],axis = 1).columns] = scaled\n",
      "/var/folders/_6/xq5r06kd7qb_g5546y0zvvz80000gn/T/ipykernel_88583/1452303311.py:6: FutureWarning: Setting an item of incompatible dtype is deprecated and will raise in a future error of pandas. Value '[0.47565663 0.47565663 0.47565663 ... 0.54356182 0.54356182 0.54356182]' has dtype incompatible with int64, please explicitly cast to a compatible dtype first.\n",
      "  rescaled.loc[:,dataset.drop(['site','date'],axis = 1).columns] = scaled\n",
      "/var/folders/_6/xq5r06kd7qb_g5546y0zvvz80000gn/T/ipykernel_88583/1452303311.py:6: FutureWarning: Setting an item of incompatible dtype is deprecated and will raise in a future error of pandas. Value '[0.47565663 0.47565663 0.47565663 ... 0.54356182 0.54356182 0.54356182]' has dtype incompatible with int64, please explicitly cast to a compatible dtype first.\n",
      "  rescaled.loc[:,dataset.drop(['site','date'],axis = 1).columns] = scaled\n",
      "/var/folders/_6/xq5r06kd7qb_g5546y0zvvz80000gn/T/ipykernel_88583/1452303311.py:6: FutureWarning: Setting an item of incompatible dtype is deprecated and will raise in a future error of pandas. Value '[0.47565663 0.47565663 0.47565663 ... 0.54356182 0.54356182 0.54356182]' has dtype incompatible with int64, please explicitly cast to a compatible dtype first.\n",
      "  rescaled.loc[:,dataset.drop(['site','date'],axis = 1).columns] = scaled\n",
      "/var/folders/_6/xq5r06kd7qb_g5546y0zvvz80000gn/T/ipykernel_88583/1452303311.py:6: FutureWarning: Setting an item of incompatible dtype is deprecated and will raise in a future error of pandas. Value '[0.47565663 0.47565663 0.47565663 ... 0.54356182 0.54356182 0.54356182]' has dtype incompatible with int64, please explicitly cast to a compatible dtype first.\n",
      "  rescaled.loc[:,dataset.drop(['site','date'],axis = 1).columns] = scaled\n",
      "/var/folders/_6/xq5r06kd7qb_g5546y0zvvz80000gn/T/ipykernel_88583/1452303311.py:6: FutureWarning: Setting an item of incompatible dtype is deprecated and will raise in a future error of pandas. Value '[0.47565663 0.47565663 0.47565663 ... 0.54356182 0.54356182 0.54356182]' has dtype incompatible with int64, please explicitly cast to a compatible dtype first.\n",
      "  rescaled.loc[:,dataset.drop(['site','date'],axis = 1).columns] = scaled\n",
      "/var/folders/_6/xq5r06kd7qb_g5546y0zvvz80000gn/T/ipykernel_88583/1452303311.py:6: FutureWarning: Setting an item of incompatible dtype is deprecated and will raise in a future error of pandas. Value '[0.47565663 0.47565663 0.47565663 ... 0.54356182 0.54356182 0.54356182]' has dtype incompatible with int64, please explicitly cast to a compatible dtype first.\n",
      "  rescaled.loc[:,dataset.drop(['site','date'],axis = 1).columns] = scaled\n",
      "/var/folders/_6/xq5r06kd7qb_g5546y0zvvz80000gn/T/ipykernel_88583/1452303311.py:6: FutureWarning: Setting an item of incompatible dtype is deprecated and will raise in a future error of pandas. Value '[0.625 0.625 0.625 ... 0.625 0.625 0.625]' has dtype incompatible with int64, please explicitly cast to a compatible dtype first.\n",
      "  rescaled.loc[:,dataset.drop(['site','date'],axis = 1).columns] = scaled\n",
      "/var/folders/_6/xq5r06kd7qb_g5546y0zvvz80000gn/T/ipykernel_88583/1452303311.py:6: FutureWarning: Setting an item of incompatible dtype is deprecated and will raise in a future error of pandas. Value '[0.625 0.625 0.625 ... 0.625 0.625 0.625]' has dtype incompatible with int64, please explicitly cast to a compatible dtype first.\n",
      "  rescaled.loc[:,dataset.drop(['site','date'],axis = 1).columns] = scaled\n",
      "/var/folders/_6/xq5r06kd7qb_g5546y0zvvz80000gn/T/ipykernel_88583/1452303311.py:6: FutureWarning: Setting an item of incompatible dtype is deprecated and will raise in a future error of pandas. Value '[0.625 0.625 0.625 ... 0.625 0.625 0.625]' has dtype incompatible with int64, please explicitly cast to a compatible dtype first.\n",
      "  rescaled.loc[:,dataset.drop(['site','date'],axis = 1).columns] = scaled\n",
      "/var/folders/_6/xq5r06kd7qb_g5546y0zvvz80000gn/T/ipykernel_88583/1452303311.py:6: FutureWarning: Setting an item of incompatible dtype is deprecated and will raise in a future error of pandas. Value '[0.625 0.625 0.625 ... 0.625 0.625 0.625]' has dtype incompatible with int64, please explicitly cast to a compatible dtype first.\n",
      "  rescaled.loc[:,dataset.drop(['site','date'],axis = 1).columns] = scaled\n",
      "/var/folders/_6/xq5r06kd7qb_g5546y0zvvz80000gn/T/ipykernel_88583/1452303311.py:6: FutureWarning: Setting an item of incompatible dtype is deprecated and will raise in a future error of pandas. Value '[0.625 0.625 0.625 ... 0.625 0.625 0.625]' has dtype incompatible with int64, please explicitly cast to a compatible dtype first.\n",
      "  rescaled.loc[:,dataset.drop(['site','date'],axis = 1).columns] = scaled\n",
      "/var/folders/_6/xq5r06kd7qb_g5546y0zvvz80000gn/T/ipykernel_88583/1452303311.py:6: FutureWarning: Setting an item of incompatible dtype is deprecated and will raise in a future error of pandas. Value '[0.625 0.625 0.625 ... 0.625 0.625 0.625]' has dtype incompatible with int64, please explicitly cast to a compatible dtype first.\n",
      "  rescaled.loc[:,dataset.drop(['site','date'],axis = 1).columns] = scaled\n",
      "/var/folders/_6/xq5r06kd7qb_g5546y0zvvz80000gn/T/ipykernel_88583/1452303311.py:6: FutureWarning: Setting an item of incompatible dtype is deprecated and will raise in a future error of pandas. Value '[0.625 0.625 0.625 ... 0.625 0.625 0.625]' has dtype incompatible with int64, please explicitly cast to a compatible dtype first.\n",
      "  rescaled.loc[:,dataset.drop(['site','date'],axis = 1).columns] = scaled\n"
     ]
    }
   ],
   "source": [
    "# normalize features\n",
    "scaler = MinMaxScaler(feature_range=(0,1))\n",
    "dataset.replace([np.inf, -np.inf], [1e5, 1e-5], inplace = True)\n",
    "scaled = scaler.fit_transform(dataset.drop(['site','date'],axis = 1).values)\n",
    "rescaled = dataset.copy()\n",
    "rescaled.loc[:,dataset.drop(['site','date'],axis = 1).columns] = scaled\n",
    "reframed = rescaled.copy()\n",
    "\n",
    "print('[INFO] Dataset has %d sites'%len(reframed.site.unique()))\n",
    "reframed.reset_index(drop = True, inplace = True)"
   ]
  },
  {
   "cell_type": "code",
   "execution_count": 21,
   "id": "d3374bf7-7670-41e8-a9f6-ce7c37c7f4f2",
   "metadata": {
    "scrolled": true
   },
   "outputs": [],
   "source": [
    "from sklearn.model_selection import KFold"
   ]
  },
  {
   "cell_type": "code",
   "execution_count": 22,
   "id": "a0ed507c-3a09-4206-a3e7-138fb384d830",
   "metadata": {},
   "outputs": [],
   "source": [
    "cover = np.sort(reframed['forest_cover(t)'].unique())[0]\n",
    "sub = reframed.loc[reframed['forest_cover(t)']==cover]\n",
    "sites = np.sort(sub.site.unique())"
   ]
  },
  {
   "cell_type": "code",
   "execution_count": 40,
   "id": "d79418ef-df31-41b5-9870-3e7b3cf2fa0e",
   "metadata": {},
   "outputs": [
    {
     "data": {
      "text/plain": [
       "array(['ASF Greer', 'Baker Park', 'Balanced Rock', 'Benchmark',\n",
       "       'Big Indian', 'Big Thicket National Preserve',\n",
       "       'Bitter Canyon, Castaic', 'Black Cedar', 'Blackberry Hill',\n",
       "       'Blackstone', 'Blue Park', 'CAF Truchas 1', 'CAF Truchas 2',\n",
       "       'CNTX_Comal_TX', 'CNTX_Hays_TX', 'Clark Motorway, Malibu',\n",
       "       'Corralitos New Growth', 'Cottage', 'Cow Mountain', 'D02_Red_Deer',\n",
       "       'D03_Gibson', 'D03_Willis_Creek', 'D06_Ute Canyon',\n",
       "       'D07_Cimarron River', 'D10 - Flagstaff Mtn. - Cold',\n",
       "       'D11_Guanella_Pass', 'D11_Miller_Gulch', 'DUCK CREEK',\n",
       "       'Deep Creek', 'Deer Hill', 'Double Springs', 'Dubois',\n",
       "       'Fortynine C2A', 'GNF Lincoln Canyon', 'Gifford',\n",
       "       'Glendora Ridge, Glendora', 'Grass Mesa', 'Great Divide',\n",
       "       'HILL_Edwards2_TX', 'HILL_Gillespie_TX', 'HILL_SanSaba_TX',\n",
       "       'Hall Creek', 'Hammett', 'Hastings Old Growth', 'Jackson',\n",
       "       'Juanita', 'Keating Cutoff', 'Kuna', 'LNF Cosmic', 'LNF Mayhill',\n",
       "       'LNF Smokey Bear', 'Lake Hughes', 'Lewis Canyon', 'Lookout Mtn',\n",
       "       'Lopez Lake', 'Los Alamos', 'Los Robles, Thousand Oaks',\n",
       "       'Lost Creek, WY', 'Lucky Springs', 'Mad Ridge Fuel Break',\n",
       "       'Mad River', 'McCloud (SHF)', 'Morgan Creek', 'Mt. Baldy Village',\n",
       "       'Mt. Woodson Station', 'Muskrat', 'NETX_Wood_TX', 'NOTX_Hood_TX',\n",
       "       'NOTX_Palo_TX', 'Oak Flat', 'Oak Knoll', 'Ohio Gulch',\n",
       "       'PNF Cherry', 'PNF White Spar', 'Palisade', 'Panter', 'Pocatello',\n",
       "       'Pole Creek', 'Price Rec', 'Pulgas', 'Quincy RD', 'RGPL_Dimmit_TX',\n",
       "       'RMV', 'RUTH', 'Reader Ranch', 'Red Feather', 'Reyes Creek',\n",
       "       'Rock Spring', 'Rome Overlook', 'Rose Valley', 'Rye Grass Flat',\n",
       "       'SETX_Newt_TX', 'SETX_SAug_TX', 'San Marcos', 'Sand Creek Desert',\n",
       "       'Saratoga Summit', 'Sellers Creek', 'Sharpnose', 'Shinar Saddle',\n",
       "       'Simco', 'Six Shooter', 'Smith Ranch', 'Snowbasin', 'Sonora',\n",
       "       'South Canyon', 'Spar Canyon', 'Squaw Peak', 'Sugar Hill',\n",
       "       'Summit2', 'Sunset Heights', 'Sylvan', 'TPEC_Presidio_TX',\n",
       "       'Table Legs Butte', 'TahoeDonner', 'Tally Lake North',\n",
       "       'Tapo Canyon, Simi Valley', 'Three Creek',\n",
       "       'Trippet Ranch, Topanga', 'Tumalo Ridge', 'Tyler Foote',\n",
       "       'Warm Springs', 'Weed Mill Site', 'Wells', 'West Elk Creek',\n",
       "       'Ziegler', 'nacimiento', 'ponderosa', 'upper oso'], dtype=object)"
      ]
     },
     "execution_count": 40,
     "metadata": {},
     "output_type": "execute_result"
    }
   ],
   "source": [
    "np.sort(reframed.site.unique())"
   ]
  },
  {
   "cell_type": "code",
   "execution_count": 24,
   "id": "fc4ce084-be55-4159-a7db-bc4c8af6c07e",
   "metadata": {},
   "outputs": [
    {
     "ename": "NameError",
     "evalue": "name 'kf' is not defined",
     "output_type": "error",
     "traceback": [
      "\u001b[0;31m---------------------------------------------------------------------------\u001b[0m",
      "\u001b[0;31mNameError\u001b[0m                                 Traceback (most recent call last)",
      "Cell \u001b[0;32mIn[24], line 2\u001b[0m\n\u001b[1;32m      1\u001b[0m KFold(n_splits\u001b[38;5;241m=\u001b[39m\u001b[38;5;241m3\u001b[39m)\n\u001b[0;32m----> 2\u001b[0m \u001b[38;5;28mlist\u001b[39m(\u001b[43mkf\u001b[49m\u001b[38;5;241m.\u001b[39msplit(sites))\n",
      "\u001b[0;31mNameError\u001b[0m: name 'kf' is not defined"
     ]
    }
   ],
   "source": [
    "KFold(n_splits=3)\n",
    "list(kf.split(sites))"
   ]
  },
  {
   "cell_type": "code",
   "execution_count": 25,
   "id": "552ea285-6969-48f9-8d12-5a369e25c2cb",
   "metadata": {},
   "outputs": [],
   "source": [
    "train_ind=[]\n",
    "\n",
    "if CV:\n",
    "    for cover in np.sort(reframed['forest_cover(t)'].unique()):\n",
    "        sub = reframed.loc[reframed['forest_cover(t)']==cover]\n",
    "        sites = np.sort(sub.site.unique())\n",
    "       \n",
    "        if len(sites)<FOLDS:\n",
    "            train_sites = sites\n",
    "        else:\n",
    "            kf = KFold(n_splits=3)\n",
    "            train_sites_ind, _ = list(kf.split(sites))[0]\n",
    "            train_sites = sites[train_sites_ind]\n",
    "\n",
    "        train_ind+=list(sub.loc[sub.site.isin(train_sites)].index)"
   ]
  },
  {
   "cell_type": "code",
   "execution_count": 26,
   "id": "4d3afb9e-1623-416a-a91d-e7cb71be8ce0",
   "metadata": {},
   "outputs": [],
   "source": [
    "train = reframed.loc[train_ind].drop(['site','date'], axis = 1)\n",
    "test = reframed.loc[~reframed.index.isin(train_ind)].drop(['site','date'], axis = 1)\n",
    "train.sort_index(inplace = True)\n",
    "test.sort_index(inplace = True)\n",
    "\n",
    "train_X, train_y = train.drop(['percent(t)'], axis = 1).values, train['percent(t)'].values\n",
    "test_X, test_y = test.drop(['percent(t)'], axis = 1).values, test['percent(t)'].values\n",
    "\n",
    "# reshape input to be 3D [samples, timesteps, features]\n",
    "if inputs==None: #checksum\n",
    "    inputs = all_inputs\n",
    "train_Xr = train_X.reshape((train_X.shape[0], int_lag+1, len(inputs)), order = 'A')\n",
    "test_Xr = test_X.reshape((test_X.shape[0], int_lag+1, len(inputs)), order = 'A')  "
   ]
  },
  {
   "cell_type": "code",
   "execution_count": 41,
   "id": "a47ef02c-aeb9-4e48-8f68-dac7fa62a258",
   "metadata": {},
   "outputs": [],
   "source": [
    "rao_sites = ['ASF Greer', 'Baker Park', 'Balanced Rock', 'Benchmark',\n",
    "       'Big Indian', 'Big Thicket National Preserve',\n",
    "       'Bitter Canyon, Castaic', 'Black Cedar', 'Blackberry Hill',\n",
    "       'Blackstone', 'Blue Park', 'CAF Truchas 1', 'CAF Truchas 2',\n",
    "       'CNTX_Comal_TX', 'CNTX_Hays_TX', 'Clark Motorway, Malibu',\n",
    "       'Corralitos New Growth', 'Cottage', 'Cow Mountain', 'D02_Red_Deer',\n",
    "       'D03_Gibson', 'D03_Willis_Creek', 'D06_Ute Canyon',\n",
    "       'D07_Cimarron River', 'D10 - Flagstaff Mtn. - Cold',\n",
    "       'D11_Guanella_Pass', 'D11_Miller_Gulch', 'DUCK CREEK',\n",
    "       'Deep Creek', 'Deer Hill', 'Double Springs', 'Dubois',\n",
    "       'Fortynine C2A', 'GNF Lincoln Canyon', 'Gifford',\n",
    "       'Glendora Ridge, Glendora', 'Grass Mesa', 'Great Divide',\n",
    "       'HILL_Edwards2_TX', 'HILL_Gillespie_TX', 'HILL_SanSaba_TX',\n",
    "       'Hall Creek', 'Hammett', 'Hastings Old Growth', 'Jackson',\n",
    "       'Juanita', 'Keating Cutoff', 'Kuna', 'LNF Cosmic', 'LNF Mayhill',\n",
    "       'LNF Smokey Bear', 'Lake Hughes', 'Lewis Canyon', 'Lookout Mtn',\n",
    "       'Lopez Lake', 'Los Alamos', 'Los Robles, Thousand Oaks',\n",
    "       'Lost Creek, WY', 'Lucky Springs', 'Mad Ridge Fuel Break',\n",
    "       'Mad River', 'McCloud (SHF)', 'Morgan Creek', 'Mt. Baldy Village',\n",
    "       'Mt. Woodson Station', 'Muskrat', 'NETX_Wood_TX', 'NOTX_Hood_TX',\n",
    "       'NOTX_Palo_TX', 'Oak Flat', 'Oak Knoll', 'Ohio Gulch',\n",
    "       'PNF Cherry', 'PNF White Spar', 'Palisade', 'Panter', 'Pocatello',\n",
    "       'Pole Creek', 'Price Rec', 'Pulgas', 'Quincy RD', 'RGPL_Dimmit_TX',\n",
    "       'RMV', 'RUTH', 'Reader Ranch', 'Red Feather', 'Reyes Creek',\n",
    "       'Rock Spring', 'Rome Overlook', 'Rose Valley', 'Rye Grass Flat',\n",
    "       'SETX_Newt_TX', 'SETX_SAug_TX', 'San Marcos', 'Sand Creek Desert',\n",
    "       'Saratoga Summit', 'Sellers Creek', 'Sharpnose', 'Shinar Saddle',\n",
    "       'Simco', 'Six Shooter', 'Smith Ranch', 'Snowbasin', 'Sonora',\n",
    "       'South Canyon', 'Spar Canyon', 'Squaw Peak', 'Sugar Hill',\n",
    "       'Summit2', 'Sunset Heights', 'Sylvan', 'TPEC_Presidio_TX',\n",
    "       'Table Legs Butte', 'TahoeDonner', 'Tally Lake North',\n",
    "       'Tapo Canyon, Simi Valley', 'Three Creek',\n",
    "       'Trippet Ranch, Topanga', 'Tumalo Ridge', 'Tyler Foote',\n",
    "       'Warm Springs', 'Weed Mill Site', 'Wells', 'West Elk Creek',\n",
    "       'Ziegler', 'nacimiento', 'ponderosa', 'upper oso']"
   ]
  },
  {
   "cell_type": "code",
   "execution_count": 42,
   "id": "0be0b2a1-b35d-4664-8b02-2cb2d6aa1246",
   "metadata": {},
   "outputs": [],
   "source": [
    "fang_sites = ['18 Mile', '25 Road Chinquapin', '25 Road manzanita', 'ASF Larson',\n",
    "       'ASF Little MC', 'ASF Little Pine', 'Adobe Creek', 'Alder',\n",
    "       'Alder New', 'Ammon', 'Anderson Ridge', 'Angel Creek',\n",
    "       'Angeles Forest Hwy', 'Apperson Manzanita, Whiteleaf New',\n",
    "       'Apperson Manzanita, Whiteleaf Old', 'Balanced Rock',\n",
    "       'Bald Mountain Lookout', 'Banning',\n",
    "       'Barnes Manzanita, Whiteleaf New',\n",
    "       'Barnes Manzanita, Whiteleaf Old', 'Barnes Pine, Ponderosa',\n",
    "       'Basque Hills', 'Beacon Pass', 'Bell Springs', 'Beus', 'Big Creek',\n",
    "       'Big Creek North', 'Big Thicket National Preserve', 'Big Valley',\n",
    "       'Bishop/Keoughs Hot Springs', 'Black Canyon', 'Blackstone',\n",
    "       'Blizzard Gap Bottom', 'Blizzard Gap Middle', 'Blizzard Gap Top',\n",
    "       'Bloomer Hill - SW Old', 'Blue Mountain', 'Bob Scott', 'Bostetter',\n",
    "       'Bowman', 'Brandy City Tanoak', 'Bridgeport',\n",
    "       'Broken Kettle Grasslands - Stevenson Ridge', 'Browns Gap',\n",
    "       'Buckeye Manzanita, Whiteleaf New',\n",
    "       'Buckeye Manzanita, Whiteleaf Old', 'Bullwhack', 'Burro Mountian',\n",
    "       'CNF Alamo Canyon', 'COF Baker', 'COF Blue Ridge', 'COF Cow Trap',\n",
    "       'COF Mormon Lake', 'Carlin', 'Carson', 'Chester', 'Chiloquin',\n",
    "       'Circle X, Malibu', 'Clearlake', 'Coffee Point', 'Cold Springs',\n",
    "       'Coleman', 'Coleman Ponderosa', 'Coleman Sage', 'Combined',\n",
    "       'Corralitos', 'Corralitos New Growth', 'Corralitos Old Growth',\n",
    "       'Cottage', 'Cow Creek', 'Crab Creek', 'Crane Flat - Old',\n",
    "       'Crestview sagebrush combined averages',\n",
    "       'Crestview sagebrush new growth', 'Crestview sagebrush old growth',\n",
    "       'Crow 532', 'Cumberland', 'D01_Turquoise_Lake',\n",
    "       'D02_Ute_Trail_Lower', 'D06_Dry Bluff', 'D06_Ute Canyon',\n",
    "       'D06_Withers Canyon', 'D07_Cimarron South',\n",
    "       'D10 - Flagstaff Mtn. - Cold', 'D10 - Jones Hill Upper',\n",
    "       'D10 - Sledgehammer North', 'D10_Dicks Peak', 'D11_Waterton',\n",
    "       'D9 Trout Creek', 'DOYLE', 'DUCK CREEK', 'Dad', 'Darling Ridge',\n",
    "       'Davewood', 'De Sabla', 'Deer Valley - DF', 'Deer Valley-New',\n",
    "       'Double Springs', 'Dubois', 'Dutch Flat', 'Eagle Lake',\n",
    "       'Elk Mountain - New Growth', 'Elk Mountain - Old Growth',\n",
    "       'Elk Mtn', 'Elk Mtn Post Ranch Fire', 'Elko', 'Emerald Bay',\n",
    "       'Emerald Bay New Growth', 'Emery Creek', 'Esterbrook', 'Evanston',\n",
    "       'FH-7 - New Growth', 'FH-7 - Old Growth', 'Fencemaker', 'Fernwood',\n",
    "       'Fish Springs', 'Fishtrap', 'Fort Rock', 'Fortynine C2A',\n",
    "       'Fouts Springs', 'Fredericks Butte', 'Game Creek',\n",
    "       'Garfield County Airport', 'Gasquet', 'Gerber',\n",
    "       'Geysers (Sonoma County)', 'Geysers Peak', 'Grass Valley',\n",
    "       'Grasshopper', 'Great Divide', 'Greenhorn Yreka', 'Hammett',\n",
    "       'Happy Camp', 'Haskell Peak Road Manzanita', 'Headquarters',\n",
    "       'Hebgen Lake', 'Henrys', 'Hitchcock Cedar Fuels', 'Hobble Creek',\n",
    "       'Hogsback', 'Holst Rd', 'Horse', 'Horse Heaven Hills',\n",
    "       'Howell Canyon', 'Idaho Falls', 'JAKES VALLEY', 'Jacks Valley',\n",
    "       'Jackson', 'Janesville', 'Juanita', 'Juniper Creek C2B',\n",
    "       'Juniper Dunes', 'KNF 429-454', 'KNF Camp 36', 'KNF City',\n",
    "       'KNF Eagle 5', 'KNF Jacob Lake', 'KNF North', 'KNF South',\n",
    "       'Kanaka', 'Kawuneeche', 'Keating Cutoff', 'Keeney',\n",
    "       'Kingsbury Grade', 'Kinsman Ceanothus, Buckbrush New',\n",
    "       'Kinsman Ceanothus, Buckbrush Old',\n",
    "       'Kinsman Manzanita, Whiteleaf New',\n",
    "       'Kinsman Manzanita, Whiteleaf Old', 'Knox', 'Konocti', 'Kuna',\n",
    "       'Kyle Canyon', 'LHSF Cedar Fuels', 'La Tuna Canyon, Tujunga',\n",
    "       'Laguna Ridge, Casitas', 'Lake Mendocino', 'Lakeview Ranch',\n",
    "       'Las Posadas', 'Las Posadas State Forest',\n",
    "       'Laurel Canyon, Mt. Olympus', 'Lee Vining/June Lake',\n",
    "       'Lewis Canyon', 'Lincoln Crest', 'Little Beaver',\n",
    "       'Little Cottonwood', 'Little Mountain 1', 'Long Canyon',\n",
    "       'Lookout Mtn', 'Los Robles, Thousand Oaks', 'Lucky Springs',\n",
    "       'Mad Ridge Fuel Break', 'Mad River', 'Main Boulder',\n",
    "       'Mammoth Airport', 'Maple Canyon', 'Markleeville', 'McCloud',\n",
    "       'McCoy Ridge', 'Mesa', 'Mill Creek', 'Miranda', 'Monte Cristo',\n",
    "       'Morgan Creek', 'Mountain Home Ranch', 'Moxa', 'Mt. Baldy Village',\n",
    "       'Mt. Emma', 'NETX_KAUF_TX', 'NOTX_Clay_TX', 'National',\n",
    "       'New Harmony', 'New Jungo', 'North Fork', 'Notch Butte', 'Oak Run',\n",
    "       'Ohio Gulch', 'Old Camptonville manzanita',\n",
    "       'Old Camptonville tanoak', 'Old Man CG', 'Oregon House', 'PIOCHE',\n",
    "       'Palisade', 'Palisades', 'Palomino Butte', 'Panther', 'Pardee',\n",
    "       'Peach Motorway', 'Pebble Beach New Growth',\n",
    "       'Pebble Beach Old Growth', 'Pickle Gulch', 'Pike County',\n",
    "       'Pillsbury', 'Pine Acres', 'Pine Creek', 'Pine Valley Pinyon',\n",
    "       'Pistol Draw', 'Pit River', 'Placerita Canyon', 'Pocatello',\n",
    "       'Pole Creek', 'Pollock Pines',\n",
    "       'Ponderosa Basin Ceanothus, Buckbrush New',\n",
    "       'Ponderosa Basin Ceanothus, Buckbrush Old',\n",
    "       'Ponderosa Basin Manzanita, Whiteleaf New',\n",
    "       'Ponderosa Basin Manzanita, Whiteleaf Old', 'Preist', 'Prospect',\n",
    "       'Pulgas', 'Quartz Hill New Growth', 'Quartz Hill Old Growth',\n",
    "       'RAINBOW CANYON', 'RUTH', 'Randolph', 'Raspberry', 'Ravendale C2D',\n",
    "       'Red Cap Manzanita', 'Red Rock', 'Rock Creek', 'Rock Spring',\n",
    "       'Rollins Reservoir', 'Rome Overlook', 'Rye Grass Flat',\n",
    "       'SCE Hwy 74', 'SOPL_Crane_TX', 'Saddle Mountains',\n",
    "       'Saginaw Pine, Ponderosa', 'Sand Creek Desert', 'Sawmill 200',\n",
    "       'Schueren Road, Malibu', 'Sedge', 'Sellers Creek', 'Sharpnose',\n",
    "       'Shasta Dam', 'Shingletown', 'Shirttail', 'Shoshone Basin',\n",
    "       'Silver Fork', 'Simco', 'Sisar Canyon, Upper Ojai Valley',\n",
    "       'Slate Creek', 'Sledgehammer South', 'Smiths Fork',\n",
    "       'Snow Springs 1', 'South Canyon', 'South Grays Creek',\n",
    "       'Spar Canyon', 'Spooner', 'Spring Creek', 'Spunky Canyon',\n",
    "       'Square Top', 'Squaw Peak', 'Station 14 New Growth',\n",
    "       'Station 14 Old Growth and 1000 Hr', 'Station 60 New Growth',\n",
    "       'Station 60 old growth and 1000 Hr.', 'Steck Park',\n",
    "       'Stunt Road, Calabasas', 'Sublett', 'Sugar Hill', 'Summit1',\n",
    "       'Summit2', 'Sunset Heights', 'Sweetland',\n",
    "       'Sweetwater Campground 2', 'Switchback', 'TPEC_Presidio_TX',\n",
    "       'Table Legs Butte', 'Tapo Canyon, Simi Valley', 'Taylor Butte',\n",
    "       'Telford', 'Templin Highway', 'Three Creek', 'Three Island',\n",
    "       'Throckmorton', 'Thunder Basin Work Center', 'Trough - New Growth',\n",
    "       'Trough - Old Growth', 'Trumbull', 'Twin Lakes', 'Tyler Foote',\n",
    "       'USBOR', 'Upper Ojai Valley', 'Walker Ridge', 'Warm Springs',\n",
    "       'Waubonsie Cedar Fuels', 'Weaverville New Growth',\n",
    "       'Weaverville Old Growth', 'Weed Mill Site', 'Wells',\n",
    "       'West Bridger', 'West Elk Creek', 'Whaleback Mtn', 'Whitetail',\n",
    "       'Woolsey Canyon', 'Ziegler']"
   ]
  },
  {
   "cell_type": "code",
   "execution_count": 45,
   "id": "1ca6da8f-5200-4b45-a95b-68182e661abc",
   "metadata": {},
   "outputs": [
    {
     "data": {
      "text/plain": [
       "54"
      ]
     },
     "execution_count": 45,
     "metadata": {},
     "output_type": "execute_result"
    }
   ],
   "source": [
    "len(list(set(rao_sites) & set(fang_sites)))"
   ]
  },
  {
   "cell_type": "code",
   "execution_count": null,
   "id": "fa7247bb-a327-447a-b624-219e734736ff",
   "metadata": {},
   "outputs": [],
   "source": [
    "len(list(set(rao_sites) & set(fang_sites)))"
   ]
  },
  {
   "cell_type": "code",
   "execution_count": 52,
   "id": "1c739204-63d9-43dc-a21a-89267b7f84e4",
   "metadata": {},
   "outputs": [
    {
     "data": {
      "text/plain": [
       "128"
      ]
     },
     "execution_count": 52,
     "metadata": {},
     "output_type": "execute_result"
    }
   ],
   "source": [
    "len(rao_sites)"
   ]
  },
  {
   "cell_type": "code",
   "execution_count": 53,
   "id": "052719a6-f0a9-4957-bc6f-d18d247fbf39",
   "metadata": {},
   "outputs": [
    {
     "data": {
      "text/plain": [
       "335"
      ]
     },
     "execution_count": 53,
     "metadata": {},
     "output_type": "execute_result"
    }
   ],
   "source": [
    "len(fang_sites)"
   ]
  },
  {
   "cell_type": "code",
   "execution_count": 58,
   "id": "d5a996be-e335-4363-983c-8febbb840bce",
   "metadata": {},
   "outputs": [],
   "source": [
    "rao_sites = [site.lower() for site in rao_sites]\n",
    "fang_sites = [site.lower() for site in fang_sites]"
   ]
  },
  {
   "cell_type": "code",
   "execution_count": 59,
   "id": "15ec7b48-0d23-4319-925c-3b35183e2038",
   "metadata": {},
   "outputs": [
    {
     "data": {
      "text/plain": [
       "54"
      ]
     },
     "execution_count": 59,
     "metadata": {},
     "output_type": "execute_result"
    }
   ],
   "source": [
    "count = 0\n",
    "for site in rao_sites:\n",
    "    if site in fang_sites:\n",
    "        count += 1\n",
    "\n",
    "count"
   ]
  },
  {
   "cell_type": "code",
   "execution_count": null,
   "id": "50a5ec9b-5413-4858-b597-8bdbfc623f48",
   "metadata": {},
   "outputs": [],
   "source": []
  }
 ],
 "metadata": {
  "kernelspec": {
   "display_name": "pytorch",
   "language": "python",
   "name": "pytorch"
  },
  "language_info": {
   "codemirror_mode": {
    "name": "ipython",
    "version": 3
   },
   "file_extension": ".py",
   "mimetype": "text/x-python",
   "name": "python",
   "nbconvert_exporter": "python",
   "pygments_lexer": "ipython3",
   "version": "3.11.7"
  }
 },
 "nbformat": 4,
 "nbformat_minor": 5
}
