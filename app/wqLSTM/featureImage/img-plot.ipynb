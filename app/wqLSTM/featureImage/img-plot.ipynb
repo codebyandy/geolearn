{
 "cells": [
  {
   "cell_type": "code",
   "execution_count": 10,
   "metadata": {},
   "outputs": [
    {
     "name": "stdout",
     "output_type": "stream",
     "text": [
      "Find negative Q, filled zero\n",
      "9 extremes removed\n",
      "loading data 00955-B200 0.47s\n"
     ]
    }
   ],
   "source": [
    "from hydroDL.data import dbBasin, usgs, gageII, gridMET, GLASS\n",
    "import os\n",
    "from hydroDL import kPath\n",
    "import numpy as np\n",
    "import pandas as pd\n",
    "from hydroDL.post import axplot, figplot, mapplot, mapplotFlat\n",
    "import matplotlib.pyplot as plt\n",
    "import matplotlib.gridspec as gridspec\n",
    "import datetime as dt\n",
    "\n",
    "sn = 1e-5\n",
    "code = '00955'\n",
    "dataName = '{}-B200'.format(code)\n",
    "DF = dbBasin.DataFrameBasin(dataName)\n",
    "\n",
    "\n",
    "meanC = np.nanmean(DF.c, axis=0)\n",
    "lat, lon = DF.getGeo()\n",
    "\n",
    "tpd = pd.to_datetime(DF.t)\n",
    "day = tpd.dayofyear\n",
    "year = tpd.year\n",
    "logQ = np.log(DF.q[:, :, 1] + sn)"
   ]
  },
  {
   "cell_type": "code",
   "execution_count": 11,
   "metadata": {},
   "outputs": [],
   "source": [
    "\n",
    "# local feature image range\n",
    "nC = 50\n",
    "nQ = 50\n",
    "nD = 50\n",
    "binD = np.linspace(1, 365, nD + 1)\n",
    "imgLst1 = list()\n",
    "imgLst2 = list()\n",
    "extLst1 = list()\n",
    "extLst2 = list()\n",
    "for k, siteNo in enumerate(DF.siteNoLst):\n",
    "    c = DF.c[:, k, 0]\n",
    "    q = logQ[:, k]\n",
    "    binC = np.linspace(np.nanmin(c), np.nanmax(c), num=nC + 1)\n",
    "    binQ = np.linspace(np.nanmin(q), np.nanmax(q), num=nQ + 1)\n",
    "    extent1 = [binD[0], binD[-1], binC[0], binC[-1]]\n",
    "    extent2 = [binQ[0], binQ[-1], binC[0], binC[-1]]\n",
    "    img1 = np.histogram2d(day, DF.c[:, k, 0], bins=[binD, binC], density=True)[0]\n",
    "    img1 = img1.swapaxes(0, 1)\n",
    "    img2 = np.histogram2d(logQ[:, k], DF.c[:, k, 0], bins=[binQ, binC], density=True)[0]\n",
    "    img2 = img2.swapaxes(0, 1)\n",
    "    imgLst1.append(img1)\n",
    "    imgLst2.append(img2)\n",
    "    extLst1.append(extent1)\n",
    "    extLst2.append(extent2)\n",
    "imgAry1 = np.stack(imgLst1, axis=-1)\n",
    "imgAry2 = np.stack(imgLst2, axis=-1)"
   ]
  },
  {
   "cell_type": "code",
   "execution_count": 12,
   "metadata": {},
   "outputs": [],
   "source": [
    "\n",
    "# CQ CT plot to image\n",
    "def funcM():\n",
    "    figM = plt.figure(figsize=(8, 6))\n",
    "    gsM = gridspec.GridSpec(1, 1)\n",
    "    axM = mapplotFlat.mapPoint(figM, gsM[0, 0], lat, lon, meanC)\n",
    "    axM.set_title('{} {}'.format(usgs.codePdf.loc[code]['shortName'], code))\n",
    "    figP = plt.figure(figsize=(10, 8))\n",
    "    gsP = gridspec.GridSpec(2, 4)\n",
    "    axT1 = figP.add_subplot(gsP[0, :])\n",
    "    axT2 = axT1.twinx()\n",
    "    axP1 = figP.add_subplot(gsP[1, 0])\n",
    "    axP2 = figP.add_subplot(gsP[1, 1])\n",
    "    axP3 = figP.add_subplot(gsP[1, 2])\n",
    "    axP4 = figP.add_subplot(gsP[1, 3])\n",
    "    axPLst = [axT1, axT2, axP1, axP2, axP3, axP4]\n",
    "    axP = np.array(axPLst)\n",
    "    return figM, axM, figP, axP, lon, lat\n",
    "\n",
    "\n",
    "def funcP(iP, axP):\n",
    "    print(iP)\n",
    "    [axT1, axT2, axP1, axP2, axP3, axP4] = axP\n",
    "    axT1.plot(DF.t, DF.c[:, iP, 0], 'r*')\n",
    "    axT2.plot(DF.t, DF.q[:, iP, 1], 'b-')\n",
    "    axP1.scatter(day, DF.c[:, iP, 0], c=year)\n",
    "    axP2.imshow(imgAry1[:, :, iP], origin='lower', extent=extLst1[iP], aspect='auto')\n",
    "    axP3.scatter(logQ[:, iP], DF.c[:, iP, 0], c=year)\n",
    "    axP4.imshow(imgAry2[:, :, iP], origin='lower', extent=extLst2[iP], aspect='auto')\n",
    "\n"
   ]
  },
  {
   "cell_type": "code",
   "execution_count": 13,
   "metadata": {},
   "outputs": [
    {
     "ename": "ModuleNotFoundError",
     "evalue": "No module named 'ipympl'",
     "output_type": "error",
     "traceback": [
      "\u001b[0;31m---------------------------------------------------------------------------\u001b[0m",
      "\u001b[0;31mModuleNotFoundError\u001b[0m                       Traceback (most recent call last)",
      "Cell \u001b[0;32mIn[13], line 1\u001b[0m\n\u001b[0;32m----> 1\u001b[0m get_ipython()\u001b[39m.\u001b[39;49mrun_line_magic(\u001b[39m'\u001b[39;49m\u001b[39mmatplotlib\u001b[39;49m\u001b[39m'\u001b[39;49m, \u001b[39m'\u001b[39;49m\u001b[39mwidget\u001b[39;49m\u001b[39m'\u001b[39;49m)\n\u001b[1;32m      2\u001b[0m figplot\u001b[39m.\u001b[39mclickMap(funcM, funcP)\n",
      "File \u001b[0;32m~/envs/full/lib/python3.10/site-packages/IPython/core/interactiveshell.py:2369\u001b[0m, in \u001b[0;36mInteractiveShell.run_line_magic\u001b[0;34m(self, magic_name, line, _stack_depth)\u001b[0m\n\u001b[1;32m   2367\u001b[0m     kwargs[\u001b[39m'\u001b[39m\u001b[39mlocal_ns\u001b[39m\u001b[39m'\u001b[39m] \u001b[39m=\u001b[39m \u001b[39mself\u001b[39m\u001b[39m.\u001b[39mget_local_scope(stack_depth)\n\u001b[1;32m   2368\u001b[0m \u001b[39mwith\u001b[39;00m \u001b[39mself\u001b[39m\u001b[39m.\u001b[39mbuiltin_trap:\n\u001b[0;32m-> 2369\u001b[0m     result \u001b[39m=\u001b[39m fn(\u001b[39m*\u001b[39;49margs, \u001b[39m*\u001b[39;49m\u001b[39m*\u001b[39;49mkwargs)\n\u001b[1;32m   2371\u001b[0m \u001b[39m# The code below prevents the output from being displayed\u001b[39;00m\n\u001b[1;32m   2372\u001b[0m \u001b[39m# when using magics with decodator @output_can_be_silenced\u001b[39;00m\n\u001b[1;32m   2373\u001b[0m \u001b[39m# when the last Python token in the expression is a ';'.\u001b[39;00m\n\u001b[1;32m   2374\u001b[0m \u001b[39mif\u001b[39;00m \u001b[39mgetattr\u001b[39m(fn, magic\u001b[39m.\u001b[39mMAGIC_OUTPUT_CAN_BE_SILENCED, \u001b[39mFalse\u001b[39;00m):\n",
      "File \u001b[0;32m~/envs/full/lib/python3.10/site-packages/IPython/core/magics/pylab.py:99\u001b[0m, in \u001b[0;36mPylabMagics.matplotlib\u001b[0;34m(self, line)\u001b[0m\n\u001b[1;32m     97\u001b[0m     \u001b[39mprint\u001b[39m(\u001b[39m\"\u001b[39m\u001b[39mAvailable matplotlib backends: \u001b[39m\u001b[39m%s\u001b[39;00m\u001b[39m\"\u001b[39m \u001b[39m%\u001b[39m backends_list)\n\u001b[1;32m     98\u001b[0m \u001b[39melse\u001b[39;00m:\n\u001b[0;32m---> 99\u001b[0m     gui, backend \u001b[39m=\u001b[39m \u001b[39mself\u001b[39;49m\u001b[39m.\u001b[39;49mshell\u001b[39m.\u001b[39;49menable_matplotlib(args\u001b[39m.\u001b[39;49mgui\u001b[39m.\u001b[39;49mlower() \u001b[39mif\u001b[39;49;00m \u001b[39misinstance\u001b[39;49m(args\u001b[39m.\u001b[39;49mgui, \u001b[39mstr\u001b[39;49m) \u001b[39melse\u001b[39;49;00m args\u001b[39m.\u001b[39;49mgui)\n\u001b[1;32m    100\u001b[0m     \u001b[39mself\u001b[39m\u001b[39m.\u001b[39m_show_matplotlib_backend(args\u001b[39m.\u001b[39mgui, backend)\n",
      "File \u001b[0;32m~/envs/full/lib/python3.10/site-packages/IPython/core/interactiveshell.py:3555\u001b[0m, in \u001b[0;36mInteractiveShell.enable_matplotlib\u001b[0;34m(self, gui)\u001b[0m\n\u001b[1;32m   3551\u001b[0m         \u001b[39mprint\u001b[39m(\u001b[39m'\u001b[39m\u001b[39mWarning: Cannot change to a different GUI toolkit: \u001b[39m\u001b[39m%s\u001b[39;00m\u001b[39m.\u001b[39m\u001b[39m'\u001b[39m\n\u001b[1;32m   3552\u001b[0m                 \u001b[39m'\u001b[39m\u001b[39m Using \u001b[39m\u001b[39m%s\u001b[39;00m\u001b[39m instead.\u001b[39m\u001b[39m'\u001b[39m \u001b[39m%\u001b[39m (gui, \u001b[39mself\u001b[39m\u001b[39m.\u001b[39mpylab_gui_select))\n\u001b[1;32m   3553\u001b[0m         gui, backend \u001b[39m=\u001b[39m pt\u001b[39m.\u001b[39mfind_gui_and_backend(\u001b[39mself\u001b[39m\u001b[39m.\u001b[39mpylab_gui_select)\n\u001b[0;32m-> 3555\u001b[0m pt\u001b[39m.\u001b[39;49mactivate_matplotlib(backend)\n\u001b[1;32m   3556\u001b[0m configure_inline_support(\u001b[39mself\u001b[39m, backend)\n\u001b[1;32m   3558\u001b[0m \u001b[39m# Now we must activate the gui pylab wants to use, and fix %run to take\u001b[39;00m\n\u001b[1;32m   3559\u001b[0m \u001b[39m# plot updates into account\u001b[39;00m\n",
      "File \u001b[0;32m~/envs/full/lib/python3.10/site-packages/IPython/core/pylabtools.py:360\u001b[0m, in \u001b[0;36mactivate_matplotlib\u001b[0;34m(backend)\u001b[0m\n\u001b[1;32m    355\u001b[0m \u001b[39m# Due to circular imports, pyplot may be only partially initialised\u001b[39;00m\n\u001b[1;32m    356\u001b[0m \u001b[39m# when this function runs.\u001b[39;00m\n\u001b[1;32m    357\u001b[0m \u001b[39m# So avoid needing matplotlib attribute-lookup to access pyplot.\u001b[39;00m\n\u001b[1;32m    358\u001b[0m \u001b[39mfrom\u001b[39;00m \u001b[39mmatplotlib\u001b[39;00m \u001b[39mimport\u001b[39;00m pyplot \u001b[39mas\u001b[39;00m plt\n\u001b[0;32m--> 360\u001b[0m plt\u001b[39m.\u001b[39;49mswitch_backend(backend)\n\u001b[1;32m    362\u001b[0m plt\u001b[39m.\u001b[39mshow\u001b[39m.\u001b[39m_needmain \u001b[39m=\u001b[39m \u001b[39mFalse\u001b[39;00m\n\u001b[1;32m    363\u001b[0m \u001b[39m# We need to detect at runtime whether show() is called by the user.\u001b[39;00m\n\u001b[1;32m    364\u001b[0m \u001b[39m# For this, we wrap it into a decorator which adds a 'called' flag.\u001b[39;00m\n",
      "File \u001b[0;32m~/envs/full/lib/python3.10/site-packages/matplotlib/pyplot.py:265\u001b[0m, in \u001b[0;36mswitch_backend\u001b[0;34m(newbackend)\u001b[0m\n\u001b[1;32m    262\u001b[0m         rcParamsOrig[\u001b[39m\"\u001b[39m\u001b[39mbackend\u001b[39m\u001b[39m\"\u001b[39m] \u001b[39m=\u001b[39m \u001b[39m\"\u001b[39m\u001b[39magg\u001b[39m\u001b[39m\"\u001b[39m\n\u001b[1;32m    263\u001b[0m         \u001b[39mreturn\u001b[39;00m\n\u001b[0;32m--> 265\u001b[0m backend_mod \u001b[39m=\u001b[39m importlib\u001b[39m.\u001b[39;49mimport_module(\n\u001b[1;32m    266\u001b[0m     cbook\u001b[39m.\u001b[39;49m_backend_module_name(newbackend))\n\u001b[1;32m    268\u001b[0m required_framework \u001b[39m=\u001b[39m _get_required_interactive_framework(backend_mod)\n\u001b[1;32m    269\u001b[0m \u001b[39mif\u001b[39;00m required_framework \u001b[39mis\u001b[39;00m \u001b[39mnot\u001b[39;00m \u001b[39mNone\u001b[39;00m:\n",
      "File \u001b[0;32m/usr/lib/python3.10/importlib/__init__.py:126\u001b[0m, in \u001b[0;36mimport_module\u001b[0;34m(name, package)\u001b[0m\n\u001b[1;32m    124\u001b[0m             \u001b[39mbreak\u001b[39;00m\n\u001b[1;32m    125\u001b[0m         level \u001b[39m+\u001b[39m\u001b[39m=\u001b[39m \u001b[39m1\u001b[39m\n\u001b[0;32m--> 126\u001b[0m \u001b[39mreturn\u001b[39;00m _bootstrap\u001b[39m.\u001b[39;49m_gcd_import(name[level:], package, level)\n",
      "File \u001b[0;32m<frozen importlib._bootstrap>:1050\u001b[0m, in \u001b[0;36m_gcd_import\u001b[0;34m(name, package, level)\u001b[0m\n",
      "File \u001b[0;32m<frozen importlib._bootstrap>:1027\u001b[0m, in \u001b[0;36m_find_and_load\u001b[0;34m(name, import_)\u001b[0m\n",
      "File \u001b[0;32m<frozen importlib._bootstrap>:992\u001b[0m, in \u001b[0;36m_find_and_load_unlocked\u001b[0;34m(name, import_)\u001b[0m\n",
      "File \u001b[0;32m<frozen importlib._bootstrap>:241\u001b[0m, in \u001b[0;36m_call_with_frames_removed\u001b[0;34m(f, *args, **kwds)\u001b[0m\n",
      "File \u001b[0;32m<frozen importlib._bootstrap>:1050\u001b[0m, in \u001b[0;36m_gcd_import\u001b[0;34m(name, package, level)\u001b[0m\n",
      "File \u001b[0;32m<frozen importlib._bootstrap>:1027\u001b[0m, in \u001b[0;36m_find_and_load\u001b[0;34m(name, import_)\u001b[0m\n",
      "File \u001b[0;32m<frozen importlib._bootstrap>:1004\u001b[0m, in \u001b[0;36m_find_and_load_unlocked\u001b[0;34m(name, import_)\u001b[0m\n",
      "\u001b[0;31mModuleNotFoundError\u001b[0m: No module named 'ipympl'"
     ]
    }
   ],
   "source": [
    "# %matplotlib widget\n",
    "figplot.clickMap(funcM, funcP)"
   ]
  }
 ],
 "metadata": {
  "kernelspec": {
   "display_name": "full",
   "language": "python",
   "name": "python3"
  },
  "language_info": {
   "codemirror_mode": {
    "name": "ipython",
    "version": 3
   },
   "file_extension": ".py",
   "mimetype": "text/x-python",
   "name": "python",
   "nbconvert_exporter": "python",
   "pygments_lexer": "ipython3",
   "version": "3.10.6"
  },
  "orig_nbformat": 4,
  "vscode": {
   "interpreter": {
    "hash": "f766c1f7325f66f380d706cebd2fe106aa9bf23ee543e20aa68c9f7762aabe15"
   }
  }
 },
 "nbformat": 4,
 "nbformat_minor": 2
}
