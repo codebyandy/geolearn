{
 "cells": [
  {
   "cell_type": "code",
   "execution_count": 1,
   "metadata": {},
   "outputs": [
    {
     "name": "stdout",
     "output_type": "stream",
     "text": [
      "loading package hydroDL\n"
     ]
    }
   ],
   "source": [
    "import matplotlib.gridspec as gridspec\n",
    "from hydroDL.post import axplot, figplot, mapplot\n",
    "import matplotlib.pyplot as plt\n",
    "from hydroDL import utils\n",
    "import os\n",
    "from hydroDL.model import trainBasin, crit, waterNetTest\n",
    "from hydroDL.data import dbBasin, gageII\n",
    "import numpy as np\n",
    "import torch\n",
    "import pandas as pd\n",
    "from hydroDL.model import waterNetTest, waterNet\n",
    "from hydroDL.master import basinFull\n",
    "import importlib\n"
   ]
  },
  {
   "cell_type": "code",
   "execution_count": 2,
   "metadata": {},
   "outputs": [
    {
     "name": "stdout",
     "output_type": "stream",
     "text": [
      "Find negative Q, filled zero\n"
     ]
    },
    {
     "name": "stderr",
     "output_type": "stream",
     "text": [
      "C:\\Users\\geofk\\anaconda3\\envs\\pytorch\\lib\\site-packages\\numpy\\lib\\nanfunctions.py:1396: RuntimeWarning: All-NaN slice encountered\n",
      "  overwrite_input, interpolation)\n"
     ]
    },
    {
     "name": "stdout",
     "output_type": "stream",
     "text": [
      "694 extremes removed\n",
      "loading data QN90ref 21.15s\n"
     ]
    }
   ],
   "source": [
    "dataName = 'QN90ref'\n",
    "DF = dbBasin.DataFrameBasin(dataName)\n",
    "varX = ['pr', 'etr', 'tmmn', 'tmmx', 'srad', 'LAI']\n",
    "mtdX = ['skip' for k in range(2)] +\\\n",
    "    ['scale' for k in range(2)] +\\\n",
    "    ['norm' for k in range(2)]\n",
    "varY = ['runoff']\n",
    "mtdY = ['skip']\n",
    "varXC = gageII.varLstEx\n",
    "mtdXC = ['QT' for var in varXC]\n",
    "varYC = None\n",
    "mtdYC = dbBasin.io.extractVarMtd(varYC)\n",
    "# train\n",
    "trainSet = 'WYB09'\n",
    "testSet = 'WYA09'\n",
    "DM1 = dbBasin.DataModelBasin(\n",
    "    DF, subset=trainSet, varX=varX, varXC=varXC, varY=varY, varYC=varYC)\n",
    "DM1.trans(mtdX=mtdX, mtdXC=mtdXC)\n",
    "dataTup1 = DM1.getData()\n",
    "DM2 = dbBasin.DataModelBasin(\n",
    "    DF, subset=testSet, varX=varX, varXC=varXC, varY=varY, varYC=varYC)\n",
    "DM2.borrowStat(DM1)\n",
    "dataTup2 = DM2.getData()\n",
    "\n",
    "# model\n",
    "nh = 16\n",
    "ng = len(varXC)\n",
    "ns = len(DF.siteNoLst)\n",
    "nr = 5\n",
    "model = waterNet.WaterNet0119(nh, len(varXC), nr)\n",
    "model = model.cuda()\n",
    "optim = torch.optim.Adam(model.parameters())\n",
    "lossFun = crit.LogLoss2D().cuda()"
   ]
  },
  {
   "cell_type": "code",
   "execution_count": 3,
   "metadata": {},
   "outputs": [
    {
     "name": "stdout",
     "output_type": "stream",
     "text": [
      "batch 0\n",
      "batch 1\n",
      "batch 2\n",
      "batch 3\n",
      "batch 4\n",
      "batch 5\n"
     ]
    }
   ],
   "source": [
    "# water net\n",
    "saveDir = r'C:\\Users\\geofk\\work\\waterQuality\\waterNet\\modelTemp'\n",
    "modelFile = 'wn0119-{}-ep{}'.format('QN90ref', 100)\n",
    "model.load_state_dict(torch.load(os.path.join(saveDir, modelFile)))\n",
    "model.eval()\n",
    "[x, xc, y, yc] = dataTup2\n",
    "xP = torch.from_numpy(x).float().cuda()\n",
    "xcP = torch.from_numpy(xc).float().cuda()\n",
    "nt, ns, _ = y.shape\n",
    "t = DF.getT(testSet)\n",
    "testBatch = 100\n",
    "iS = np.arange(0, ns, testBatch)\n",
    "iE = np.append(iS[1:], ns)\n",
    "yP = np.ndarray([nt-nr+1, ns])\n",
    "for k in range(len(iS)):\n",
    "    print('batch {}'.format(k))\n",
    "    yOut = model(xP[:, iS[k]:iE[k], :], xcP[iS[k]:iE[k]])\n",
    "    yP[:, iS[k]:iE[k]] = yOut.detach().cpu().numpy()\n",
    "model.zero_grad()"
   ]
  },
  {
   "cell_type": "code",
   "execution_count": 4,
   "metadata": {},
   "outputs": [
    {
     "name": "stdout",
     "output_type": "stream",
     "text": [
      "load saved test result\n"
     ]
    }
   ],
   "source": [
    "# LSTM\n",
    "outName = '{}-{}'.format('QN90ref', trainSet)\n",
    "yL, ycL = basinFull.testModel(\n",
    "    outName, DF=DF, testSet=testSet, reTest=False, ep=1000)\n",
    "yL = yL[:, :, 0]\n",
    "nash1 = utils.stat.calNash(yP, y[nr-1:, :, 0])\n",
    "corr1 = utils.stat.calCorr(yP, y[nr-1:, :, 0])\n",
    "nash2 = utils.stat.calNash(yL, y[:, :, 0])\n",
    "corr2 = utils.stat.calCorr(yL, y[:, :, 0])\n",
    "lat, lon = DF.getGeo()"
   ]
  },
  {
   "cell_type": "code",
   "execution_count": 5,
   "metadata": {},
   "outputs": [],
   "source": [
    "\n",
    "def funcM():\n",
    "    figM = plt.figure(figsize=(12, 5))\n",
    "    gsM = gridspec.GridSpec(1, 3)\n",
    "    axM0 = mapplot.mapPoint(figM, gsM[0, 0], lat, lon, nash1)\n",
    "    axM0.set_title('waterNet Nash')\n",
    "    axM1 = mapplot.mapPoint(figM, gsM[0, 1], lat, lon, nash2)\n",
    "    axM1.set_title('LSTM Nash')\n",
    "    axM2 = mapplot.mapPoint(figM, gsM[0, 2], lat, lon, nash2-nash1)\n",
    "    axM2.set_title('LSTM - waterNet Nash')\n",
    "    axM = np.array([axM0, axM1, axM2])\n",
    "    figP, axP = plt.subplots(1, 1, figsize=(12, 4))\n",
    "    return figM, axM, figP, axP, lon, lat\n",
    "\n",
    "\n",
    "def funcP(iP, axP):\n",
    "    print(iP)\n",
    "    siteNo = DF.siteNoLst[iP]\n",
    "    t = DF.getT(testSet)\n",
    "    legLst = ['obs',\n",
    "              'waterNet {:.2f} {:.2f}'.format(nash1[iP], corr1[iP]),\n",
    "              'LSTM {:.2f} {:.2f}'.format(nash2[iP], corr2[iP])\n",
    "              ]\n",
    "    axplot.plotTS(axP, t[nr-1:], [y[nr-1:, iP, 0], yP[:, iP], yL[nr-1:, iP]],\n",
    "                  lineW=[2, 1, 1], cLst='krb', legLst=legLst)\n",
    "    strTitle = ('{}'.format(DF.siteNoLst[iP]))\n",
    "    axP.set_title(strTitle)"
   ]
  },
  {
   "cell_type": "code",
   "execution_count": 7,
   "metadata": {},
   "outputs": [
    {
     "name": "stdout",
     "output_type": "stream",
     "text": [
      "Warning: Cannot change to a different GUI toolkit: notebook. Using tk instead.\n",
      "277\n"
     ]
    }
   ],
   "source": [
    "%matplotlib notebook\n",
    "figM, figP = figplot.clickMap(funcM, funcP)"
   ]
  },
  {
   "cell_type": "code",
   "execution_count": null,
   "metadata": {},
   "outputs": [],
   "source": []
  }
 ],
 "metadata": {
  "interpreter": {
   "hash": "cce2c426ce05bc79e1ebeea94540cc3910331f6fbd2039a14d006ff38ebf8df8"
  },
  "kernelspec": {
   "display_name": "Python 3 (ipykernel)",
   "language": "python",
   "name": "python3"
  },
  "language_info": {
   "codemirror_mode": {
    "name": "ipython",
    "version": 3
   },
   "file_extension": ".py",
   "mimetype": "text/x-python",
   "name": "python",
   "nbconvert_exporter": "python",
   "pygments_lexer": "ipython3",
   "version": "3.7.12"
  }
 },
 "nbformat": 4,
 "nbformat_minor": 2
}
