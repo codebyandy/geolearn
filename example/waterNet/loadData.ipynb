{
 "cells": [
  {
   "cell_type": "markdown",
   "metadata": {},
   "source": [
    "# load reference basins and streamflow data\n"
   ]
  },
  {
   "cell_type": "code",
   "execution_count": null,
   "metadata": {},
   "outputs": [],
   "source": [
    "from hydroDL.data import dbBasin\n",
    "dataName = 'QN90ref'\n",
    "DF = dbBasin.DataFrameBasin(dataName)\n"
   ]
  }
 ],
 "metadata": {
  "interpreter": {
   "hash": "cce2c426ce05bc79e1ebeea94540cc3910331f6fbd2039a14d006ff38ebf8df8"
  },
  "kernelspec": {
   "display_name": "Python 3.7.12 ('pytorch')",
   "language": "python",
   "name": "python3"
  },
  "language_info": {
   "name": "python",
   "version": "3.7.12"
  },
  "orig_nbformat": 4
 },
 "nbformat": 4,
 "nbformat_minor": 2
}
