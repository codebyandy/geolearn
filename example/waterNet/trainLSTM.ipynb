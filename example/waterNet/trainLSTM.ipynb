{
 "cells": [
  {
   "cell_type": "code",
   "execution_count": null,
   "metadata": {},
   "outputs": [],
   "source": [
    "from hydroDL import kPath\n",
    "from hydroDL.data import gageII, gridMET, dbBasin\n",
    "from hydroDL.master import slurm\n",
    "from hydroDL.master import basinFull"
   ]
  },
  {
   "cell_type": "code",
   "execution_count": null,
   "metadata": {},
   "outputs": [],
   "source": [
    "dataName = 'QN90ref'\n",
    "varX = gridMET.varLst\n",
    "mtdX = dbBasin.io.extractVarMtd(varX)\n",
    "varY = ['runoff']\n",
    "mtdY = dbBasin.io.extractVarMtd(varY)\n",
    "varXC = gageII.varLst\n",
    "mtdXC = dbBasin.io.extractVarMtd(varXC)\n",
    "varYC = None\n",
    "mtdYC = dbBasin.io.extractVarMtd(varYC)\n",
    "trainSet = 'WYB09'\n",
    "testSet = 'WYA09'\n",
    "rho = 365\n",
    "outName = '{}-{}'.format(dataName, trainSet)\n",
    "dictP = basinFull.wrapMaster(outName=outName, dataName=dataName,\n",
    "                             trainSet=trainSet,\n",
    "                             varX=varX, varY=varY, varXC=varXC, varYC=varYC,\n",
    "                             nEpoch=1000, batchSize=[rho, 100], nIterEp=10,\n",
    "                             mtdX=mtdX, mtdY=mtdY, mtdXC=mtdXC, mtdYC=mtdYC)\n"
   ]
  },
  {
   "cell_type": "markdown",
   "metadata": {},
   "source": [
    "Train the model locally"
   ]
  },
  {
   "cell_type": "code",
   "execution_count": null,
   "metadata": {},
   "outputs": [],
   "source": [
    "basinFull.trainModel(outName)"
   ]
  },
  {
   "cell_type": "markdown",
   "metadata": {},
   "source": [
    "Train the model on Sherlock"
   ]
  },
  {
   "cell_type": "code",
   "execution_count": null,
   "metadata": {},
   "outputs": [],
   "source": [
    "cmdP = 'python /home/users/kuaifang/GitHUB/geolearn/hydroDL/master/cmd/basinFull.py -M {}'\n",
    "slurm.submitJobGPU(outName, cmdP.format(outName), nH=24, nM=32)\n"
   ]
  }
 ],
 "metadata": {
  "language_info": {
   "name": "python"
  },
  "orig_nbformat": 4
 },
 "nbformat": 4,
 "nbformat_minor": 2
}
